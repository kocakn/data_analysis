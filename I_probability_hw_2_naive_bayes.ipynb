{
 "cells": [
  {
   "cell_type": "markdown",
   "metadata": {},
   "source": [
    "# Реализация наивного Байесовского классификатора"
   ]
  },
  {
   "cell_type": "code",
   "execution_count": 1,
   "metadata": {
    "scrolled": true
   },
   "outputs": [
    {
     "data": {
      "text/html": [
       "<div>\n",
       "<style scoped>\n",
       "    .dataframe tbody tr th:only-of-type {\n",
       "        vertical-align: middle;\n",
       "    }\n",
       "\n",
       "    .dataframe tbody tr th {\n",
       "        vertical-align: top;\n",
       "    }\n",
       "\n",
       "    .dataframe thead th {\n",
       "        text-align: right;\n",
       "    }\n",
       "</style>\n",
       "<table border=\"1\" class=\"dataframe\">\n",
       "  <thead>\n",
       "    <tr style=\"text-align: right;\">\n",
       "      <th></th>\n",
       "      <th>class</th>\n",
       "      <th>sms_text</th>\n",
       "    </tr>\n",
       "  </thead>\n",
       "  <tbody>\n",
       "    <tr>\n",
       "      <th>0</th>\n",
       "      <td>spam</td>\n",
       "      <td>Free entry in 2 a wkly comp to win FA Cup fina...</td>\n",
       "    </tr>\n",
       "    <tr>\n",
       "      <th>1</th>\n",
       "      <td>ham</td>\n",
       "      <td>U dun say so early hor... U c already then say...</td>\n",
       "    </tr>\n",
       "    <tr>\n",
       "      <th>2</th>\n",
       "      <td>ham</td>\n",
       "      <td>Nah I don't think he goes to usf, he lives aro...</td>\n",
       "    </tr>\n",
       "    <tr>\n",
       "      <th>3</th>\n",
       "      <td>spam</td>\n",
       "      <td>FreeMsg Hey there darling it's been 3 week's n...</td>\n",
       "    </tr>\n",
       "    <tr>\n",
       "      <th>4</th>\n",
       "      <td>ham</td>\n",
       "      <td>Even my brother is not like to speak with me. ...</td>\n",
       "    </tr>\n",
       "  </tbody>\n",
       "</table>\n",
       "</div>"
      ],
      "text/plain": [
       "  class                                           sms_text\n",
       "0  spam  Free entry in 2 a wkly comp to win FA Cup fina...\n",
       "1   ham  U dun say so early hor... U c already then say...\n",
       "2   ham  Nah I don't think he goes to usf, he lives aro...\n",
       "3  spam  FreeMsg Hey there darling it's been 3 week's n...\n",
       "4   ham  Even my brother is not like to speak with me. ..."
      ]
     },
     "execution_count": 1,
     "metadata": {},
     "output_type": "execute_result"
    }
   ],
   "source": [
    "import pandas as pd\n",
    "\n",
    "filename = 'data/sms_spam_collection.tar.gz'\n",
    "\n",
    "df = pd.read_csv(\n",
    "    filename,\n",
    "    compression='gzip',\n",
    "    header=1,\n",
    "    sep='\\t',\n",
    "    encoding='utf8',\n",
    "    names=['class', 'sms_text'],\n",
    "    error_bad_lines=False\n",
    ")\n",
    "\n",
    "\n",
    "df.head()"
   ]
  },
  {
   "cell_type": "code",
   "execution_count": 2,
   "metadata": {},
   "outputs": [
    {
     "data": {
      "text/html": [
       "<div>\n",
       "<style scoped>\n",
       "    .dataframe tbody tr th:only-of-type {\n",
       "        vertical-align: middle;\n",
       "    }\n",
       "\n",
       "    .dataframe tbody tr th {\n",
       "        vertical-align: top;\n",
       "    }\n",
       "\n",
       "    .dataframe thead th {\n",
       "        text-align: right;\n",
       "    }\n",
       "</style>\n",
       "<table border=\"1\" class=\"dataframe\">\n",
       "  <thead>\n",
       "    <tr style=\"text-align: right;\">\n",
       "      <th></th>\n",
       "      <th>class</th>\n",
       "      <th>sms_text</th>\n",
       "    </tr>\n",
       "  </thead>\n",
       "  <tbody>\n",
       "    <tr>\n",
       "      <th>5566</th>\n",
       "      <td>ham</td>\n",
       "      <td>Will ü b going to esplanade fr home?</td>\n",
       "    </tr>\n",
       "    <tr>\n",
       "      <th>5567</th>\n",
       "      <td>ham</td>\n",
       "      <td>Pity, * was in mood for that. So...any other s...</td>\n",
       "    </tr>\n",
       "    <tr>\n",
       "      <th>5568</th>\n",
       "      <td>ham</td>\n",
       "      <td>The guy did some bitching but I acted like i'd...</td>\n",
       "    </tr>\n",
       "    <tr>\n",
       "      <th>5569</th>\n",
       "      <td>ham</td>\n",
       "      <td>Rofl. Its true to its name</td>\n",
       "    </tr>\n",
       "    <tr>\n",
       "      <th>5570</th>\n",
       "      <td>NaN</td>\n",
       "      <td>NaN</td>\n",
       "    </tr>\n",
       "  </tbody>\n",
       "</table>\n",
       "</div>"
      ],
      "text/plain": [
       "     class                                           sms_text\n",
       "5566   ham               Will ü b going to esplanade fr home?\n",
       "5567   ham  Pity, * was in mood for that. So...any other s...\n",
       "5568   ham  The guy did some bitching but I acted like i'd...\n",
       "5569   ham                         Rofl. Its true to its name\n",
       "5570   NaN                                                NaN"
      ]
     },
     "execution_count": 2,
     "metadata": {},
     "output_type": "execute_result"
    }
   ],
   "source": [
    "df.tail()"
   ]
  },
  {
   "cell_type": "code",
   "execution_count": 3,
   "metadata": {},
   "outputs": [
    {
     "data": {
      "text/html": [
       "<div>\n",
       "<style scoped>\n",
       "    .dataframe tbody tr th:only-of-type {\n",
       "        vertical-align: middle;\n",
       "    }\n",
       "\n",
       "    .dataframe tbody tr th {\n",
       "        vertical-align: top;\n",
       "    }\n",
       "\n",
       "    .dataframe thead th {\n",
       "        text-align: right;\n",
       "    }\n",
       "</style>\n",
       "<table border=\"1\" class=\"dataframe\">\n",
       "  <thead>\n",
       "    <tr style=\"text-align: right;\">\n",
       "      <th></th>\n",
       "      <th>class</th>\n",
       "      <th>sms_text</th>\n",
       "    </tr>\n",
       "  </thead>\n",
       "  <tbody>\n",
       "    <tr>\n",
       "      <th>5565</th>\n",
       "      <td>spam</td>\n",
       "      <td>This is the 2nd time we have tried 2 contact u...</td>\n",
       "    </tr>\n",
       "    <tr>\n",
       "      <th>5566</th>\n",
       "      <td>ham</td>\n",
       "      <td>Will ü b going to esplanade fr home?</td>\n",
       "    </tr>\n",
       "    <tr>\n",
       "      <th>5567</th>\n",
       "      <td>ham</td>\n",
       "      <td>Pity, * was in mood for that. So...any other s...</td>\n",
       "    </tr>\n",
       "    <tr>\n",
       "      <th>5568</th>\n",
       "      <td>ham</td>\n",
       "      <td>The guy did some bitching but I acted like i'd...</td>\n",
       "    </tr>\n",
       "    <tr>\n",
       "      <th>5569</th>\n",
       "      <td>ham</td>\n",
       "      <td>Rofl. Its true to its name</td>\n",
       "    </tr>\n",
       "  </tbody>\n",
       "</table>\n",
       "</div>"
      ],
      "text/plain": [
       "     class                                           sms_text\n",
       "5565  spam  This is the 2nd time we have tried 2 contact u...\n",
       "5566   ham               Will ü b going to esplanade fr home?\n",
       "5567   ham  Pity, * was in mood for that. So...any other s...\n",
       "5568   ham  The guy did some bitching but I acted like i'd...\n",
       "5569   ham                         Rofl. Its true to its name"
      ]
     },
     "execution_count": 3,
     "metadata": {},
     "output_type": "execute_result"
    }
   ],
   "source": [
    "df = df.dropna(how='all')\n",
    "\n",
    "df.tail()"
   ]
  },
  {
   "cell_type": "markdown",
   "metadata": {},
   "source": [
    "Проверяем, сколько у нас всего объектов в датасете"
   ]
  },
  {
   "cell_type": "code",
   "execution_count": 4,
   "metadata": {},
   "outputs": [
    {
     "name": "stdout",
     "output_type": "stream",
     "text": [
      "5570 2\n"
     ]
    }
   ],
   "source": [
    "num_objects, num_features = df.shape\n",
    "print(num_objects, num_features)"
   ]
  },
  {
   "cell_type": "markdown",
   "metadata": {},
   "source": [
    "Целевая переменная (target) в столбце `class`"
   ]
  },
  {
   "cell_type": "code",
   "execution_count": 5,
   "metadata": {},
   "outputs": [
    {
     "data": {
      "text/plain": [
       "0    spam\n",
       "1     ham\n",
       "2     ham\n",
       "3    spam\n",
       "4     ham\n",
       "Name: class, dtype: object"
      ]
     },
     "execution_count": 5,
     "metadata": {},
     "output_type": "execute_result"
    }
   ],
   "source": [
    "df['class'].head()"
   ]
  },
  {
   "cell_type": "markdown",
   "metadata": {},
   "source": [
    "Демонстрация того, как получить булеву маску для датафрейма"
   ]
  },
  {
   "cell_type": "code",
   "execution_count": 6,
   "metadata": {},
   "outputs": [
    {
     "data": {
      "text/plain": [
       "0        True\n",
       "1       False\n",
       "2       False\n",
       "3        True\n",
       "4       False\n",
       "        ...  \n",
       "5565     True\n",
       "5566    False\n",
       "5567    False\n",
       "5568    False\n",
       "5569    False\n",
       "Name: class, Length: 5570, dtype: bool"
      ]
     },
     "execution_count": 6,
     "metadata": {},
     "output_type": "execute_result"
    }
   ],
   "source": [
    "SPAM_CLASS = 'spam'\n",
    "NOT_SPAM_CLASS = 'ham'\n",
    "\n",
    "df['class'] == SPAM_CLASS"
   ]
  },
  {
   "cell_type": "markdown",
   "metadata": {},
   "source": [
    "Использование булевой маски для фильтрации датафрейма "
   ]
  },
  {
   "cell_type": "code",
   "execution_count": 7,
   "metadata": {},
   "outputs": [
    {
     "name": "stdout",
     "output_type": "stream",
     "text": [
      "spam sms: 747, not spam sms 4823\n"
     ]
    }
   ],
   "source": [
    "spam_sms_num = (df['class'] == SPAM_CLASS).sum()\n",
    "notspam_sms_num = (df['class'] == NOT_SPAM_CLASS).sum()\n",
    "\n",
    "print(f'spam sms: {spam_sms_num}, not spam sms {notspam_sms_num}')"
   ]
  },
  {
   "cell_type": "markdown",
   "metadata": {},
   "source": [
    "##### Задача\n",
    "\n",
    "считаем вероятности классов"
   ]
  },
  {
   "cell_type": "code",
   "execution_count": 8,
   "metadata": {},
   "outputs": [
    {
     "name": "stdout",
     "output_type": "stream",
     "text": [
      "0.1341, 0.8659\n"
     ]
    }
   ],
   "source": [
    "# априорная вероятность класса спам\n",
    "p_spam = spam_sms_num / (spam_sms_num + notspam_sms_num)\n",
    "\n",
    "# априорная вероятность класса не спам\n",
    "p_notspam = notspam_sms_num / (spam_sms_num + notspam_sms_num)\n",
    "\n",
    "print(f'{p_spam:.4f}, {p_notspam:.4f}')"
   ]
  },
  {
   "cell_type": "markdown",
   "metadata": {},
   "source": [
    "Пример обработки текстовой информации - приводим к нижнему регистру"
   ]
  },
  {
   "cell_type": "code",
   "execution_count": 9,
   "metadata": {},
   "outputs": [
    {
     "data": {
      "text/plain": [
       "'free'"
      ]
     },
     "execution_count": 9,
     "metadata": {},
     "output_type": "execute_result"
    }
   ],
   "source": [
    "test_word = 'Free'.lower()\n",
    "\n",
    "test_word"
   ]
  },
  {
   "cell_type": "code",
   "execution_count": 10,
   "metadata": {},
   "outputs": [
    {
     "data": {
      "text/plain": [
       "\"Free entry in 2 a wkly comp to win FA Cup final tkts 21st May 2005. Text FA to 87121 to receive entry question(std txt rate)T&C's apply 08452810075over18's\""
      ]
     },
     "execution_count": 10,
     "metadata": {},
     "output_type": "execute_result"
    }
   ],
   "source": [
    "sms_example = df['sms_text'].values[0]\n",
    "\n",
    "sms_example"
   ]
  },
  {
   "cell_type": "markdown",
   "metadata": {},
   "source": [
    "Пишем полезные сниппеты для трансформации текста"
   ]
  },
  {
   "cell_type": "code",
   "execution_count": 11,
   "metadata": {},
   "outputs": [
    {
     "name": "stdout",
     "output_type": "stream",
     "text": [
      "!\"#$%&'()*+,-./:;<=>?@[\\]^_`{|}~\n",
      "0123456789\n"
     ]
    },
    {
     "data": {
      "text/plain": [
       "'Free entry in  a wkly comp to win FA Cup final tkts st May  Text FA to  to receive entry questionstd txt rateTCs apply overs'"
      ]
     },
     "execution_count": 11,
     "metadata": {},
     "output_type": "execute_result"
    }
   ],
   "source": [
    "# удаляем знаки препинания и цифры\n",
    "import string\n",
    "\n",
    "print(string.punctuation)\n",
    "print(string.digits)\n",
    "\n",
    "sms_example = ''.join([\n",
    "    char \n",
    "    for char in sms_example \n",
    "    if (\n",
    "        char not in string.punctuation \n",
    "        and \n",
    "        char not in string.digits\n",
    "    )\n",
    "])\n",
    "\n",
    "sms_example"
   ]
  },
  {
   "cell_type": "code",
   "execution_count": 12,
   "metadata": {},
   "outputs": [
    {
     "data": {
      "text/plain": [
       "'free entry in a wkly comp to win fa cup final tkts st may text fa to to receive entry questionstd txt ratetcs apply overs'"
      ]
     },
     "execution_count": 12,
     "metadata": {},
     "output_type": "execute_result"
    }
   ],
   "source": [
    "# приводим слова к нижнему регистру\n",
    "\n",
    "sms_example = ' '.join([\n",
    "    word.lower()\n",
    "    for word in sms_example.split()\n",
    "])\n",
    "\n",
    "sms_example"
   ]
  },
  {
   "cell_type": "markdown",
   "metadata": {},
   "source": [
    "Объединяем сниппеты в функцию"
   ]
  },
  {
   "cell_type": "code",
   "execution_count": 13,
   "metadata": {},
   "outputs": [
    {
     "name": "stdout",
     "output_type": "stream",
     "text": [
      "free entry in a wkly comp to win fa cup final tkts st may text fa to to receive entry questionstd txt ratetcs apply overs\n"
     ]
    }
   ],
   "source": [
    "import string\n",
    "\n",
    "def text_preprocess(sms_text: str) -> str:\n",
    "    \"\"\"Преобразование текста для анализа\"\"\"\n",
    "    text_no_punctuation = ''.join([\n",
    "        char \n",
    "        for char in sms_text \n",
    "        if (\n",
    "            char not in string.punctuation \n",
    "            and \n",
    "            char not in string.digits\n",
    "        )\n",
    "    ])\n",
    "    text_lowercase = ' '.join([\n",
    "        word.lower()\n",
    "        for word in text_no_punctuation.split()\n",
    "    ])\n",
    "    \n",
    "    return text_lowercase\n",
    "\n",
    "\n",
    "sms_example = df['sms_text'].values[0]\n",
    "\n",
    "print(text_preprocess(sms_example))"
   ]
  },
  {
   "cell_type": "markdown",
   "metadata": {},
   "source": [
    "Трансформируем каждую строчку датафрейма"
   ]
  },
  {
   "cell_type": "code",
   "execution_count": 14,
   "metadata": {},
   "outputs": [
    {
     "data": {
      "text/html": [
       "<div>\n",
       "<style scoped>\n",
       "    .dataframe tbody tr th:only-of-type {\n",
       "        vertical-align: middle;\n",
       "    }\n",
       "\n",
       "    .dataframe tbody tr th {\n",
       "        vertical-align: top;\n",
       "    }\n",
       "\n",
       "    .dataframe thead th {\n",
       "        text-align: right;\n",
       "    }\n",
       "</style>\n",
       "<table border=\"1\" class=\"dataframe\">\n",
       "  <thead>\n",
       "    <tr style=\"text-align: right;\">\n",
       "      <th></th>\n",
       "      <th>class</th>\n",
       "      <th>sms_text</th>\n",
       "      <th>processed_text</th>\n",
       "    </tr>\n",
       "  </thead>\n",
       "  <tbody>\n",
       "    <tr>\n",
       "      <th>0</th>\n",
       "      <td>spam</td>\n",
       "      <td>Free entry in 2 a wkly comp to win FA Cup fina...</td>\n",
       "      <td>free entry in a wkly comp to win fa cup final ...</td>\n",
       "    </tr>\n",
       "    <tr>\n",
       "      <th>1</th>\n",
       "      <td>ham</td>\n",
       "      <td>U dun say so early hor... U c already then say...</td>\n",
       "      <td>u dun say so early hor u c already then say</td>\n",
       "    </tr>\n",
       "    <tr>\n",
       "      <th>2</th>\n",
       "      <td>ham</td>\n",
       "      <td>Nah I don't think he goes to usf, he lives aro...</td>\n",
       "      <td>nah i dont think he goes to usf he lives aroun...</td>\n",
       "    </tr>\n",
       "    <tr>\n",
       "      <th>3</th>\n",
       "      <td>spam</td>\n",
       "      <td>FreeMsg Hey there darling it's been 3 week's n...</td>\n",
       "      <td>freemsg hey there darling its been weeks now a...</td>\n",
       "    </tr>\n",
       "    <tr>\n",
       "      <th>4</th>\n",
       "      <td>ham</td>\n",
       "      <td>Even my brother is not like to speak with me. ...</td>\n",
       "      <td>even my brother is not like to speak with me t...</td>\n",
       "    </tr>\n",
       "  </tbody>\n",
       "</table>\n",
       "</div>"
      ],
      "text/plain": [
       "  class                                           sms_text  \\\n",
       "0  spam  Free entry in 2 a wkly comp to win FA Cup fina...   \n",
       "1   ham  U dun say so early hor... U c already then say...   \n",
       "2   ham  Nah I don't think he goes to usf, he lives aro...   \n",
       "3  spam  FreeMsg Hey there darling it's been 3 week's n...   \n",
       "4   ham  Even my brother is not like to speak with me. ...   \n",
       "\n",
       "                                      processed_text  \n",
       "0  free entry in a wkly comp to win fa cup final ...  \n",
       "1        u dun say so early hor u c already then say  \n",
       "2  nah i dont think he goes to usf he lives aroun...  \n",
       "3  freemsg hey there darling its been weeks now a...  \n",
       "4  even my brother is not like to speak with me t...  "
      ]
     },
     "execution_count": 14,
     "metadata": {},
     "output_type": "execute_result"
    }
   ],
   "source": [
    "df = df.assign(\n",
    "    processed_text=df['sms_text'].apply(text_preprocess)\n",
    ")\n",
    "\n",
    "df.head()"
   ]
  },
  {
   "cell_type": "code",
   "execution_count": 15,
   "metadata": {},
   "outputs": [
    {
     "data": {
      "text/html": [
       "<div>\n",
       "<style scoped>\n",
       "    .dataframe tbody tr th:only-of-type {\n",
       "        vertical-align: middle;\n",
       "    }\n",
       "\n",
       "    .dataframe tbody tr th {\n",
       "        vertical-align: top;\n",
       "    }\n",
       "\n",
       "    .dataframe thead th {\n",
       "        text-align: right;\n",
       "    }\n",
       "</style>\n",
       "<table border=\"1\" class=\"dataframe\">\n",
       "  <thead>\n",
       "    <tr style=\"text-align: right;\">\n",
       "      <th></th>\n",
       "      <th>class</th>\n",
       "      <th>sms_text</th>\n",
       "      <th>processed_text</th>\n",
       "    </tr>\n",
       "  </thead>\n",
       "  <tbody>\n",
       "    <tr>\n",
       "      <th>5565</th>\n",
       "      <td>spam</td>\n",
       "      <td>This is the 2nd time we have tried 2 contact u...</td>\n",
       "      <td>this is the nd time we have tried contact u u ...</td>\n",
       "    </tr>\n",
       "    <tr>\n",
       "      <th>5566</th>\n",
       "      <td>ham</td>\n",
       "      <td>Will ü b going to esplanade fr home?</td>\n",
       "      <td>will ü b going to esplanade fr home</td>\n",
       "    </tr>\n",
       "    <tr>\n",
       "      <th>5567</th>\n",
       "      <td>ham</td>\n",
       "      <td>Pity, * was in mood for that. So...any other s...</td>\n",
       "      <td>pity was in mood for that soany other suggestions</td>\n",
       "    </tr>\n",
       "    <tr>\n",
       "      <th>5568</th>\n",
       "      <td>ham</td>\n",
       "      <td>The guy did some bitching but I acted like i'd...</td>\n",
       "      <td>the guy did some bitching but i acted like id ...</td>\n",
       "    </tr>\n",
       "    <tr>\n",
       "      <th>5569</th>\n",
       "      <td>ham</td>\n",
       "      <td>Rofl. Its true to its name</td>\n",
       "      <td>rofl its true to its name</td>\n",
       "    </tr>\n",
       "  </tbody>\n",
       "</table>\n",
       "</div>"
      ],
      "text/plain": [
       "     class                                           sms_text  \\\n",
       "5565  spam  This is the 2nd time we have tried 2 contact u...   \n",
       "5566   ham               Will ü b going to esplanade fr home?   \n",
       "5567   ham  Pity, * was in mood for that. So...any other s...   \n",
       "5568   ham  The guy did some bitching but I acted like i'd...   \n",
       "5569   ham                         Rofl. Its true to its name   \n",
       "\n",
       "                                         processed_text  \n",
       "5565  this is the nd time we have tried contact u u ...  \n",
       "5566                will ü b going to esplanade fr home  \n",
       "5567  pity was in mood for that soany other suggestions  \n",
       "5568  the guy did some bitching but i acted like id ...  \n",
       "5569                          rofl its true to its name  "
      ]
     },
     "execution_count": 15,
     "metadata": {},
     "output_type": "execute_result"
    }
   ],
   "source": [
    "df.tail()"
   ]
  },
  {
   "cell_type": "markdown",
   "metadata": {},
   "source": [
    "#### Задача\n",
    "\n",
    "Находим вероятность встретить слово в каждом из классов - это наша основная \"фича\" в наивном байесовском классификаторе"
   ]
  },
  {
   "cell_type": "code",
   "execution_count": 16,
   "metadata": {},
   "outputs": [
    {
     "name": "stdout",
     "output_type": "stream",
     "text": [
      "P(word=\"free\"|class=spam)=0.2664\n",
      "P(word=\"free\"|class=not_spam)=0.0137\n"
     ]
    }
   ],
   "source": [
    "# вероятность встретить слово в спам смс\n",
    "# посчитайте, сколько раз test_word встречается в документах класса spam\n",
    "spam_messages = df[df['class'] == SPAM_CLASS]['processed_text'].tolist()\n",
    "spam_test_word_entries = 0\n",
    "for message in spam_messages:\n",
    "    if test_word in message:\n",
    "        spam_test_word_entries += 1\n",
    "\n",
    "\n",
    "# вероятность встретить слово в не-спам смс\n",
    "# посчитайте, сколько раз test_word встречается в документах класса not_spam\n",
    "notspam_messages = df[df['class'] == NOT_SPAM_CLASS]['processed_text'].tolist()\n",
    "notspam_test_word_entries = 0\n",
    "for message in notspam_messages:\n",
    "    if test_word in message:\n",
    "        notspam_test_word_entries += 1\n",
    "\n",
    "        \n",
    "print(f'P(word=\"{test_word}\"|class=spam)={spam_test_word_entries/spam_sms_num:.4f}')\n",
    "print(f'P(word=\"{test_word}\"|class=not_spam)={notspam_test_word_entries/notspam_sms_num:.4f}')"
   ]
  },
  {
   "cell_type": "markdown",
   "metadata": {},
   "source": [
    "### Вывод\n",
    "\n",
    "слово \"free\" встречается в спам смс с вероятностью $26.6\\%$, а в не-спаме с вероятностью $1.3\\%$ - т.е. это слово является хорошим \"маркером\" спама"
   ]
  },
  {
   "cell_type": "markdown",
   "metadata": {},
   "source": [
    "# Реализовать классификатор\n",
    "\n",
    "Аналогично тому, как посчитали вероятности встретить слово `free` в каждом классе (спам / не спам) \n",
    "* в функции `fit()` подсчитать такие вероятности для каждого слова\n",
    "* в функции `predict()` по формуле байеса (см. лекцию) вычислять вероятность принадлежности входного текста к каждому из классов\n",
    "\n",
    "Результат предсказания - класс, вероятность принадлежности к которому больше"
   ]
  },
  {
   "cell_type": "code",
   "execution_count": 67,
   "metadata": {},
   "outputs": [],
   "source": [
    "from typing import List\n",
    "from copy import deepcopy\n",
    "from collections import defaultdict, Counter\n",
    "import numpy as np\n",
    "\n",
    "\"\"\"имплементация наивного байесовского классификатора\"\"\"\n",
    "class NaiveBayes:\n",
    "    def __init__(self):  # GOT IT\n",
    "        \n",
    "        self.labels = [NOT_SPAM_CLASS, SPAM_CLASS]\n",
    "        self.class_labels_proba = None  # априорная вероятность класса, словарь\n",
    "        self.prior_word_proba = None  # частоты фичей (токенов)\n",
    "        self.prediction = None  # выводить предсказания по желанию\n",
    "    \n",
    "    def _set_labels_prior_proba(self, data: list, target: list) -> None:  # GOT IT\n",
    "        \"\"\"Вычисление априорной вероятности классов\n",
    "        Вызов функции должен инициализировать массив self.class_labels_proba\n",
    "        \"\"\"\n",
    "        class_labels_amount = dict.fromkeys(self.labels, 0)\n",
    "        \n",
    "        for target_type in target:\n",
    "            class_labels_amount[target_type] += 1\n",
    "        \n",
    "        all_amount = len(data)\n",
    "        class_labels_proba = {}\n",
    "        for target_type, target_amount in class_labels_amount.items():\n",
    "            class_labels_proba.update({target_type: target_amount / all_amount})\n",
    "        \n",
    "        self.class_labels_proba = class_labels_proba\n",
    "    \n",
    "    def _tokenize_text(self, text) -> list:  # GOT IT\n",
    "        \"\"\"Функция, которая разобьёт входной текст на токены(слова)\"\"\"\n",
    "        return text_preprocess(text).split()\n",
    "    \n",
    "    def _set_word_prior_proba(self, data, target):\n",
    "        \"\"\"Вычисляем априорную вероятность токенов в классе\n",
    "        Заполняем словарь self.prior_word_proba[label][token]\n",
    "        \"\"\"\n",
    "        word_dict_by_class = dict.fromkeys(self.labels)\n",
    "        word_freq_by_class = dict.fromkeys(labels)\n",
    "        word_dict_all = defaultdict(int)\n",
    "        for target_type in target:\n",
    "            word_dict_by_class[target_type] = defaultdict(int)\n",
    "            word_freq_by_class[target_type] = defaultdict(int)\n",
    "\n",
    "        for target_type, message in zip(target, data):\n",
    "            for word in tokenize_text(message):\n",
    "                word_dict_by_class[target_type][word] += 1\n",
    "                word_dict_all[word] += 1\n",
    "\n",
    "        all_amount = sum(v for k, v in word_dict_all.items())\n",
    "        for target_type in target:\n",
    "            for word in word_dict_by_class[target_type]:\n",
    "                word_freq_by_class[target_type][word] = word_dict_by_class[target_type][word] / all_amount\n",
    "        \n",
    "        self.prior_word_proba = word_freq_by_class\n",
    "\n",
    "    def fit(self, data: list, target: list):\n",
    "        \"\"\"Обучение статистик по датасету\n",
    "\n",
    "        :param data: массив документов, каждый документ - объект типа str\n",
    "        :param target: массив меток объектов\n",
    "        :return:\n",
    "        \"\"\"\n",
    "        if not isinstance(data, list):\n",
    "            raise ValueError('Аргумент data должен иметь тип list')\n",
    "        if not isinstance(target, list):\n",
    "            raise ValueError('Аргумент target должен иметь тип list')\n",
    "        print('Данные инициализированы!')\n",
    "        self._set_labels_prior_proba(data, target)\n",
    "        print(f'Априорные вероятности классов {self.class_labels_proba}')\n",
    "        self._set_word_prior_proba(data, target)\n",
    "        print('Обучили априорные вероятности слов')\n",
    "        \n",
    "\n",
    "    def _predict_proba(self, data: list) -> List[tuple]:\n",
    "        \"\"\"Предсказываем класс для текстовой смс\n",
    "\n",
    "        :param data: массив документов, для каждого из которых нужно предсказать метку\n",
    "        :return: вероятности для каждого из классов\n",
    "        \"\"\"\n",
    "        prediction = []\n",
    "        for obj in data:\n",
    "            posterior_class_proba = defaultdict(lambda: 1)\n",
    "            for token in self._tokenize_text(obj):\n",
    "                for label in self.labels:\n",
    "                    posterior_class_proba[label] *= self.prior_word_proba[label][token]\n",
    "            # сохраняем для каждой метки класса - сколько меток, таков и размер tuple\n",
    "            prediction.append(\n",
    "                tuple(\n",
    "                    posterior_class_proba[label] for label in self.labels\n",
    "                )\n",
    "            )\n",
    "        self.prediction = prediction\n",
    "        return prediction\n",
    "    \n",
    "    def predict(self, data) -> List[str]:\n",
    "        predict_labels = []\n",
    "        for proba in self._predict_proba(data):\n",
    "            predict_labels.append(self.labels[np.argmax(proba)])\n",
    "        return predict_labels\n",
    "    "
   ]
  },
  {
   "cell_type": "code",
   "execution_count": 18,
   "metadata": {},
   "outputs": [],
   "source": [
    "naive_bayes = NaiveBayes()"
   ]
  },
  {
   "cell_type": "code",
   "execution_count": 19,
   "metadata": {},
   "outputs": [
    {
     "name": "stdout",
     "output_type": "stream",
     "text": [
      "83318\n",
      "Wall time: 24.4 s\n"
     ]
    }
   ],
   "source": [
    "%%time\n",
    "\n",
    "def tokenize_text(text):\n",
    "    \"\"\"Функция, которая разобьёт входной текст на токены(слова)\"\"\"\n",
    "    return text_preprocess(text).split()\n",
    "\n",
    "labels = [NOT_SPAM_CLASS, SPAM_CLASS]\n",
    "data=df['sms_text'].values.tolist()\n",
    "target=df['class'].tolist()\n",
    "\n",
    "word_dict_by_class = dict.fromkeys(labels)\n",
    "word_freq_by_class = dict.fromkeys(labels)\n",
    "word_dict_all = defaultdict(int)\n",
    "for target_type in target:\n",
    "    word_dict_by_class[target_type] = defaultdict(int)\n",
    "    word_freq_by_class[target_type] = defaultdict(int)\n",
    "\n",
    "for target_type, message in zip(target, data):\n",
    "    for word in tokenize_text(message):\n",
    "        word_dict_by_class[target_type][word] += 1\n",
    "        word_dict_all[word] += 1\n",
    "\n",
    "all_amount = sum(v for k, v in word_dict_all.items())\n",
    "for target_type in target:\n",
    "    for word in word_dict_by_class[target_type]:\n",
    "        word_freq_by_class[target_type][word] = word_dict_by_class[target_type][word] / all_amount\n",
    "    \n",
    "\n",
    "print(all_amount)"
   ]
  },
  {
   "cell_type": "code",
   "execution_count": 20,
   "metadata": {},
   "outputs": [
    {
     "name": "stdout",
     "output_type": "stream",
     "text": [
      "Данные инициализированы!\n",
      "Априорные вероятности классов {'ham': 0.8658886894075404, 'spam': 0.1341113105924596}\n",
      "Обучили априорные вероятности слов\n"
     ]
    }
   ],
   "source": [
    "naive_bayes.fit(\n",
    "    data=df['sms_text'].values.tolist(),\n",
    "    target=df['class'].tolist()\n",
    ")"
   ]
  },
  {
   "cell_type": "code",
   "execution_count": 21,
   "metadata": {},
   "outputs": [
    {
     "data": {
      "text/plain": [
       "(0.0003240596269713627, 1.2002208406346767e-05)"
      ]
     },
     "execution_count": 21,
     "metadata": {},
     "output_type": "execute_result"
    }
   ],
   "source": [
    "naive_bayes.prior_word_proba['ham']['thank'], naive_bayes.prior_word_proba['spam']['thank']"
   ]
  },
  {
   "cell_type": "markdown",
   "metadata": {},
   "source": [
    "Предсказание метки класса"
   ]
  },
  {
   "cell_type": "code",
   "execution_count": 63,
   "metadata": {},
   "outputs": [
    {
     "name": "stdout",
     "output_type": "stream",
     "text": [
      "proba: [(2.158008970272431e-69, 0.0), (5.633848990510728e-41, 0.0), (7.955909683019684e-25, 0.0)]\n",
      "\n",
      "So there's a ring that comes with the guys costumes. It's there so they can gift their future yowifes. Hint hint\n",
      "Predicted: ham, Real: ham\n",
      "\n",
      "She was supposed to be but couldn't make it, she's still in town though\n",
      "Predicted: ham, Real: ham\n",
      "\n",
      "Do you think i can move  &lt;#&gt;  in a week\n",
      "Predicted: ham, Real: ham\n"
     ]
    }
   ],
   "source": [
    "import numpy as np\n",
    "# рандомный объект датасета\n",
    "\n",
    "random_obj_ind = np.random.randint(low=0, high=num_objects, size=3)\n",
    "random_obj_list = df['sms_text'].values[random_obj_ind].tolist()\n",
    "random_target = df['class'][random_obj_ind].tolist()\n",
    "\n",
    "predicted_targets = naive_bayes.predict(random_obj_list)\n",
    "\n",
    "for i, msg in enumerate(random_obj_list):\n",
    "    print()\n",
    "    print(msg)\n",
    "    print(f'Predicted: {predicted_targets[i]}, Real: {random_target[i]}')"
   ]
  },
  {
   "cell_type": "code",
   "execution_count": 70,
   "metadata": {},
   "outputs": [
    {
     "name": "stdout",
     "output_type": "stream",
     "text": [
      "proba: [(0.0, 1.717898233826078e-87), (1.1006731715199278e-32, 0.0), (8.22576945279212e-40, 0.0), (0.0, 1.9966673138659407e-112), (2.2778409573534947e-47, 0.0), (3.3568552325271335e-86, 0.0), (0.0, 6.529014753601161e-78), (0.0, 4.501214445578862e-84), (2.413023139608172e-61, 0.0), (0.0, 8.010602415069607e-73), (0.0, 7.356168494287586e-79), (5.260313671625052e-107, 0.0), (1.1587731970539507e-21, 0.0), (0.0, 1.673875713844174e-69), (8.771312272281664e-15, 0.0), (1.0156025230202356e-56, 0.0), (4.028469960051747e-40, 0.0), (0.0, 2.1687281915949293e-78), (4.143092163039751e-24, 0.0), (3.0951441434669305e-33, 0.0), (1.0839765366399706e-33, 0.0), (1.3638821628699916e-55, 0.0), (1.6089059405255e-32, 0.0), (3.2030311712861458e-90, 0.0), (1.7719600511712965e-16, 0.0), (7.676480483454537e-80, 0.0), (1.6847241005947024e-43, 0.0), (1.2596183642661058e-37, 0.0), (2.684125378644069e-75, 0.0), (1.4862429758174589e-117, 0.0), (4.2904963172589396e-16, 0.0), (7.959690861669521e-51, 0.0), (0.0, 5.757377723849335e-97), (2.171754140349932e-80, 0.0), (1.7020960056140398e-26, 0.0), (4.236672230853915e-22, 0.0), (2.241137021648165e-12, 0.0), (5.524548728788313e-85, 0.0), (2.9725124178363414e-49, 0.0), (7.25248043546757e-75, 0.0), (0.0, 6.099177573478412e-84), (1.4034285567018384e-11, 0.0), (1.194618980352167e-36, 0.0), (1.711664665055417e-11, 0.0), (7.907318991447825e-27, 0.0), (9.879735748300505e-17, 0.0), (2.157583222325427e-41, 0.0), (4.0477199402789565e-89, 0.0), (5.78829335028765e-33, 0.0), (5.237460051518075e-71, 0.0), (3.1470631310704483e-52, 0.0), (9.595401065154039e-153, 0.0), (0.0, 2.4848628508622555e-89), (7.50345399885027e-39, 0.0), (0.0, 6.520781854279165e-86), (1.182253918077555e-16, 0.0), (4.576347637394197e-12, 0.0), (2.699402097671183e-26, 0.0), (2.4383074077729836e-62, 0.0), (9.623820059356187e-34, 0.0), (4.610828189159172e-19, 0.0), (1.0789720515626473e-33, 0.0), (2.093026922043295e-77, 0.0), (0.0, 6.097434630794478e-88), (3.6300300551018633e-69, 0.0), (0.0, 2.086606076561979e-74), (0.0, 6.384329889854652e-59), (5.037363591735341e-23, 0.0), (2.7583822902180894e-28, 0.0), (1.520550030558946e-14, 0.0), (2.2890251089853456e-29, 0.0), (5.279836623291206e-22, 0.0), (4.757602374781655e-12, 2.227079891350598e-15), (2.2131065602153704e-25, 0.0), (1.3394188826327779e-40, 0.0), (2.5604777473506216e-33, 0.0), (5.530361023470681e-22, 0.0), (3.738699228429749e-47, 0.0), (2.3389978384943477e-11, 0.0), (2.9107240862353294e-21, 0.0), (1.2035980098046555e-24, 3.096676462709682e-36), (6.028959360684169e-22, 6.327282625801699e-31), (1.2653524260277346e-10, 0.0), (1.0465419180151488e-30, 0.0), (9.67142956453445e-72, 0.0), (4.4298706691554253e-91, 0.0), (1.2799492279422411e-23, 7.316773935197849e-35), (5.910321769521819e-26, 0.0), (1.9045003663683415e-35, 0.0), (5.657794810446712e-110, 0.0), (2.0748519302798853e-83, 0.0), (0.0, 4.117759265866128e-61), (1.1716585982226152e-56, 0.0), (0.0, 6.460469855916815e-93), (2.201699698452268e-19, 0.0), (3.1124522875984943e-34, 0.0), (2.5969947326274566e-109, 0.0), (2.435148610843401e-22, 0.0), (6.766985470133843e-31, 0.0), (1.724356926770898e-67, 0.0), (2.7863839942643833e-44, 0.0), (3.3568552325271335e-86, 0.0), (2.634207752256448e-112, 0.0), (5.226356362597331e-31, 0.0), (5.975384050412471e-51, 0.0), (7.467046243046972e-28, 0.0), (1.2305371907804296e-48, 0.0), (1.7546041883256575e-69, 0.0), (6.451053659992622e-19, 0.0), (4.1246689627805413e-25, 0.0), (3.261094041933263e-15, 0.0), (4.911875907842738e-65, 0.0), (0.0, 1.143030179762067e-83), (2.0242295268925605e-85, 0.0), (2.641014714929163e-87, 0.0), (0.0, 6.102667922524635e-73), (6.789146342171663e-43, 0.0), (1.4176191146187593e-49, 0.0), (0.0, 1.61222732310209e-49), (0.0, 1.6674242463469892e-76), (1.4606453165069687e-26, 0.0), (0.0, 4.346854917133532e-78), (4.855225975823316e-34, 0.0), (1.2215677596478346e-25, 0.0), (2.501689818875363e-11, 2.520034073231048e-16), (6.867154203331512e-128, 0.0), (9.596886575424058e-13, 0.0), (3.563442714533064e-80, 0.0), (1.922065904353097e-17, 0.0), (1.0440961920497537e-05, 3.745378172363906e-09), (1.8918610252886393e-18, 0.0), (1.8253812026099677e-13, 4.3826679534453e-17), (0.0, 9.769277679758937e-85), (0.0, 9.814230466728629e-97), (1.1782756358022322e-20, 0.0), (3.008444502322395e-20, 0.0), (1.5251972596841432e-28, 0.0), (0.0, 1.7768915826656815e-107), (2.4443029734183934e-56, 0.0), (9.803909591687819e-22, 1.3316392612050633e-29), (1.4905337039109837e-15, 0.0), (2.7971153683939346e-90, 0.0), (3.772485994407191e-24, 8.259388055677689e-34), (3.519497707249926e-21, 2.032546302390647e-26), (1.4625284035727459e-31, 0.0), (0.0, 6.904376851815544e-103), (1.9896784629824374e-52, 0.0), (2.136927568053613e-20, 0.0), (2.1900603883822885e-22, 0.0), (3.515749648035585e-26, 0.0), (1.0778200413461176e-40, 0.0), (5.970588237850414e-14, 0.0), (3.3568552325271335e-86, 0.0), (5.0917580425165905e-231, 0.0), (6.911215060450099e-15, 0.0), (1.621903854287651e-14, 0.0), (4.557858930846734e-81, 0.0), (0.0, 1.1003964250727072e-57), (0.0, 1.4552515815251054e-72), (8.833320432150263e-66, 0.0), (6.433604941600036e-39, 0.0), (2.178414362356701e-49, 0.0), (0.0, 3.0446380828138094e-78), (0.0, 5.827953621301876e-104), (9.34414450610781e-33, 0.0), (0.0, 2.0253065997659116e-81), (9.061382823256797e-46, 0.0), (1.6387538077109903e-42, 0.0), (3.602013017848471e-33, 0.0), (8.063833387390971e-33, 0.0), (5.703671213129515e-58, 0.0), (9.313787821172028e-17, 0.0), (3.095603464681743e-66, 0.0), (1.2725464360178338e-32, 0.0), (3.2524019654185814e-38, 0.0), (3.88580958454125e-16, 0.0), (1.960671871289323e-78, 0.0), (8.78283095303491e-44, 0.0), (1.8311373011343648e-73, 0.0), (2.646582663694638e-91, 0.0), (1.5453880391063369e-16, 0.0), (7.793215679073117e-37, 0.0), (1.3213537549492267e-14, 0.0), (4.606985018043563e-14, 0.0), (5.979025010958511e-83, 0.0), (2.09469532850073e-20, 0.0), (0.0, 3.953776390087259e-65), (1.1169695237648658e-34, 0.0), (2.989409603259214e-57, 0.0), (0.0, 9.465620405819854e-39), (1.3991372707197338e-106, 0.0), (3.400571246594173e-19, 0.0), (9.500315090622203e-69, 0.0), (2.0573828573117476e-54, 0.0), (1.0143432982494338e-21, 0.0), (5.5435591499817986e-18, 0.0), (2.0127246112406716e-42, 0.0), (1.811728523913716e-77, 0.0), (6.500875485582106e-21, 0.0), (1.1277926155979221e-13, 0.0), (3.096574287266748e-53, 0.0), (9.38899597623454e-81, 0.0), (4.114911012961507e-13, 0), (5.417160862857081e-17, 0.0), (2.9814589069652584e-43, 0.0), (2.641014714929163e-87, 0.0), (3.550614355332074e-21, 0.0), (8.935718957585466e-43, 0.0), (1.1744602866792585e-25, 0.0), (2.1613446643753572e-42, 0.0), (1.7662168194419554e-17, 0.0), (1.8294731841931387e-08, 0.0), (2.687379110521203e-16, 0.0), (1.549347750040869e-16, 2.868898259446523e-22), (1.7297295017704657e-33, 0.0), (6.498645984724698e-30, 0.0), (2.0802534572942312e-24, 0.0), (2.3719143133411845e-19, 0.0), (1.4857381984959698e-93, 0.0), (1.8629598533258132e-17, 0.0), (5.570781947246709e-98, 0.0), (2.3389978384943477e-11, 0.0), (8.944158201407114e-80, 0.0), (0.0, 6.286597655541962e-59), (1.066791785294514e-34, 0.0), (0.0, 6.701140893289504e-107), (1.1880212173775249e-21, 0.0), (1.037277135532976e-88, 0.0), (3.6813570613998574e-21, 0.0), (1.1952721818258508e-65, 0.0), (4.528902526972412e-24, 0.0), (6.841739954314401e-20, 0.0), (4.0713747492970924e-26, 0.0), (0.0, 1.3617866791969507e-102), (3.444871576435561e-26, 0.0), (5.267558797526782e-43, 0.0), (1.4701136587980116e-22, 0.0), (7.287647194326595e-78, 0.0), (0.0, 1.4533753905394157e-74), (1.9727954647088296e-33, 0.0), (2.0788620650842896e-27, 0.0), (1.6640334902127083e-47, 0.0), (1.1612518608053036e-97, 0.0), (4.3141662009378995e-19, 0.0), (1.6197780507899227e-43, 0.0), (1.1726915999649152e-19, 1.8294243925737214e-26), (8.377376144814368e-23, 0.0), (3.093988610381113e-83, 0.0), (0.0, 9.226704644155926e-61), (2.0531661617912874e-32, 0.0), (6.199809912072367e-113, 0.0), (1.682029161433037e-13, 0.0), (9.099313602497406e-113, 0.0), (1.9101388757322e-21, 0.0), (5.165073360844436e-53, 0.0), (3.556273757799322e-31, 0.0), (1.1906578796282021e-17, 5.106645103070512e-25), (0.0, 4.370011667086662e-79), (3.3507194164972184e-42, 0.0), (0.000516094961472911, 0), (1.5804171647897473e-53, 0.0), (2.421955886629943e-30, 0.0), (0.0, 1.117799346621957e-78), (7.653007286607897e-18, 0.0), (2.4520552402193816e-24, 0.0), (1.8724193045973155e-30, 0.0), (0.0, 1.0995395705397339e-85), (4.442259276249035e-29, 0.0), (0.0, 4.539619941478962e-82), (7.274434786302669e-31, 0.0), (3.4416633115205892e-87, 0.0), (0.0, 3.031661994866317e-77), (8.87557167953272e-25, 0.0), (6.333423044104104e-20, 0.0), (0.00038407066900309655, 0), (1.1168816598784574e-31, 0.0), (1.6149484722431433e-18, 0.0), (2.173589501923741e-29, 0.0), (3.917433069538813e-33, 0.0), (7.26427011643731e-15, 0.0), (3.890464602656022e-72, 0.0), (5.1867824348857733e-20, 0.0), (0.0002280419597205886, 0), (1.4917758779487872e-73, 0.0), (3.0324037538179465e-37, 0.0), (0.003264600686526321, 6.001104203173384e-05), (8.324324139820441e-97, 0.0), (1.7565252161819402e-87, 0.0), (4.120039759365147e-76, 0.0), (8.813078311243827e-24, 0.0), (1.8992979002107698e-40, 0.0), (1.057219037678828e-12, 0.0), (1.534931554159426e-14, 0.0), (1.1182836949481964e-23, 0.0), (0.0, 2.2620330760530208e-86), (1.9941884253964344e-38, 0.0), (1.7583159152598042e-98, 0.0), (2.046564510136498e-29, 1.9508334795046129e-38), (8.404453805780684e-37, 0.0), (7.734757340796037e-51, 0.0), (7.538404019379279e-93, 0.0), (1.6235280127550042e-56, 0.0), (7.187955753899019e-17, 0.0), (0.0, 2.2076485148727046e-94), (1.3632917699525047e-31, 0.0), (2.510204757992982e-22, 0.0), (5.37904528730134e-44, 0.0), (0.0, 7.36293201003421e-86), (8.63239647891489e-33, 0.0), (2.0592310031060302e-90, 0.0), (0.0, 1.8035314087758703e-75), (2.7358079182036906e-68, 0.0), (2.198222952506978e-89, 0.0), (1.7300317638682087e-25, 1.0140040946102663e-36), (5.498074378662853e-13, 0.0), (6.0617224600722164e-80, 0.0), (3.029701877671432e-24, 0.0), (0.0, 5.115478600480832e-80), (3.3888481919566534e-14, 0.0), (1.1627193093529162e-29, 0.0), (3.4866235812799885e-38, 0.0), (6.081616172711034e-83, 0.0), (5.302384441735559e-91, 0.0), (4.725679411889361e-16, 0.0), (1.711664665055417e-11, 0.0), (1.998513397770607e-19, 0.0), (2.0390430089224212e-49, 0.0), (2.6685081427238396e-19, 0.0), (2.8108407783026254e-53, 0.0), (3.1121175728280295e-14, 0.0), (4.191593420792031e-40, 0.0), (0.0, 4.4851083361210826e-68), (1.2790906241037764e-127, 0.0), (0.0, 8.368419199232967e-88), (8.545029045067102e-25, 0.0), (2.7206986766280327e-34, 0.0), (7.520950801001074e-12, 0.0), (2.3389978384943477e-11, 0.0), (8.466167012616336e-23, 0.0), (9.138546531763989e-18, 0.0), (8.859765482363649e-91, 0.0), (4.33963976762809e-18, 0.0), (1.480698008702036e-18, 0.0), (6.486836151898666e-33, 0.0), (2.2579104572550213e-10, 0.0), (6.126415037031911e-62, 0.0), (4.5170198034583186e-18, 0.0), (0.0, 1.971424672860143e-69), (4.622619359818456e-43, 0.0), (2.2096870896967063e-32, 0.0), (1.0465846441580839e-41, 0.0), (1.9986605815615647e-88, 0.0), (4.86404393314647e-83, 0.0), (9.230818533373811e-25, 0.0), (1.465765056859538e-114, 0.0), (0.0, 9.226704644155926e-61), (0.0, 1.0014959495039866e-60), (9.940942352347276e-90, 0.0), (2.1397490870176233e-50, 0.0), (1.5436751263406033e-23, 0.0), (2.7815332611199506e-12, 0.0), (4.356147534145445e-19, 0.0), (1.0987696041653796e-46, 0.0), (8.293605425426404e-89, 0.0), (5.645308487130675e-34, 0.0), (0.0, 3.6004821747069064e-66), (0.0, 2.6778460057633693e-53), (5.806272313749804e-16, 0.0), (3.1132594998444792e-18, 1.5625578269862778e-24), (1.7083241884911983e-70, 0.0), (2.8561041073118826e-22, 0.0), (2.9114843617091826e-28, 0.0), (5.00995816644045e-99, 0.0), (0.0, 1.2077176836657931e-82), (7.624741297491132e-14, 0.0), (8.548757596740017e-30, 0.0), (6.708786413487579e-80, 0.0), (8.596790809248554e-25, 0.0), (8.492780498459342e-86, 0.0), (9.712424648777385e-169, 0.0), (5.196674276391982e-37, 0.0), (1.4979485297066922e-26, 0.0), (1.12523759268471e-23, 0.0), (0.0, 1.696061985354433e-69), (5.621806062609117e-20, 0.0), (4.5973042034316475e-16, 1.742957613999296e-19), (8.20434839808118e-20, 1.3093191905165035e-26), (0.0, 7.740401152898148e-74), (3.0708158666211444e-28, 0.0), (5.1482538316529844e-17, 0.0), (6.340988508099557e-47, 0.0), (5.639740382289933e-13, 0.0), (5.467735644458154e-75, 0.0), (5.92034358279713e-30, 0.0), (5.741746283947621e-57, 0.0), (1.7246507245803716e-71, 0.0), (2.893529435431155e-125, 0.0), (2.635001111829975e-100, 0.0), (1.7633753550613528e-56, 0.0), (0.0, 1.446293528317423e-85), (4.303579996992813e-25, 0.0), (2.427091541396496e-23, 0.0), (5.886401855386149e-28, 0.0), (4.072018386114034e-44, 0.0), (6.262037034476144e-41, 0.0), (1.8542297126149732e-100, 0.0), (6.6517021841924375e-28, 0.0), (2.420535889977357e-14, 0), (5.11139099420081e-72, 0.0), (8.315376979026192e-50, 0.0), (9.041585076199004e-20, 0.0), (3.099353288183517e-71, 0.0), (1.3192584593125992e-17, 0.0), (0.0, 1.274625929793675e-14), (5.0192027846505596e-20, 0.0), (1.6503123893116275e-20, 0.0), (0.0, 1.487124355520531e-52), (2.9361831432836925e-38, 0.0), (0.0, 8.641360704993195e-99), (5.028021602904944e-28, 0.0), (0.0, 1.1960244994501002e-83), (5.9750742585689235e-18, 0.0), (0.0, 8.397064563328348e-62), (5.5606371999726775e-114, 0.0), (3.006744269163766e-17, 0.0), (4.558010156252623e-12, 0.0), (5.3358375097497206e-24, 0.0), (1.2046151986938694e-43, 0.0), (3.255538197587439e-89, 0.0), (1.807534482283817e-15, 0.0), (4.462469786495606e-47, 0.0), (0.0, 2.103866574475996e-78), (1.8937607832926996e-15, 0.0), (2.3010700598555232e-33, 0.0), (1.5758265140399043e-41, 0.0), (7.57490394969264e-39, 0.0), (3.1317963419821502e-21, 0.0), (1.4575552684660496e-44, 0.0), (1.078209810432224e-25, 4.170590201445144e-36), (3.433859930301889e-55, 0.0), (5.314305158975317e-23, 0.0), (3.9228814054212874e-50, 0.0), (2.3389978384943477e-11, 0.0), (2.9289643867212296e-69, 0.0), (3.1842132104278125e-54, 0.0), (2.144287486333576e-40, 0.0), (8.900003941929798e-35, 0.0), (6.007870231125441e-24, 0.0), (4.276810284916849e-10, 0.0), (1.44053006629381e-10, 0), (4.184582143360696e-26, 4.612536220815257e-34), (7.420094785558729e-30, 0.0), (1.605883308592945e-61, 0.0), (0.0, 2.58087085593174e-82), (2.656975064817194e-34, 0.0), (1.279649632666659e-72, 0.0), (3.417137378690226e-89, 0.0), (1.2157954485210263e-48, 0.0), (1.194639411078044e-70, 0.0), (3.158762225985844e-39, 0.0), (4.151614350703916e-43, 0.0), (0.0, 2.0213674510063444e-89), (3.665903621945907e-18, 0.0), (1.1444285467251513e-20, 0.0), (2.428361403775654e-79, 0.0), (1.0910686990976974e-47, 0.0), (4.826446470843829e-23, 0.0), (1.1681701102698188e-28, 0.0), (5.678697577801179e-24, 0.0), (0.0, 9.578131226436497e-82), (7.358360611563177e-28, 0.0), (2.2687606347901574e-157, 0.0), (0.0, 1.4132491872089226e-95), (2.0135670900301515e-81, 0.0), (9.580894238570953e-33, 0.0), (9.14750185970249e-15, 0.0), (1.452588810327514e-18, 0), (6.021081456357887e-29, 4.700079057775777e-41), (9.605998364051842e-48, 0.0), (5.15576352027783e-20, 0.0), (7.60421134287156e-48, 0.0), (2.0692123950892147e-10, 0.0), (7.842538978283119e-32, 0.0), (7.228523034402722e-32, 0.0), (2.837569793072747e-29, 0.0), (0.0, 5.008021313652902e-70), (1.4591240688650434e-21, 0.0), (3.9366883966544815e-63, 0.0), (5.5473027723307405e-30, 0.0), (2.4088921429913626e-77, 0.0), (0.0, 6.520781854279165e-86), (1.5779673194025651e-16, 0.0), (3.7709340108694704e-16, 0.0), (2.3413274085486723e-19, 0.0), (9.927655057321417e-10, 0.0), (2.0732196944557981e-38, 0.0), (5.996959225930902e-33, 0.0), (5.05793599119615e-29, 0.0), (7.951143348520017e-16, 0.0), (1.3896867987561662e-96, 0.0), (2.084593473764529e-13, 0.0), (1.6048152950549875e-11, 0.0), (4.3242583331925805e-25, 0.0), (0.0, 1.001505156396172e-70), (3.2035627435098307e-74, 0.0), (5.213052044606983e-39, 0.0), (2.4195245939317904e-90, 0.0), (6.251898412970086e-11, 0.0), (1.1008082176415637e-60, 0.0), (2.392752382779902e-65, 0.0), (1.2185062901253258e-19, 0.0), (3.4116679471415243e-13, 0.0), (3.58830938688334e-16, 0.0), (0.0, 9.014868163801677e-79), (3.4087694099268593e-15, 0.0), (0.0, 1.7725661325347173e-99), (0.0, 2.6105004757770455e-49), (2.948761291712369e-105, 0.0), (1.512596318199986e-62, 0.0), (3.292309164552337e-29, 0.0), (4.1426167978886106e-17, 0.0), (2.5119507507323543e-19, 0.0), (9.198852315766975e-20, 0.0), (0.0, 6.149269497040437e-68), (1.3218065663220992e-37, 0.0), (0.0, 4.271264933375808e-81), (1.973816897871958e-26, 0.0), (0.0, 6.475591430015551e-69), (2.3576419388808405e-20, 0.0), (0.0, 3.4226066835774106e-45), (1.281762412254819e-19, 0.0), (2.2579104572550213e-10, 0.0), (7.536459520239e-09, 8.990561877058753e-14), (1.165070430693144e-103, 0.0), (3.6077950505196224e-90, 0.0), (9.723970809039094e-35, 0.0), (3.210416796965058e-51, 0.0), (2.9504810271386996e-47, 0.0), (8.839047013158536e-34, 0.0), (0.0, 5.013925475542296e-40), (5.342611136505935e-82, 0.0), (4.556714357920367e-47, 0.0), (6.137856254989592e-33, 0.0), (1.738189677105039e-83, 0.0), (3.0397338273332873e-12, 6.277258787486758e-16), (6.072267798769948e-88, 0.0), (1.786027837744243e-21, 0.0), (7.071975972494416e-10, 0.0), (5.6180510068249294e-61, 0.0), (2.23511963592892e-164, 0.0), (7.473279926889357e-31, 0.0), (2.919291058981645e-70, 0.0), (8.162710429100964e-88, 0.0), (5.7306186791108475e-95, 0.0), (1.1235540300693827e-40, 0.0), (1.73056335581312e-20, 0.0), (6.633174721880146e-21, 0.0), (1.5763835852891188e-37, 0.0), (9.106274501969356e-106, 0.0), (3.081675033929671e-17, 0.0), (5.880261808069465e-21, 0.0), (1.0888571025486716e-30, 0.0), (0.0, 1.143030179762067e-83), (2.237355601654023e-70, 0.0), (1.119286267683968e-71, 0.0), (1.210367531532041e-30, 0.0), (1.4257156766876656e-78, 0.0), (1.4796871804661097e-55, 0.0), (1.622742130727349e-19, 0.0), (1.163024642000248e-79, 0.0), (1.2561731336497537e-24, 0.0), (2.1819455944703964e-14, 4.2287876746657457e-19), (3.62215837498828e-11, 6.5731083182831075e-12), (5.088597409221205e-19, 0.0), (0.0, 1.9375362188267443e-27), (2.627182252966844e-61, 0.0), (1.0971132876245783e-22, 0.0), (0.0, 2.072111743276386e-59), (1.5581399606127396e-97, 0.0), (8.194881179137299e-30, 0.0), (7.181618359089005e-27, 0.0), (0.0, 5.9466312458983056e-80), (5.6335131838517e-40, 0.0), (3.8905611964523744e-55, 0.0), (1.2842069410889676e-41, 0.0), (7.79858712003779e-70, 0.0), (3.7189179729595484e-34, 0.0), (4.239983564830506e-24, 0.0), (6.520053952128189e-20, 0.0), (0.0, 8.569760513095154e-57), (0.0, 2.9326137026054595e-73), (0.0, 2.694347413263847e-51), (1.0218241024753977e-16, 0.0), (2.2134492629737587e-87, 0.0), (2.698688579240737e-14, 4.5660780718769934e-21), (1.7204822866461552e-20, 0.0), (0.0, 5.4426481913503425e-33), (7.40990053248441e-51, 0.0), (1.3047137146128297e-25, 0.0), (1.1049687219191816e-58, 0.0), (1.5498816868814122e-36, 0.0), (6.434944426774379e-26, 0.0), (4.365050592049455e-22, 0.0), (3.3885991767320254e-14, 0.0), (6.309228322568043e-18, 3.2825013855130135e-24), (0.0, 1.0133993185032563e-57), (2.2172086599458435e-52, 0.0), (1.180774415773639e-12, 0.0), (3.138336410071176e-39, 0.0), (0.0, 1.4253166444447643e-93), (1.9879145901201446e-90, 0.0), (1.1248789643623858e-12, 0.0), (4.6317202264312814e-73, 0.0), (1.8063686670034213e-37, 0.0), (1.718036700489282e-80, 0.0), (1.9153900474678801e-88, 0.0), (2.148408483286124e-12, 0.0), (3.871084814335125e-35, 0.0), (1.8466830595116005e-63, 0.0), (4.545220305779643e-21, 0.0), (8.515948575048579e-35, 0.0), (9.814761138891582e-54, 0.0), (1.369795748620415e-35, 0.0), (1.2729310761132722e-71, 0.0), (6.797786970925395e-42, 0.0), (2.4312619794975635e-45, 0.0), (2.1392542721949644e-67, 0.0), (0.0, 3.192111086415805e-74), (0.0, 9.859694916950021e-72), (1.4436326217412084e-22, 1.0084165506160485e-30), (3.889431178993287e-06, 2.2328216027554057e-08), (4.695991586072473e-33, 6.895385598745094e-46), (7.640430903091832e-41, 0.0), (0.0, 5.1714665044409015e-67), (9.26562748778864e-15, 0.0), (1.866888729585579e-56, 0.0), (9.299294519140997e-33, 0.0), (1.1348087169348625e-21, 0.0), (1.2715272397494687e-32, 0.0), (6.8038350126585195e-46, 0.0), (6.193480778405018e-82, 0.0), (1.0540191080290317e-25, 0.0), (1.922144322805649e-22, 0.0), (2.5616846150638933e-81, 0.0), (2.9176397008290824e-52, 0.0), (7.461774497242887e-44, 0.0), (0.0, 2.694347413263847e-51), (1.906389386247902e-21, 0.0), (0.0, 3.5671190657625525e-48), (9.056029362805018e-37, 0.0), (1.6614651354927175e-66, 0.0), (1.3580227637161428e-43, 0.0), (3.2876046864622496e-16, 0.0), (5.5435591499817986e-18, 0.0), (1.805260075559386e-25, 0.0), (1.9124970278528812e-106, 0.0), (6.028959360684169e-22, 6.327282625801699e-31), (2.2331208070455773e-51, 0.0), (0.0, 1.592498290698005e-20), (1.3938501536146774e-78, 0.0), (4.738593714512978e-15, 0.0), (2.666679374032425e-30, 0.0), (7.586627107421768e-23, 0.0), (2.894211031075479e-39, 0.0), (4.743656530368561e-35, 0.0), (4.984109908286846e-33, 0.0), (3.1716770556537785e-17, 0.0), (4.09525966083012e-15, 0.0), (5.885143293962913e-15, 7.567246844801484e-19), (7.088357009769798e-30, 0.0), (0.0, 2.8084606160173634e-63), (0.0, 1.8784349710564544e-87), (1.735911345346321e-80, 0.0), (5.82351524146334e-25, 0.0), (4.423553717150474e-24, 0.0), (3.9723242961120156e-46, 0.0), (2.123001319048963e-41, 0.0), (6.107965863634882e-17, 0.0), (7.294156683072792e-63, 0.0), (3.7463399936909926e-27, 0.0), (5.6463877588848846e-21, 0.0), (9.533565979114527e-16, 0.0), (0.0, 1.3267986573694577e-116), (1.5869955815568834e-54, 0.0), (1.7888122836685412e-14, 0.0), (3.073433867626878e-93, 0.0), (2.3483314968601686e-101, 0.0), (1.473298613963446e-26, 0.0), (5.345650100056614e-43, 1.624665419370743e-46), (1.6658122466686183e-13, 0.0), (1.0560402793054913e-56, 0.0), (5.082755992724096e-44, 0.0), (6.504216322244639e-46, 0.0), (8.136852238528989e-64, 0.0), (3.2702275899173668e-18, 0.0), (4.2326034960849615e-32, 0.0), (8.838237530783863e-48, 0.0), (2.8523927152385815e-21, 0.0), (2.58981913596902e-28, 0.0), (5.5138742974941335e-21, 0.0), (2.3389978384943477e-11, 0.0), (5.143477928929816e-43, 0.0), (5.578577810652955e-63, 0.0), (4.913956163307125e-48, 0.0), (1.6792929047863344e-46, 0.0), (9.527868538670884e-22, 0.0), (7.850728655915961e-31, 0.0), (0.0, 3.7956604179778293e-82), (0.0, 2.6941553257885005e-77), (7.857920560037844e-190, 0.0), (2.1081418093742613e-111, 0.0), (0.0, 4.0091451165039406e-15), (1.2677585096989088e-68, 0.0), (2.620637011228011e-30, 0.0), (4.785228888979353e-23, 1.4304752495364243e-33), (0.0, 6.223329037419925e-65), (3.7036329069877795e-71, 0.0), (0.0, 1.3684843085450832e-68), (9.630462794245645e-91, 0.0), (3.1545475992657465e-18, 2.6421872320490155e-25), (2.5350860522407304e-22, 0.0), (1.8759975797124492e-18, 0.0), (1.0800905871281824e-27, 0.0), (2.9789357441349683e-128, 0.0), (1.1854555375738263e-39, 0.0), (2.438776030223205e-96, 0.0), (3.834028683810403e-30, 0.0), (6.811267778403398e-41, 0.0), (2.171621491838788e-14, 0.0), (0.0, 1.7189711936265984e-53), (2.5050675782384717e-26, 0.0), (2.3446831901132317e-52, 0.0), (1.1300275125788144e-84, 0.0), (9.314996218985227e-59, 0.0), (3.7685237593161747e-19, 0.0), (3.398950375722652e-25, 0.0), (0.0, 2.5667612811351428e-79), (3.764548355540336e-15, 7.675606888682835e-21), (8.875952838313921e-97, 0.0), (4.939796953159911e-24, 1.1853651648499592e-33), (1.1196347600674661e-34, 0.0), (3.6127530574536285e-110, 0.0), (3.534263514764258e-23, 0.0), (3.601011334855604e-34, 0.0), (5.344120965529629e-26, 0.0), (7.98417338125895e-62, 0.0), (0.0, 3.6097377324100155e-70), (2.779372040012654e-60, 0.0), (7.321956489957804e-29, 0.0), (0.0, 1.0842328469869936e-67), (0.0, 2.2054630711391074e-31), (1.9325145136007737e-19, 0.0), (9.2127296034601e-18, 0.0), (3.613303112010994e-45, 0.0), (7.121044538948382e-15, 0.0), (5.451677930159954e-38, 0.0), (7.514536320952606e-63, 0.0), (1.2952829563653278e-18, 0.0), (6.142244080577206e-58, 0.0), (0.0, 2.5681631938377078e-48), (1.1817777353632015e-78, 0.0), (0.0, 3.237317436800016e-52), (6.014641036247509e-101, 0.0), (2.5765163526098507e-43, 0.0), (0.0, 1.4379219402957735e-74), (2.53812532336664e-60, 0.0), (2.3389978384943477e-11, 0.0), (2.046564510136498e-29, 1.9508334795046129e-38), (2.1660886334358922e-75, 0.0), (4.299411589399172e-34, 0.0), (2.840648208547633e-51, 0.0), (7.704296304387915e-54, 0.0), (3.846767354826877e-31, 0.0), (7.520950801001074e-12, 0.0), (3.585341256032101e-19, 0.0), (1.5987245697953684e-84, 0.0), (4.200421703089809e-74, 0.0), (2.570823977072897e-74, 0.0), (7.673859560013237e-15, 0.0), (1.1008082176415637e-60, 0.0), (8.805921409751229e-46, 0.0), (1.2002208406346767e-05, 0), (0.0, 2.022796976854147e-40), (9.622286564219705e-40, 0.0), (5.633848990510728e-41, 0.0), (2.1129122114456478e-74, 0.0), (0.0, 3.676785019283584e-84), (0.0, 1.7543804769133287e-77), (1.0143432982494338e-21, 0.0), (2.8283192686912918e-87, 0.0), (3.0567355981176545e-19, 0.0), (3.4074536049501236e-43, 0.0), (8.64473103606554e-45, 0.0), (3.0108996929649306e-50, 0.0), (1.4372743572122312e-24, 0.0), (0.0, 4.677369574582846e-81), (1.0432638547845268e-55, 0.0), (3.197188532131112e-23, 1.5263313350251378e-34), (1.0031677511685965e-22, 0.0), (0.0, 5.880933715339952e-82), (8.861312996995873e-44, 0.0), (0.0, 7.562162700407666e-81), (0.0, 8.511712145625011e-76), (1.5472284076156845e-14, 8.547775299873512e-21), (3.138288077435416e-20, 0.0), (2.4932181445009373e-33, 0.0), (3.5295988493439043e-20, 0.0), (7.504395760467176e-32, 0.0), (1.5591176591938744e-31, 0.0), (3.975862982970916e-08, 0), (2.158008970272431e-69, 0.0), (0.0, 1.5020028346098854e-66), (3.658005495917758e-16, 0.0), (0.0, 7.267005298712547e-84), (4.66388616750547e-23, 0.0), (8.749610200639483e-71, 0.0), (2.5302383607165462e-24, 0.0), (5.729287207881478e-15, 2.0586390302632436e-19), (1.5193816503420522e-77, 0.0), (4.6193789243104535e-74, 0.0), (6.7507579219973505e-18, 0.0), (0.0, 7.734459573710026e-78), (0.0, 4.371163835679986e-97), (4.09525966083012e-15, 0.0), (3.056901718533098e-23, 0.0), (7.499965042945586e-15, 0.0), (2.8415414619006766e-14, 0.0), (5.893076242052269e-55, 0.0), (2.4993396338506015e-44, 0.0), (0.0, 7.869850605553224e-83), (7.11326034620434e-88, 0.0), (0.0, 2.501241113924365e-74), (8.216885632083618e-129, 0.0), (1.1818262560824659e-15, 0.0), (1.749700373231784e-28, 0.0), (4.593212297243902e-80, 1.4910438164214355e-80), (2.0726444931425537e-215, 0.0), (0.0, 6.508596741623891e-87), (0.0, 1.573699577903653e-79), (7.248193795286342e-57, 0.0), (6.531598905880658e-41, 0.0), (1.3688852132139004e-41, 0.0), (0.0, 8.161609146749894e-68), (5.23153055734837e-12, 0.0), (3.077709250101726e-133, 0.0), (1.1692706724721825e-56, 0.0), (5.045444051058755e-38, 0.0), (4.304286370108747e-65, 0.0), (0.0, 4.271264933375808e-81), (5.104991499020912e-31, 0.0), (3.619026532671715e-36, 0.0), (2.5867427749714336e-35, 0.0), (4.351357493684482e-76, 0.0), (2.207791460734684e-54, 0.0), (0.0, 1.4792940230969487e-96), (5.263981957221662e-16, 1.3589641277336193e-20), (1.1948307358626755e-81, 0.0), (6.304603997365956e-16, 0.0), (2.912961450334473e-26, 0.0), (6.772052063173016e-22, 0.0), (2.9111220803291024e-15, 0.0), (2.4526926259802005e-56, 0.0), (1.5423434928130974e-48, 0.0), (3.801676195085471e-30, 0.0), (0.0, 4.932284156408503e-85), (7.419059920695417e-91, 0.0), (0.0, 6.467623834618801e-56), (0.0, 9.275730109615395e-111), (0.0, 3.210874806336153e-90), (1.3569598362270833e-56, 0.0), (9.818642485263278e-47, 0.0), (2.9664724140427716e-22, 9.30256717158263e-31), (1.5888244296058376e-49, 0.0), (7.965873299068154e-65, 0.0), (0.0, 1.4134049320057888e-94), (2.697309248357309e-23, 0.0), (0.0, 1.0695071533702513e-91), (0.0, 1.4533753905394157e-74), (0.0, 1.744371432990969e-79), (0.0, 3.229819618688148e-73), (1.1717253189325444e-162, 0.0), (1.7741576030449276e-49, 0.0), (1.7026200746466145e-19, 0.0), (5.9981269132517926e-52, 0.0), (3.457908414253366e-15, 0), (1.1308121110683185e-35, 0.0), (2.6039944706466483e-50, 0.0), (6.366009390640448e-12, 0.0), (8.88029234338213e-27, 0.0), (3.318890847367661e-14, 0.0), (3.910651309617191e-26, 0.0), (1.902980142334974e-41, 0.0), (5.38725782661697e-69, 0.0), (5.618169031262774e-47, 0.0), (8.855859681571982e-76, 0.0), (8.074874599434736e-27, 0.0), (1.0717069205632818e-94, 0.0), (4.214886472962772e-30, 0.0), (0.0, 6.460469855916815e-93), (2.9634184934638173e-71, 0.0), (6.701671900682285e-24, 0.0), (7.339169884360872e-45, 0.0), (1.0029578034001074e-30, 0.0), (3.731823936053459e-47, 0.0), (6.519292821879929e-28, 0.0), (0.0, 1.7582758223991985e-97), (7.679023628905193e-49, 0.0), (1.0000944034981047e-23, 0.0), (0.0, 4.93915455111185e-78), (5.2317083060974095e-90, 0.0), (5.428745299360607e-15, 0.0), (5.646616697760771e-94, 0.0), (1.9103013865199006e-34, 0.0), (9.804245334418256e-23, 1.2958212099577478e-29), (7.900952525095696e-45, 0.0), (1.032627766945418e-36, 0.0), (2.718575170441162e-81, 0.0), (1.5166075102344666e-53, 0.0), (2.151687083912373e-25, 3.1281796409307856e-35), (1.652961563263853e-16, 0.0), (2.3952616257885066e-35, 0.0), (1.5185303663625338e-30, 0.0), (1.5278292031397955e-42, 0.0), (2.577257524964536e-38, 0.0), (3.549016671271078e-25, 0.0), (3.4967224461354657e-60, 0.0), (3.733677419514642e-25, 0.0), (3.785025220727221e-16, 0.0), (0.0, 2.606392851482583e-75), (2.3375805925193e-59, 0.0), (2.1445133526344107e-69, 0.0), (2.1827480652227847e-22, 0.0), (4.1734980586754244e-43, 0.0), (0.0, 5.175212341175521e-75), (4.887574081722547e-18, 0.0), (8.825662112087471e-29, 0.0), (4.676057691101508e-13, 0.0), (0.0, 4.11343126185824e-65), (4.0837559915872745e-83, 0.0), (4.375751405549848e-82, 0.0), (1.1228113963640424e-45, 0.0), (0.0, 1.185777013082287e-86), (1.2810823735933583e-76, 0.0), (9.776220227456023e-131, 0.0), (9.53184124553791e-34, 0.0), (0.0, 4.75038784608396e-64), (1.3845768461875223e-85, 0.0), (2.4002265683954507e-24, 0.0), (6.936092738041172e-21, 2.4983735888330958e-30), (3.489100083868475e-21, 0.0), (2.1851700145623497e-17, 0.0), (2.5569442879599973e-83, 0.0), (5.06123709416556e-29, 0.0), (0.0, 3.972726648300822e-26), (1.3872381540894046e-73, 0.0), (1.6309616867263946e-72, 0.0), (4.58188013314736e-17, 0), (9.704156395923718e-69, 0.0), (0.00118821863222833, 2.4004416812693534e-05), (7.277902851496131e-23, 0.0), (0.0, 4.1757773821966075e-81), (2.9176397008290824e-52, 0.0), (3.2980851271967695e-54, 0.0), (1.534931554159426e-14, 0.0), (2.8238069696113765e-49, 0.0), (1.0777881727085393e-37, 0.0), (4.744462135434186e-129, 0.0), (1.3890827692297847e-23, 0.0), (1.0962095308888908e-35, 4.843558802642407e-47), (8.210346332536616e-64, 0.0), (1.5865445660970045e-19, 0.0), (6.77605400958512e-29, 0.0), (2.357272237492357e-14, 1.0618569505711785e-16), (1.3601722164239285e-17, 0.0), (4.369514607749228e-89, 0.0), (3.492474021862154e-16, 0.0), (2.524779830692211e-119, 0.0), (1.1139710964369532e-26, 0.0), (7.408128415692206e-27, 0.0), (1.33860483834798e-50, 0.0), (1.730434131025524e-38, 0.0), (0.0, 6.045847594894795e-75), (2.3139426208766542e-32, 0.0), (2.5801204235048947e-18, 0.0), (2.698741115807563e-28, 0.0), (3.611532291183974e-25, 0.0), (2.0480010312067632e-74, 0.0), (2.542975831387404e-92, 0.0), (6.15800275293492e-41, 0.0), (3.449263643217734e-11, 1.6425064967703493e-12), (2.064414650436027e-82, 0.0), (1.0839406662077186e-47, 0.0), (1.5873550693870986e-79, 0.0), (1.738549404255852e-17, 5.592997422174937e-25), (1.5784729136832646e-25, 0.0), (1.0169291794527445e-45, 0.0), (1.8187522427417229e-93, 0.0), (8.74773380391427e-78, 0.0), (8.103998853216651e-24, 0.0), (2.5897583361267684e-17, 0.0), (0.0, 3.953776390087259e-65), (3.433859930301889e-55, 0.0), (2.273471431648139e-23, 0.0), (1.8237431389309397e-16, 0.0), (4.8181209307567134e-24, 0.0), (0.0, 2.2177697059906637e-63), (1.1856502578819503e-80, 0.0), (1.6036580466015758e-16, 0.0), (1.4308508942017709e-62, 0.0), (1.3017117648943354e-59, 0.0), (6.54475016923858e-24, 0.0), (2.5294460013041586e-33, 0.0), (2.0783181512533448e-38, 0.0), (2.609688592987499e-23, 0.0), (5.2502307067665505e-71, 0.0), (0.0, 1.4636443936272903e-81), (2.6663661864409387e-26, 0.0), (5.759538444032627e-31, 0.0), (4.941505140360905e-19, 0.0), (1.5951588434270552e-126, 0.0), (0.0, 1.5238599759830977e-80), (1.2544464506456384e-13, 5.439685149656714e-18), (1.5023876511514383e-15, 0.0), (6.268902293719138e-30, 0.0), (7.375859336580505e-30, 0.0), (1.5680598792061583e-22, 0.0), (2.610581574714161e-25, 0.0), (3.2487267254186085e-31, 0.0), (1.351977327614926e-16, 2.4077201021433266e-23), (1.6594623507582924e-33, 0.0), (2.6020760817256585e-11, 0), (8.454487651365449e-18, 1.048215875603295e-24), (2.983088065728802e-75, 0.0), (5.8479156483144425e-74, 0.0), (1.3297200892193814e-81, 0.0), (5.042142617636277e-22, 0.0), (8.530125495768917e-77, 0.0), (1.8317669018208824e-91, 0.0), (1.0679787678016431e-30, 0.0), (8.141780006996674e-37, 0.0), (1.5108673440403032e-17, 0.0), (2.0802534572942312e-24, 0.0), (4.5650577569696183e-69, 0.0), (0.0, 2.0710188991074805e-56), (8.186978540670414e-10, 3.8036992556787026e-14), (6.634187784249132e-54, 0.0), (0.0, 6.403800159736763e-68), (3.7455638167258415e-52, 0.0), (0.0, 4.718576780724293e-80), (2.3196057220278825e-26, 0.0), (6.940281944431265e-36, 0.0), (2.6961435966562094e-76, 0.0), (5.953915675947404e-23, 0.0), (1.7485150074575402e-107, 0.0), (7.377643562345801e-14, 4.759517847541843e-18), (1.480810535785306e-11, 0.0), (1.6488829466223127e-13, 0.0), (2.164293405741041e-50, 0.0), (0.0, 1.9646137191988648e-107), (2.545177672995807e-28, 0.0), (4.852810293789961e-90, 0.0), (1.1563554426048776e-72, 0.0), (0.0, 7.513659317760771e-86), (4.971310994147623e-28, 0.0), (4.687715040656593e-17, 0.0), (1.1110290051058403e-26, 0.0), (1.0353129708359407e-36, 0.0), (0.0, 3.213086717952354e-79), (1.0166250737904898e-11, 0), (4.283949865159808e-26, 0.0), (0.0, 4.1757773821966075e-81), (0.0, 1.7297945025098998e-54), (2.962095704694068e-87, 0.0), (8.247215462031526e-27, 0.0), (6.676687284064764e-75, 0.0), (3.2052538191400333e-28, 0.0), (5.7413553675024535e-18, 0.0), (1.6970942446467826e-15, 0.0), (6.8570377045200805e-40, 0.0), (1.481042845237193e-39, 0.0), (9.000257420823873e-23, 7.231421215341564e-26), (4.2180960326259595e-12, 1.3611338188292942e-14), (5.482992971937142e-77, 0.0), (0.0, 0.0), (1.4120092838579515e-116, 0.0), (2.1135123594303873e-22, 0.0), (9.527668185411993e-14, 1.9071003238688655e-19), (0.0, 2.9646898325002363e-78), (5.93023870038961e-24, 0.0), (0.0, 3.2466265141075578e-68), (1.165964889729642e-46, 0.0), (3.4485447362642334e-12, 0.0), (8.854364744618331e-108, 0.0), (7.09713960527951e-39, 0.0), (3.457908414253366e-15, 0), (0.0, 4.9455110360507004e-88), (2.98549483738763e-88, 0.0), (4.729233096645779e-45, 0.0), (2.0485504582057506e-62, 0.0), (5.143573483863872e-47, 0.0), (1.3571796073313592e-63, 0.0), (9.964383843227007e-33, 0.0), (2.4084015090949817e-39, 0.0), (0.0, 6.115789980383669e-86), (8.925985645615779e-22, 0.0), (6.898075491785484e-83, 0.0), (4.739085704738135e-80, 0.0), (4.413105014871994e-62, 0.0), (9.130558236344372e-19, 0.0), (3.3067910374667135e-14, 8.129352732746836e-21), (1.4212814777629313e-35, 0.0), (4.1036746985959023e-23, 0.0), (1.6184282879592994e-39, 0.0), (6.794405473175481e-35, 0.0), (8.905410142634608e-34, 0.0), (3.736681426976554e-41, 0.0), (0.0, 7.316233694027749e-25), (2.984021608108715e-45, 0.0), (0.0, 5.187143051094824e-93), (2.2399542749243668e-21, 0.0), (1.5932191770127558e-82, 3.400205539260096e-83), (1.4116381921805097e-19, 0.0), (3.1881101199456884e-16, 0.0), (1.0979572997623581e-18, 0.0), (0.0, 1.5833638043304722e-90), (1.2209510012819735e-45, 0.0), (7.5589077215186e-77, 0.0), (0.0, 8.756059117762585e-56), (1.525848537229906e-34, 0.0), (8.809289404327687e-18, 0.0), (2.3389978384943477e-11, 0.0), (3.1881101199456884e-16, 0.0), (2.641014714929163e-87, 0.0), (1.6830773933864912e-41, 0.0), (1.4597039896805052e-22, 0.0), (0.0, 3.9518260575206616e-65), (5.472191228309842e-15, 0.0), (1.6805434893271365e-09, 0.0), (5.11139099420081e-72, 0.0), (5.484384690451606e-27, 0.0), (0.0, 1.370974949080218e-89), (1.191309954653902e-44, 0.0), (2.892991488001704e-49, 0.0), (1.8857843928387282e-70, 0.0), (0.0, 1.2089467242154614e-58), (6.364653181097686e-11, 5.145650601704187e-15), (1.4779956254259112e-28, 0.0), (2.4670370544945715e-41, 0.0), (3.8774588501508697e-17, 0.0), (2.714815676816171e-24, 0.0), (2.3389978384943477e-11, 0.0), (5.5836033808745305e-14, 0.0), (0.0, 6.195128279929103e-99), (1.3477882046336483e-45, 0.0), (1.5878362002809782e-52, 0.0), (1.5899421911741342e-44, 0.0), (3.046529167630266e-84, 0.0), (4.57523972715729e-16, 0.0), (8.514993922566156e-28, 0.0), (2.157895687831042e-23, 0.0), (3.373383225712259e-16, 7.159355861828038e-23), (0.0, 1.717898233826078e-87), (7.287647194326595e-78, 0.0), (3.6769256973944646e-30, 0.0), (3.461392730825506e-29, 0.0), (6.992299037541971e-20, 0.0), (8.26615228039123e-27, 0.0), (1.8568387499729274e-38, 0.0), (3.140615715395007e-92, 0.0), (2.0591587703303956e-44, 0.0), (0.0, 2.219936130556663e-107), (3.094885719283802e-15, 0.0), (2.7763384941518267e-21, 0.0), (1.666166234166039e-32, 0.0), (1.8605674514416068e-98, 0.0), (4.482774608672224e-106, 0.0), (6.075140762206668e-22, 0.0), (5.763975306364802e-42, 0.0), (3.64107974501166e-21, 2.541142395445218e-28), (9.971864473256122e-14, 0.0), (3.097990644864294e-16, 0.0), (1.895943459964152e-31, 0.0), (7.013129119985105e-25, 0.0), (4.263237305748966e-22, 0.0), (3.4917959167130504e-11, 0.0), (7.116286440467531e-23, 0.0), (2.9123255678728328e-46, 0.0), (8.604646435955641e-37, 0.0), (3.883357082151776e-32, 0.0), (5.121084385674495e-07, 2.304848106070096e-09), (1.2526971968722205e-36, 0.0), (1.1364318595626628e-80, 0.0), (0.0, 2.3116936654310358e-89), (1.5519092963169114e-09, 1.988297338195686e-13), (0.0, 4.518269992876654e-19), (2.461967470659785e-43, 0.0), (2.620637011228011e-30, 0.0), (1.3089279068229494e-102, 0.0), (1.4473668590483264e-67, 0.0), (1.3009383503186813e-21, 0.0), (4.0460780682592367e-13, 0.0), (5.198713223141939e-35, 0.0), (5.092361174690715e-31, 0.0), (0.0, 9.939478161639137e-78), (8.394416520625057e-80, 0.0), (0.0, 1.6621761793674787e-92), (1.665618132516201e-23, 0.0), (8.417232874553582e-19, 0.0), (2.0008230132033058e-19, 0.0), (7.646644489355581e-23, 0.0), (3.2623631746699385e-32, 0.0), (4.3845996198701974e-33, 0.0), (6.298237576222612e-75, 0.0), (1.29804381176357e-37, 0.0), (2.2839267881733128e-45, 0.0), (0.0, 4.518269992876654e-19), (3.0631131195109025e-40, 0.0), (1.2142482260142754e-26, 0.0), (7.638316694526896e-76, 0.0), (0.0, 9.314010002788192e-87), (6.510851669202398e-13, 0.0), (2.497258832891728e-26, 0.0), (7.526601694851453e-34, 0.0), (0.0, 1.4552515815251054e-72), (7.642976405807376e-42, 0.0), (0.0, 4.923129344419514e-85), (1.733467933126742e-28, 0.0), (0.0, 1.3157460105520382e-61), (3.4112996137501355e-24, 0.0), (1.0566397471000439e-41, 0.0), (2.2600048031965532e-30, 0.0), (1.7395738934221515e-15, 0.0), (3.985094686402816e-24, 0.0), (2.764898967329175e-78, 0.0), (1.1008082176415637e-60, 0.0), (4.013486055374015e-14, 3.3792603516516254e-20), (2.360558984766149e-28, 0.0), (5.204412793077689e-35, 0.0), (1.1689255641476274e-52, 0.0), (3.887439054470261e-37, 0.0), (7.3846937615108515e-31, 0.0), (2.6390647265541986e-32, 0.0), (6.635861161980843e-27, 0.0), (2.7028256022282054e-17, 0.0), (3.0593883972322283e-33, 0.0), (1.3791914333834853e-63, 0.0), (4.19596263534903e-40, 0.0), (1.2281876980169595e-95, 0.0), (1.0465419180151488e-30, 0.0), (2.9504810271386996e-47, 0.0), (4.9478547053723385e-36, 2.1857068226489653e-39), (3.295378226100565e-58, 0.0), (4.999736779757782e-56, 0.0), (1.2195275759271685e-15, 0.0), (1.936582187138921e-43, 0.0), (3.009736617480706e-28, 0.0), (3.739208099932382e-28, 0.0), (1.232045248904496e-16, 0.0), (9.697483347717836e-61, 0.0), (5.213648917405937e-45, 0.0), (4.333850299221941e-107, 0.0), (0.0, 7.754705861810328e-59), (1.0017272286670004e-28, 0.0), (2.0743436383045575e-19, 0.0), (1.4869315467150178e-76, 0.0), (9.609912487071943e-83, 0.0), (3.478276890748129e-27, 0.0), (0.0, 1.4815255568935018e-87), (6.379674424776005e-32, 0.0), (7.370794535182249e-56, 0.0), (5.756285951475349e-69, 0.0), (0.003264600686526321, 6.001104203173384e-05), (0.0, 3.0188968562957606e-38), (3.7578656242454653e-47, 0.0), (1.638323599142423e-15, 0.0), (3.931724856808021e-08, 0.0), (9.11620793024137e-25, 0.0), (2.243922373031832e-38, 0.0), (5.823069524490015e-41, 0.0), (2.448511857246044e-38, 0.0), (9.792963194109702e-29, 0.0), (6.516868832635323e-96, 0.0), (4.498175642784116e-14, 1.0280642474302413e-19), (3.186824355554013e-18, 0.0), (2.990997567835451e-22, 0.0), (4.7595066991734996e-94, 0.0), (9.603969453778204e-83, 0.0), (1.5174510650870806e-16, 1.3216554242627377e-22), (8.36346775475179e-39, 0.0), (4.2382654511910335e-44, 0.0), (9.514440031833247e-46, 0.0), (6.907364264413008e-101, 0.0), (3.6494332366852013e-25, 0.0), (2.276508695621032e-33, 0.0), (1.0084330860514291e-17, 0.0), (6.522657367639497e-30, 0.0), (4.3624492932879176e-29, 0.0), (7.033343026798856e-31, 0.0), (1.5230383393179807e-39, 0.0), (1.2981517067302535e-77, 0.0), (2.8914893426871833e-25, 0.0), (4.2650451621107155e-93, 0.0), (2.046564510136498e-29, 1.9508334795046129e-38), (3.8633634774488854e-23, 0.0), (8.289131579412883e-34, 0.0), (0.0, 2.654658095567391e-77), (0.0, 9.722954177672912e-87), (5.432035082500168e-36, 0.0), (1.9886747100266062e-21, 0.0), (1.6727269478341267e-62, 0.0), (1.829416032700833e-55, 0.0), (1.3952718407699715e-55, 0.0), (9.773147671947733e-26, 0.0), (4.43522936440895e-76, 0.0), (9.667729811286784e-95, 0.0), (7.04655567666558e-22, 0.0), (0.0, 1.5403172085846832e-84), (0.003264600686526321, 6.001104203173384e-05), (6.8058395649739565e-18, 1.0744199273161847e-24), (1.149886907302295e-32, 0.0), (1.0468765663924364e-30, 0.0), (8.341410609614952e-19, 1.758830077334902e-25), (5.985293022177235e-54, 0.0), (5.573767497420562e-86, 0.0), (7.687467759793345e-25, 0.0), (5.617346832499725e-19, 0.0), (0.0, 1.2618547042661589e-79), (1.4203188280397661e-27, 0.0), (3.560250901228227e-54, 0.0), (2.499918905641713e-20, 0.0), (7.477498080679721e-18, 0.0), (6.701550138975693e-24, 0.0), (1.236059970911955e-26, 0.0), (3.612654743043496e-97, 0.0), (2.009850969735975e-93, 0.0), (9.337832977373573e-54, 0.0), (1.254683414704008e-29, 0.0), (5.0158608436281964e-33, 0.0), (1.8395567144974823e-23, 0.0), (8.964054347963452e-17, 0.0), (3.3756855118267415e-67, 0.0), (1.9843693602958125e-21, 0.0), (3.517182906312865e-107, 0.0), (6.4098593946009426e-15, 0.0), (9.072493572771733e-36, 0.0), (3.31964169429265e-51, 0.0), (3.076536655368724e-16, 0.0), (1.4436050171741357e-31, 0.0), (0.0, 5.87995840898416e-91), (2.6918545782240742e-15, 0.0), (5.889304125029871e-21, 0.0), (2.035322326850747e-79, 0.0), (5.156956922785168e-29, 0.0), (7.167736820723104e-46, 0.0), (1.6970942446467826e-15, 0.0), (8.77524729054463e-55, 0.0), (1.927031506588237e-82, 0.0), (1.1529363052456083e-79, 0.0), (2.8811293467516865e-188, 0.0), (3.7930579325100054e-31, 0.0), (2.787962026624551e-39, 0.0), (3.5991627687425166e-20, 0.0), (1.045347085768495e-120, 0.0), (6.877586695824463e-67, 0.0), (0.0, 1.5137410055426167e-60), (9.555290846639706e-34, 0.0), (8.805742453138711e-68, 0.0), (8.113943051470542e-19, 0.0), (6.99739323214844e-20, 0.0), (2.3582597807506315e-29, 0.0), (1.9715441941935088e-57, 0.0), (1.5586434731817043e-70, 0.0), (0.0, 2.3751580558519774e-89), (0.0, 3.0181222091466243e-63), (4.819689672666693e-15, 0.0), (6.606498097569421e-30, 0.0), (0.0, 6.805207855361464e-70), (1.8399086332977738e-17, 0.0), (0.0, 9.314010002788192e-87), (3.0703527937448807e-22, 0.0), (2.1708015669477233e-92, 0.0), (1.3219083497212409e-52, 0.0), (3.756034289700025e-108, 0.0), (3.7102387388915173e-209, 0.0), (9.48884513002287e-68, 0.0), (8.045764770759683e-19, 0.0), (1.0852920182682212e-81, 0.0), (1.2985255966655898e-36, 0.0), (8.208634162064813e-79, 0.0), (8.816118972716342e-87, 0.0), (1.2483244347824261e-23, 0.0), (2.0718618793949455e-50, 0.0), (4.388430793957464e-06, 7.202650331469051e-10), (1.4973949684687523e-18, 0.0), (1.3394188826327779e-40, 0.0), (2.068944553936627e-15, 0.0), (1.11705515174714e-28, 0.0), (5.813599566398844e-29, 0.0), (5.545169889981682e-90, 0.0), (5.291450146532041e-55, 0.0), (6.134429993062227e-65, 0.0), (5.545169889981682e-90, 0.0), (1.591982265046579e-27, 0.0), (6.0521179918576094e-21, 0.0), (7.348055380288405e-12, 0.0), (0.0, 2.933596208919692e-88), (2.6333456699781083e-19, 0.0), (2.0389433845673528e-28, 0.0), (9.213441849126464e-16, 1.0360939757422437e-22), (1.8489460771296055e-19, 0.0), (2.088055893457072e-79, 0.0), (6.199809912072367e-113, 0.0), (0.0, 8.374059351221481e-67), (5.504881744778633e-34, 0.0), (1.0194889930884617e-53, 0.0), (2.3308943423165006e-23, 0.0), (8.844474613863439e-54, 0.0), (1.3662151661234323e-24, 0.0), (1.4962553811933298e-42, 0.0), (3.465995761575894e-22, 0.0), (7.79922690969093e-16, 7.065962576853967e-21), (0.0, 9.01367552395572e-72), (1.5612058096214076e-18, 0.0), (3.902049926598302e-18, 0.0), (2.826247689553428e-23, 0.0), (0.003264600686526321, 6.001104203173384e-05), (5.8136925381414525e-80, 0.0), (9.77303143431029e-97, 0.0), (0.0, 2.2053521323966907e-45), (1.281391356777821e-83, 0.0), (1.0802271985992306e-65, 0.0), (6.128313622784535e-25, 0.0), (7.731456186065723e-37, 0.0), (1.1500472907741104e-29, 0.0), (1.1217762346635264e-13, 0.0), (1.911464103226422e-65, 0.0), (1.3578205860621042e-45, 0.0), (3.0835496787195646e-22, 0.0), (6.788081151766764e-48, 0.0), (1.1269716696043357e-68, 0.0), (1.7531595660264567e-12, 0.0), (1.890691008641842e-28, 0.0), (0.0, 1.1138815558953628e-71), (5.0139672006673824e-14, 0), (7.369631872868627e-18, 0.0), (3.032417557357489e-98, 0.0), (6.229480256621403e-63, 0.0), (0.0, 4.865415247283014e-93), (7.996382397996941e-07, 2.0167420928113344e-09), (5.066282858264453e-17, 0.0), (4.61943145154158e-39, 0.0), (7.891785687904634e-18, 0.0), (1.7095899200068645e-11, 0.0), (2.782253935448002e-34, 0.0), (0.0, 1.839794822399593e-98), (8.639070027545512e-60, 0.0), (0.0, 7.956446825935993e-91), (1.3896867987561662e-96, 0.0), (0.0, 2.584450062292497e-51), (1.5764720397424356e-111, 0.0), (5.422737413086605e-35, 0.0), (0.0, 1.6875814785110976e-68), (2.3761883237365625e-68, 0.0), (2.4364884552239835e-84, 0.0), (0.0, 1.9162305215032642e-84), (9.38899597623454e-81, 0.0), (3.5189971692282266e-23, 0.0), (0.0, 1.1185251746184953e-104), (2.4046408327118397e-91, 0.0), (1.0667281723335141e-26, 0.0), (3.4952800342301037e-35, 0.0), (8.340495497725854e-46, 0.0), (2.276476875887589e-56, 0.0), (2.909351397347879e-82, 0.0), (7.384745902715492e-46, 0.0), (7.357732241745347e-54, 0.0), (2.417487859096273e-20, 0.0), (1.6942189377440602e-57, 0.0), (5.3522278091290546e-92, 0.0), (7.304124003484085e-19, 0.0), (2.5487555456853014e-20, 0.0), (0.003264600686526321, 6.001104203173384e-05), (2.9135950033894847e-78, 0.0), (2.3389978384943477e-11, 0.0), (4.0066205622159155e-77, 0.0), (4.7081617643312664e-89, 0.0), (4.317774678143982e-17, 0.0), (1.2247353159749367e-27, 0.0), (1.54866718449632e-12, 0.0), (3.1437315811080883e-87, 0.0), (0.0, 2.039810530369515e-66), (8.321323299086204e-43, 0.0), (2.5094139126758403e-42, 0.0), (1.7633865373287555e-68, 0.0), (1.045964611396096e-37, 0.0), (1.0113566679035122e-89, 0.0), (2.970147558241115e-31, 0.0), (5.654514810567215e-92, 0.0), (0.0, 4.563514118598694e-112), (1.2627395329358596e-22, 0.0), (0.0, 1.3129492804780542e-71), (8.87697423578146e-17, 0.0), (1.279560245492527e-15, 0.0), (7.55088954358719e-18, 0.0), (4.898508349893237e-38, 0.0), (8.948477976659094e-75, 6.651062776979938e-81), (6.199809912072367e-113, 0.0), (2.995624862961776e-30, 0.0), (6.403075801431767e-90, 0.0), (2.433949552642027e-47, 0.0), (3.6533149635288655e-64, 0.0), (1.905232847511989e-255, 0.0), (8.37547675461834e-22, 0.0), (1.953718254053152e-12, 0.0), (2.0052078004220772e-20, 0.0), (5.761212702655602e-29, 0.0), (0.0, 2.1784001233084437e-95), (2.6571028873485177e-27, 0.0), (6.504679047142143e-27, 0.0), (0.0, 1.275816644119662e-79), (5.730001904909849e-22, 0.0), (1.5604716689531695e-64, 0.0), (6.47099149009718e-10, 0.0), (4.812640577415403e-17, 0.0), (1.0905711654902426e-24, 0.0), (4.94633172792223e-84, 0.0), (8.902294280435766e-16, 0.0), (7.700997857656033e-21, 0.0), (2.6410884346419304e-30, 0.0), (4.621227794364586e-16, 0.0), (7.652165247326891e-32, 0.0), (2.5302774949744346e-98, 0.0), (2.673735617876515e-20, 0.0), (2.356699210244611e-11, 0.0), (0.0, 6.42471299692682e-80), (2.625837392036671e-56, 0.0), (1.2860699622467408e-28, 0.0), (5.332287512562554e-14, 0.0), (1.6951253775279763e-68, 0.0), (5.700445058489797e-22, 0.0), (1.2924935584219128e-143, 0.0), (7.856222824312768e-15, 0.0), (0.0, 4.489172720702449e-82), (4.5541929257341936e-35, 0.0), (6.972200645573373e-82, 0.0), (7.924707877360161e-22, 0.0), (4.854834452744906e-53, 0.0), (2.131717909212065e-15, 7.990352524361649e-24), (2.3651303876695837e-38, 0.0), (1.1084438742352203e-47, 0.0), (4.009657281900321e-29, 0.0), (1.4981512689455625e-05, 2.2328216027554057e-08), (7.992756560812753e-22, 0.0), (2.6451229273284806e-21, 0.0), (1.5233500680609796e-49, 0.0), (2.0353104251778993e-71, 0.0), (2.1720145455452945e-11, 0.0), (2.2130920426950903e-61, 0.0), (9.90001290997059e-65, 0.0), (1.5202919977262687e-56, 0.0), (4.954138439743633e-39, 0.0), (2.3890987922917914e-41, 0.0), (1.5962432914809642e-28, 0.0), (1.6920584513443644e-16, 0.0), (1.142555579771041e-81, 0.0), (1.9313477231127726e-19, 1.1503418429249737e-29), (8.199531910635005e-18, 0.0), (2.0592310031060302e-90, 0.0), (2.118384332132433e-22, 0.0), (8.51936203851175e-34, 0.0), (4.565279118172187e-18, 0.0), (0.0, 5.3305429570373505e-61), (0.0, 1.520249988109571e-73), (1.415230546443327e-70, 0.0), (6.526183112797729e-38, 0.0), (2.0682900813945964e-43, 0.0), (9.155464084023495e-116, 0.0), (1.1766900968865507e-228, 0.0), (7.55229442817394e-35, 0.0), (2.0116936938590984e-41, 0.0), (3.5474871573559717e-40, 0.0), (2.416182205909308e-30, 0.0), (2.7874181213216113e-50, 0.0), (2.3389978384943477e-11, 0.0), (1.7863101449076684e-191, 0.0), (6.177160514113676e-48, 0.0), (1.5549780939422685e-93, 0.0), (5.2857656448191e-20, 0.0), (4.956438773802865e-74, 0.0), (8.74461757654801e-76, 0.0), (1.4745851551696168e-15, 0.0), (1.0051746189258247e-29, 0.0), (0.0, 2.694347413263847e-51), (2.705588456275789e-85, 0.0), (7.953991259090377e-25, 0.0), (0.0, 2.0508399223891e-93), (0.0, 4.434466031187106e-65), (1.4864062154134823e-19, 0.0), (1.0993613452072586e-28, 0.0), (7.556366991323728e-15, 0.0), (1.4286725322945112e-80, 0.0), (2.1493666108654168e-13, 0.0), (3.3297137318429843e-76, 0.0), (1.9069321530742803e-62, 0.0), (2.5604522561332152e-14, 0.0), (2.346985283073664e-23, 0.0), (4.075356163992268e-62, 0.0), (7.173307677857662e-78, 0.0), (1.5185679857618376e-19, 1.4046733820099108e-25), (2.8945148807935886e-21, 0.0), (1, 1), (0.0, 8.164717225685393e-70), (1.2925726933575698e-20, 0.0), (1.5796393819584956e-36, 0.0), (5.730825740101481e-23, 0.0), (8.509888226195472e-77, 0.0), (7.904261184031826e-21, 0.0), (1.2052021263804852e-63, 0.0), (9.013276517620863e-27, 0.0), (6.356099099642714e-83, 0.0), (1.72786674408857e-80, 0.0), (0.0, 1.4533753905394157e-74), (4.041657983555649e-24, 0.0), (9.385588818031211e-36, 1.7741634475158692e-39), (7.766093137301667e-87, 0.0), (2.805685701276148e-14, 1.2606680198448264e-20), (0.0, 2.554012142741799e-75), (9.447118518231961e-21, 0.0), (1.6793063823256356e-48, 0.0), (3.362164622722435e-30, 4.3558298989597844e-44), (3.9628484868939243e-44, 0.0), (5.569655594684935e-86, 0.0), (1.3918360723194943e-24, 9.969263486124713e-34), (0.0, 7.351575865751026e-81), (6.646450334901967e-94, 0.0), (2.0360435018781444e-102, 0.0), (0.0, 7.362889135849174e-108), (4.78050771674849e-19, 0.0), (0.0, 3.294571094712847e-105), (1.3445528914210999e-24, 0.0), (5.2181189360966624e-83, 0.0), (1.1917329117688995e-14, 0.0), (3.5438672636182644e-23, 0.0), (9.60756793282245e-16, 0.0), (6.00072744376492e-22, 0.0), (4.437673912599377e-26, 0.0), (1.007411073110926e-80, 0.0), (3.1787893081625816e-81, 0.0), (4.577316868296913e-18, 0.0), (4.5014913099180145e-73, 0.0), (4.3137256199365584e-51, 0.0), (0.0, 2.0447498553694094e-55), (2.0975277042973292e-94, 0.0), (2.5765163526098507e-43, 0.0), (7.813844770015219e-17, 0.0), (4.323661035742642e-56, 0.0), (6.750154788757128e-35, 0.0), (0.0, 9.878300059396711e-67), (1.1426750303130862e-15, 0.0), (2.1028882351949838e-28, 0.0), (1.0973511778962982e-39, 0.0), (0.0, 1.0375432935693125e-88), (2.596196774239154e-18, 0.0), (1.3186186194778798e-15, 0.0), (1.1807036140466647e-81, 0.0), (3.025261310761991e-45, 0.0), (2.3831441784941777e-55, 0.0), (4.180750761508745e-16, 0.0), (9.76480062698758e-77, 0.0), (1.2002208406346767e-05, 0), (8.601560334888673e-15, 8.660755196120222e-17), (0.0, 1.3929615774404616e-82), (0.0, 1.1983243984979732e-45), (5.60266300740173e-24, 0.0), (6.458872445960581e-78, 0.0), (1.2310897871409841e-29, 0.0), (1.7016246840524102e-26, 0.0), (3.018730767399286e-91, 0.0), (3.6300300551018633e-69, 0.0), (2.7493521935905803e-13, 0.0), (1.3915520440398207e-07, 0.0), (1.3192474834061328e-77, 0.0), (2.0224456874584675e-27, 0.0), (4.725889907615986e-22, 0.0), (8.449548022011315e-20, 0.0), (0.0, 8.651258283223488e-91), (0.0, 4.736552778126954e-54), (4.572760912170096e-22, 0.0), (6.838220239898809e-21, 0.0), (0.0, 9.769277679758937e-85), (1.0178298735366254e-28, 0.0), (6.540270772162721e-56, 0.0), (2.239142015168334e-57, 0.0), (9.710609465378378e-46, 0.0), (3.176528822661832e-38, 0.0), (7.684840283921255e-51, 0.0), (1.9118354433794242e-36, 0.0), (0.0, 5.000598545074992e-88), (0.003264600686526321, 6.001104203173384e-05), (2.6310911211612676e-19, 0.0), (1.1891534683061414e-44, 0.0), (3.6602952351748845e-21, 0.0), (5.200394762860109e-21, 0.0), (8.424998157342063e-73, 0.0), (8.845706156215514e-58, 0.0), (1.113848366687141e-46, 0.0), (1.1768342539853966e-32, 0.0), (1.4335159273093985e-82, 0.0), (3.054628628792237e-44, 0.0), (1.233033938458607e-33, 0.0), (5.111168857884006e-29, 0.0), (1.2006586694251242e-48, 0.0), (0.0, 7.117100187969691e-77), (5.714148476148451e-16, 1.9432537339247532e-23), (2.0936725223202626e-41, 0.0), (9.741466438202883e-55, 0.0), (0.0, 7.756479138263699e-85), (1.6318136560783102e-32, 0.0), (4.501372695885283e-45, 0.0), (1.3896867987561662e-96, 0.0), (4.4237376823143596e-88, 0.0), (4.473649050753678e-34, 0.0), (8.022888860025164e-108, 0.0), (3.920428557908612e-18, 0.0), (3.536756062618982e-32, 0.0), (8.612739770794061e-85, 0.0), (3.646273549788156e-15, 0.0), (1.664261984530241e-69, 0.0), (8.278492479164761e-23, 0.0), (5.975074258568926e-18, 0.0), (6.944108328206649e-36, 0.0), (3.763828468421387e-15, 0.0), (0.0, 2.1941486807034823e-115), (1.63561880410605e-22, 0.0), (6.9645655728788e-21, 0.0), (1.009664623125392e-14, 0.0), (2.046564510136498e-29, 1.9508334795046129e-38), (3.8915282331052685e-21, 0.0), (2.905203396163181e-20, 0.0), (0.0, 2.057874415290321e-81), (2.5900251830471807e-39, 0.0), (1.0938655897625568e-96, 0.0), (1.1757410660177267e-23, 0.0), (0.0, 2.2156819296180065e-82), (3.8294599594993284e-106, 0.0), (6.143356034605353e-55, 0.0), (4.500882567731607e-18, 0.0), (1.1785583718695605e-87, 0.0), (4.5973132477116704e-18, 0.0), (4.814294342799762e-18, 0.0), (6.607471098497623e-61, 0.0), (1.4429578043415647e-20, 8.733417698155091e-26), (6.421743117062009e-35, 0.0), (3.711915107491474e-37, 0.0), (8.662841505833346e-20, 0.0), (4.790539230992459e-35, 0.0), (1.3879367156963256e-24, 8.741487614967485e-36), (3.4960973309986995e-11, 4.253678067088218e-15), (2.7559596800207827e-70, 0.0), (5.2228746466758975e-23, 0.0), (1.6829533968478235e-105, 0.0), (1.1003360017617447e-79, 0.0), (8.754499665959083e-43, 0.0), (0.0, 5.750231497709602e-69), (7.734638710016603e-59, 0.0), (0.0, 3.850076771582786e-87), (3.2021131139814216e-19, 9.414617830905248e-25), (4.7955983469147795e-40, 0.0), (1.2827904634562403e-77, 0.0), (2.9905621109756924e-36, 0.0), (1.1378718499808919e-20, 0.0), (2.2166212690963654e-87, 0.0), (4.288009889671017e-22, 0.0), (1.3485451957461246e-26, 0.0), (3.458394680187984e-25, 0.0), (0.0, 9.171756277965632e-10), (0.0, 1.1931977400426452e-91), (2.4046408327118397e-91, 0.0), (0.0, 2.58087085593174e-82), (0.0, 2.291668982470827e-87), (2.848286098944705e-14, 0.0), (2.3326091125879516e-30, 0.0), (2.617362677821345e-39, 0.0), (1.5549780939422685e-93, 0.0), (7.055443939629774e-24, 0.0), (1.3571237404011674e-88, 0.0), (2.709285643948003e-16, 0.0), (3.295381347615096e-23, 0.0), (2.580428501490931e-32, 0.0), (7.136673594654132e-61, 0.0), (2.0388890002055516e-95, 0.0), (0.0, 9.219139892209067e-92), (2.0751702606008055e-22, 0.0), (4.999725960008619e-18, 0.0), (1.1190133874894545e-90, 0.0), (9.648519374941179e-69, 0.0), (5.380393989748312e-22, 0.0), (1.543511775553553e-27, 1.0119126147665339e-38), (3.743880230991592e-29, 0.0), (3.4839281820788487e-68, 0.0), (4.437155418333757e-15, 0.0), (1.550052736099932e-17, 0.0), (2.302155534177343e-20, 5.253665484956308e-29), (8.831893189150394e-15, 0.0), (7.012883285670919e-28, 0.0), (0.0, 1.552448184690547e-79), (1.7233239590074354e-28, 0.0), (8.648023725368882e-82, 0.0), (2.7435373645651903e-23, 0.0), (1.4948610996877242e-33, 0.0), (2.8570534439168955e-55, 0.0), (8.765975989231455e-77, 0.0), (2.2469718247223254e-16, 4.435279211542759e-20), (2.008303676546924e-59, 0.0), (9.106710073612937e-36, 0.0), (1.7952647866776954e-27, 0.0), (9.129987595184202e-23, 0.0), (2.3131248027012917e-19, 0.0), (1.2158145793906983e-24, 0.0), (7.095820607173181e-39, 0.0), (3.385026929529578e-95, 0.0), (7.020216200579707e-27, 0.0), (1.4057674123209254e-51, 0.0), (8.960859856664668e-19, 2.324466188905207e-24), (5.482992971937142e-77, 0.0), (1.3909174992948346e-189, 0.0), (1.7492650273356446e-47, 0.0), (1.5023876511514383e-15, 0.0), (0.0, 1.2539609189770297e-92), (1.4135852579951084e-19, 0.0), (7.006381246721123e-38, 0.0), (1.3900983648197566e-18, 0.0), (1.6705196543813521e-13, 2.937326421229261e-20), (3.36269885909516e-36, 0.0), (8.526946164707293e-16, 0.0), (1.4506163471683783e-14, 6.519023595833604e-18), (9.846603589887837e-13, 0.0), (0.0, 2.405315722843418e-100), (1.8167755871298015e-115, 0.0), (1.4022428840831635e-47, 0.0), (1.1437779176635847e-16, 0.0), (2.098877528996053e-12, 0.0), (7.576437197615157e-22, 0.0), (8.440543198051542e-25, 0.0), (3.024314138910718e-52, 0.0), (4.7977596950428757e-70, 0.0), (0.0, 2.163980950003904e-70), (1.0313636577166711e-28, 0.0), (1.1726129339970732e-39, 0.0), (9.370189625277907e-36, 0.0), (5.911967290380051e-31, 0.0), (0.0, 1.3837767873664182e-81), (6.0143469924522e-56, 0.0), (4.177966346337402e-54, 0.0), (8.01670643261197e-30, 0.0), (9.153506109036816e-86, 0.0), (5.55621609719735e-82, 0.0), (9.752991609219035e-19, 8.591640080281005e-24), (3.2045728169455394e-23, 0.0), (6.785662845319471e-33, 0.0), (3.665472658071538e-30, 0.0), (0.0, 0.0), (8.168557535755231e-22, 0.0), (8.889887304129919e-23, 0.0), (5.9579731427459004e-52, 0.0), (4.534922780179699e-33, 0.0), (9.423181969303025e-99, 0.0), (9.511145484143264e-47, 0.0), (2.155443256813778e-19, 0.0), (5.668946382169804e-19, 0.0), (4.078148073094247e-53, 0.0), (1.0878042911631768e-37, 0.0), (0.0, 1.0405621773013038e-60), (0.0, 7.177662696644594e-70), (0.0, 3.031661994866317e-77), (1.1378718499808919e-20, 0.0), (2.2920216134360968e-64, 0.0), (4.397285269577047e-24, 0.0), (0.0, 1.4533753905394157e-74), (4.6803237636482554e-37, 0.0), (1.6025424583952447e-13, 0.0), (9.029015158551983e-18, 2.4199709441916274e-24), (2.7448913913722834e-62, 0.0), (5.618716492849259e-27, 0.0), (7.067954877191861e-41, 0.0), (0.0, 3.0152161662143164e-71), (0.0, 3.199192800696296e-67), (7.466141065682146e-54, 0.0), (2.1043446431074217e-22, 0.0), (1.6566146389991912e-52, 0.0), (3.333894358053193e-34, 0.0), (0.0, 3.122774740121015e-96), (7.477498080679721e-18, 0.0), (0.0, 1.0438434076227183e-114), (3.3762634212329807e-28, 0.0), (4.54916686463996e-77, 0.0), (3.8450534378118576e-29, 0.0), (4.0238563008416005e-17, 3.469481015291845e-24), (7.22941545283603e-14, 0.0), (5.5240969037310144e-46, 0.0), (2.3389978384943477e-11, 0.0), (1.22217044339303e-27, 0.0), (0.0, 2.3826050584418675e-82), (2.42274633039819e-35, 0.0), (8.367569302171727e-37, 0.0), (1.353890508642092e-54, 0.0), (3.8945981131752556e-13, 0.0), (8.46756141342923e-75, 0.0), (8.910666645675994e-24, 0.0), (4.3400831467121293e-75, 0.0), (7.162727784316635e-54, 0.0), (6.99109352176742e-52, 0.0), (2.456388423203733e-09, 3.926971150691546e-12), (0.0, 6.512436393119714e-87), (9.423113082815327e-34, 0.0), (4.53588785831256e-34, 0.0), (8.170408425456943e-41, 0.0), (8.66193672171787e-23, 0.0), (1.542514512055797e-113, 0.0), (2.4077022256830493e-17, 0.0), (4.1521483207073894e-27, 0.0), (5.732293248557837e-43, 0.0), (3.291834391863242e-50, 1.6120884188678051e-65), (0.003264600686526321, 6.001104203173384e-05), (1.9438869165509798e-37, 0.0), (7.758528569581313e-78, 0.0), (9.35966456336319e-21, 0.0), (0.0, 4.95099631764921e-65), (0.0, 2.784703889738407e-72), (6.703420396596414e-22, 0.0), (7.093387119257773e-22, 0.0), (4.139878109433416e-17, 0), (1.06592401792365e-15, 0.0), (2.306831767339939e-18, 0.0), (1.5850577313440066e-40, 0.0), (6.838464826414405e-41, 0.0), (1.471590549680915e-72, 0.0), (3.724049960595669e-31, 0.0), (0.0, 1.9926257311461394e-93), (9.610449011731707e-81, 0.0), (0.0, 1.322683579643443e-75), (2.6033723927625998e-24, 0.0), (5.490477047057248e-75, 0.0), (5.707996743771385e-43, 0.0), (6.01242823382843e-34, 0.0), (6.205966916235636e-42, 0.0), (3.282435926281171e-35, 0.0), (2.046564510136498e-29, 1.9508334795046129e-38), (5.9723171527248236e-18, 0.0), (7.530655179327468e-28, 0.0), (4.667917383511788e-37, 0.0), (4.103213687979308e-33, 0.0), (8.034700371957102e-44, 0.0), (2.2922684945047585e-16, 0.0), (2.1081788918242342e-42, 0.0), (2.6033723927625998e-24, 0.0), (9.020353866179628e-54, 0.0), (2.4179680293911627e-54, 0.0), (8.506360073277926e-15, 0.0), (0.0, 1.5238599759830977e-80), (4.851097400836003e-20, 0.0), (0.0, 4.22011843740982e-33), (3.602013017848471e-33, 0.0), (1.3014129742437896e-94, 0.0), (2.2550325213775713e-43, 0.0), (1.6335206193892568e-40, 0.0), (7.192370074019624e-45, 0.0), (2.0437593505755236e-38, 0.0), (0.0, 5.908736197033297e-66), (7.007105610643022e-10, 0.0), (3.2970613738288036e-15, 7.746794957088164e-20), (1.824930760585096e-89, 0.0), (1.2715272397494687e-32, 0.0), (1.249949514516841e-28, 0.0), (7.273554550568957e-18, 0.0), (7.724393895569831e-24, 0.0), (0.0, 1.293531605782593e-64), (1.1528225883603247e-54, 0.0), (8.59898300304396e-20, 0.0), (2.3389978384943477e-11, 0.0), (5.903704289950477e-47, 0.0), (1.4630091296131023e-41, 0.0), (3.255538197587439e-89, 0.0), (0.0, 9.872235028459775e-65), (5.7271109799351845e-84, 0.0), (1.2450761231378694e-19, 0), (1.711664665055417e-11, 0.0), (2.3389978384943477e-11, 0.0), (9.533974582674355e-31, 0.0), (1.8043183576636635e-65, 0.0), (7.162017516554282e-76, 0.0), (0.0, 5.619297113557864e-58), (3.309716318050311e-31, 0.0), (8.84183432000705e-20, 0.0), (4.1426167978886106e-17, 0.0), (4.4747193956080075e-24, 0.0), (9.12701682341986e-87, 0.0), (9.449165762049391e-58, 0.0), (1.7344693160505846e-29, 0.0), (2.341178207598257e-36, 0.0), (3.886710885911182e-23, 0.0), (0.0, 1.154405817935084e-96), (4.077254493104424e-46, 0.0), (5.93023870038961e-24, 0.0), (9.391225745530794e-41, 0.0), (7.494344003663851e-29, 0.0), (1.2763700219962224e-50, 0.0), (3.6159623638590406e-20, 0.0), (3.3920046320745235e-243, 0.0), (2.121439771364665e-41, 0.0), (4.428920978721926e-198, 0.0), (1.2215566753684121e-81, 0.0), (0.0, 1.941159766735245e-58), (7.317763928034911e-24, 0.0), (3.1858594444178254e-88, 0.0), (3.200083254952098e-25, 0.0), (9.113995614733327e-44, 0.0), (7.8027262625256e-19, 0.0), (2.282707584278228e-19, 0.0), (5.082074332242237e-31, 0.0), (5.970242591513273e-47, 0.0), (0.0, 2.363965593121393e-72), (2.493951758077458e-49, 0.0), (5.970236884011893e-23, 0.0), (1.7054166361714776e-41, 0.0), (3.1810459190462543e-37, 0.0), (2.1423719903264928e-63, 0.0), (2.9697358114354445e-27, 0.0), (4.595965192493595e-20, 0.0), (5.493310978827189e-50, 0.0), (4.2303149723873225e-48, 0.0), (3.0639778214689537e-37, 0.0), (2.6157350260049047e-16, 0.0), (5.448493540721819e-20, 0.0), (2.7381038842793662e-24, 0.0), (2.359561455534474e-28, 0.0), (5.386230690386958e-15, 5.76974832741462e-21), (7.181516147320796e-30, 0.0), (7.941975562745342e-77, 0.0), (1.006014254839277e-24, 0.0), (7.288503475561417e-24, 0.0), (7.268943514364605e-27, 0.0), (0.0, 7.740401152898148e-74), (7.691996010837154e-22, 6.432650949156225e-29), (9.541229023224628e-31, 0.0), (1.1452311103511274e-19, 0.0), (3.13347317751778e-32, 0.0), (6.520383193625069e-21, 0.0), (1.7768718972414332e-22, 0.0), (1.5162989020466755e-21, 0.0), (1.4461843929834942e-55, 0.0), (0.0, 5.376130120885614e-91), (3.8204315597640156e-81, 0.0), (3.236572479142812e-32, 0.0), (1.0132978295292505e-19, 0.0), (1.4968110920003035e-27, 0.0), (2.1922111337588345e-26, 0.0), (7.09350917327432e-23, 0.0), (3.0862147492658325e-37, 0.0), (3.6420461936596265e-25, 0.0), (1.4304486475066172e-52, 0.0), (2.2634987191284633e-15, 0.0), (0.0, 8.912070027423641e-72), (2.486979501025244e-202, 0.0), (1.0016113443482108e-34, 0.0), (9.726045816920444e-15, 0.0), (6.916634095052499e-23, 0.0), (9.5950459673343e-56, 0.0), (0.0, 7.351575865751026e-81), (0.0, 3.229783169688685e-107), (6.672450721278396e-19, 0.0), (6.698758557706365e-14, 0.0), (0.0, 1.3289023150774411e-87), (2.6529099709074474e-40, 0.0), (1.3294568359649324e-34, 0.0), (1.012043729774569e-23, 0.0), (1.9820445664322971e-84, 0.0), (0.0, 1.872689086181953e-09), (5.879849374491648e-18, 0.0), (6.433123113327241e-27, 0.0), (1.0270749336166866e-22, 0.0), (5.286709726841618e-10, 0.0), (1.3778184666905222e-43, 0.0), (9.708934520918313e-21, 0.0), (3.985214421865159e-32, 0.0), (2.763403937750259e-24, 0.0), (1.485465436598253e-88, 0.0), (0.0, 1.7503158505829208e-91), (2.5239329922519437e-201, 0.0), (1.112223764099064e-25, 0.0), (4.373770869026372e-28, 0.0), (5.434930963790494e-87, 0.0), (0.0, 5.584683329044321e-86), (0.0, 1.61222732310209e-49), (3.9395626751560945e-17, 0.0), (2.9365205401399325e-06, 7.490756344727812e-09), (2.4406065611625898e-27, 0.0), (7.286800394425895e-49, 0.0), (0.0, 1.4157942548424628e-78), (4.741093508975248e-33, 0.0), (2.442653942235044e-37, 0.0), (5.18686262138005e-15, 0), (1.4061701458062326e-55, 0.0), (1.2305888574420654e-76, 0.0), (2.704640167092933e-19, 0.0), (3.0867578939971266e-17, 4.9374874840313015e-25), (6.83629544711375e-100, 0.0), (0.0, 5.87995840898416e-91), (1.614619828096622e-22, 0.0), (2.994222573566272e-24, 0.0), (9.291543666657839e-96, 0.0), (0.0, 1.0572937600357416e-83), (6.452003086468617e-29, 0.0), (0.0, 2.1497458321298748e-105), (1.8312107887157113e-66, 0.0), (2.873165023205486e-23, 0.0), (1.4799702919463716e-33, 0.0), (0.0, 4.086436215090536e-80), (9.005240104535989e-23, 1.0878092852359305e-32), (9.222332348044063e-91, 0.0), (4.765892232124441e-119, 0.0), (5.998900841959235e-16, 0.0), (0.0, 1.001505156396172e-70), (2.5569442879599973e-83, 0.0), (3.8238883918147847e-44, 0.0), (4.050232405075238e-24, 0.0), (1.2392303190927427e-63, 0.0), (3.2990555267891863e-20, 0.0), (1.8354475472368542e-30, 0.0), (7.319537798683252e-29, 0.0), (2.4292021184548945e-60, 0.0), (0.0, 1.0536071768675999e-72), (1.4380293162037278e-222, 0.0), (1.33860483834798e-50, 0.0), (4.6318213942810166e-30, 0.0), (6.152060771450469e-18, 1.429594534699108e-24), (1.69456771371041e-17, 0.0), (2.6881668802037146e-16, 0.0), (7.482070144235178e-31, 0.0), (5.59798083936352e-26, 0.0), (2.0141492552181714e-22, 0.0), (5.505640645621776e-15, 0.0), (7.676358509297238e-102, 0.0), (0.0, 1.444967308570999e-98), (0.0, 2.1497458321298748e-105), (5.708606030919973e-16, 0.0), (6.66270522977473e-92, 0.0), (7.914218327770176e-15, 0.0), (1.5763780698494244e-21, 0.0), (4.878044952361441e-27, 0.0), (7.494905917026717e-39, 0.0), (7.536635862760452e-50, 0.0), (6.892739213759603e-21, 0.0), (1.4288531636964686e-30, 4.960930371533228e-42), (1.945053800541441e-18, 0.0), (2.4301129698153364e-72, 0.0), (0.0, 0.0), (6.263217773025333e-62, 0.0), (0.0, 9.757629290848606e-82), (9.369320294843144e-68, 0.0), (4.8907077237699645e-31, 0.0), (1.5586434731817043e-70, 0.0), (3.325193120133269e-99, 0.0), (1.2639781068042296e-29, 0.0), (1.3015452373042368e-14, 0.0), (2.3470280211078508e-23, 1.1195493085051111e-32), (2.8785798928046764e-18, 0.0), (1.3682089211485673e-26, 0.0), (0.0, 1.4134049320057888e-94), (1.594587399865781e-83, 0.0), (1.2534747375920717e-20, 0.0), (9.054989226361574e-32, 0.0), (1.0788775530793049e-33, 0.0), (7.15522274011988e-17, 0.0), (7.377643562345801e-14, 4.759517847541843e-18), (1.2778602940056485e-18, 0.0), (1.0475309415186541e-25, 0.0), (4.466103987107441e-103, 0.0), (1.847706924793767e-23, 0.0), (5.5168346998012066e-83, 0.0), (0.003264600686526321, 6.001104203173384e-05), (1.0977326115986358e-26, 0.0), (1.0936221757099136e-89, 0.0), (1.1188152686543139e-35, 0.0), (1.2137745424620256e-73, 0.0), (2.809954957398445e-59, 0.0), (5.859375790534137e-29, 0.0), (0.0, 2.9752918707657095e-80), (1.5809862725370072e-51, 0.0), (7.379212595109911e-65, 0.0), (1.5217788645786905e-28, 0.0), (3.0025110400618915e-59, 0.0), (1.6184215617235944e-49, 0.0), (8.510539722100072e-27, 2.1332220425967166e-34), (2.8731136908581795e-59, 0.0), (4.524507330343115e-24, 0.0), (4.1111385127344714e-15, 0.0), (4.208990259036507e-18, 2.739170743679048e-25), (1.2448358584053058e-20, 0.0), (1.0781477029524202e-26, 0.0), (6.060733486836985e-32, 0.0), (5.01595241237201e-38, 0.0), (3.4709645928265806e-35, 0.0), (2.5267502494133365e-52, 0.0), (1.1305654631209095e-85, 0.0), (0.0, 3.208935654032853e-76), (5.202550478766073e-67, 0.0), (0.0, 4.7411364863426144e-74), (3.4442451563907383e-13, 0.0), (1.4677730873254738e-43, 0.0), (7.758811823574325e-81, 0.0), (1.332655063329929e-33, 0.0), (1.0450715006503513e-32, 0.0), (2.6417970221310627e-37, 0.0), (1.2185062901253258e-19, 0.0), (1.4747645369469707e-40, 0.0), (8.855753797529646e-41, 0.0), (6.97619220199963e-42, 0.0), (0.0, 3.1738618946538853e-75), (1.3289536196727015e-46, 0.0), (4.204274821676689e-47, 0.0), (8.406957779605331e-92, 0.0), (0.0, 2.0081272770640618e-79), (1.4044094936554332e-49, 0.0), (2.843057703324347e-72, 0.0), (9.512465318593882e-23, 0.0), (3.5538193981864094e-19, 0.0), (1.7072318184829422e-18, 0.0), (6.185471755148289e-61, 0.0), (1.0300560314751306e-95, 0.0), (4.697623731044862e-84, 0.0), (7.649649452977854e-36, 0.0), (7.477498080679721e-18, 0.0), (5.018774606395583e-44, 0.0), (3.236270396472871e-85, 0.0), (9.481412584796805e-54, 0.0), (2.0238183576446518e-76, 0.0), (1.28333351680784e-60, 0.0), (4.130367104627857e-27, 0.0), (4.496640324571077e-19, 2.690923209364799e-26), (1.1450550079124605e-13, 0.0), (7.556330959700642e-60, 0.0), (3.5877746371191e-43, 0.0), (1.4263872208795138e-12, 0.0), (1.1680160024972244e-42, 0.0), (0.0, 3.4908777422148316e-125), (0.0, 1.4891603358609018e-96), (4.483195800778345e-16, 0.0), (0.0, 3.8489106143727853e-79), (1.129441360407594e-66, 0.0), (4.041374801168176e-67, 0.0), (6.397584169827156e-31, 0.0), (1.7716011492143442e-18, 0.0), (4.010461171041881e-15, 0.0), (4.3331404076688265e-92, 0.0), (1.491906317096273e-33, 0.0), (2.4521551125605874e-28, 0.0), (8.137460980478182e-94, 0.0), (1.0696165850281471e-20, 0.0), (0.0, 2.774126998833658e-96), (1.1228596998618454e-46, 0.0), (2.019486759694523e-17, 0.0), (0.0, 4.3382789943384447e-103), (1.8568387499729274e-38, 0.0), (2.046564510136498e-29, 1.9508334795046129e-38), (0.0, 3.394624707224257e-60), (2.5415626844762246e-09, 0.0), (2.4652507238129815e-15, 8.61966200048347e-16), (1.0767290706239728e-15, 0.0), (2.3498043052199467e-19, 0.0), (4.8231091877881354e-82, 0.0), (8.376276706397261e-38, 0.0), (2.6861991339758e-16, 0.0), (2.1798217804709735e-56, 0.0), (1.3424304290308947e-28, 0.0), (9.14750185970249e-15, 0.0), (3.551262065988983e-74, 0.0), (5.684120025496096e-37, 0.0), (1.182253918077555e-16, 0.0), (1.6664158239027118e-18, 0.0), (2.8873238207136245e-34, 0.0), (3.719525568215868e-17, 0.0), (1.7279743715970305e-22, 0.0), (2.541216968339367e-14, 0.0), (2.5958820171579013e-58, 0.0), (2.4110503507455732e-60, 0.0), (4.7678887888022754e-73, 0.0), (1.9129881770716034e-14, 1.6983771999671756e-16), (0.0, 1.3474548834291673e-79), (1.152102386949751e-39, 0.0), (5.3986692115025465e-28, 0.0), (1.526944756401308e-13, 0.0), (2.897059035618744e-50, 0.0), (1.4750510237970243e-16, 4.819487992401765e-18), (1.9692473142755612e-79, 0.0), (0.0, 5.190561906847909e-87), (1.7445431565401518e-17, 0.0), (1.8553381801505892e-37, 0.0), (0.0, 6.520781854279165e-86), (9.90978728694931e-48, 0.0), (3.2448859979619866e-22, 0.0), (6.33490521927248e-23, 0.0), (1.3352223282948146e-36, 0.0), (2.272936235576955e-88, 0.0), (2.36588104805741e-36, 0.0), (8.103826962667451e-15, 0.0), (0.0, 9.939478161639137e-78), (0.0, 1.1311739198212476e-103), (8.688342051198105e-39, 0.0), (0.0, 6.42471299692682e-80), (0.0, 1.1389204823094678e-75), (0.0, 5.08995691766417e-55), (2.60420180044379e-15, 1.2743879423822276e-21), (1.7504001046011743e-49, 0.0), (5.86255470186437e-17, 0.0), (5.1131452409654595e-27, 0.0), (2.8726414104759143e-118, 0.0), (6.486131499606089e-16, 6.092343376919398e-23), (1.2290686447296458e-18, 2.032954163419105e-26), (8.40803825748796e-27, 0.0), (0.003264600686526321, 6.001104203173384e-05), (1.6202222154847347e-14, 0.0), (1.2751457090941755e-54, 0.0), (6.269186848510662e-06, 0.0), (2.6769136647464194e-18, 0.0), (1.5873550693870986e-79, 0.0), (0.0, 6.667918242146187e-76), (1.130766255484889e-24, 0.0), (1.790881835607925e-40, 0.0), (1.229344943492404e-27, 0.0), (2.321038596568992e-13, 9.511342697313798e-20), (1.6706223344698767e-15, 0.0), (4.628927580863256e-20, 0.0), (4.6042746992146725e-15, 0.0), (2.057584136733147e-33, 0.0), (2.662119954727214e-59, 0.0), (3.161372671349509e-34, 0.0), (6.843760209283827e-16, 0.0), (8.390768359737949e-65, 0.0), (1.7386203938266957e-28, 0.0), (8.680725617385642e-39, 0.0), (0.0, 1.4061548199903375e-70), (1.5586434731817043e-70, 0.0), (0.0002280419597205886, 0), (4.904496940030511e-27, 0.0), (1.2710433089853927e-45, 0.0), (2.9490734985259258e-18, 0.0), (3.6455828885476814e-16, 0.0), (5.981713359609991e-33, 0.0), (6.028959360684169e-22, 6.327282625801699e-31), (0.0, 5.4557027013817504e-77), (5.2597966375073813e-17, 0.0), (4.9478547053723385e-36, 2.1857068226489653e-39), (5.97452803391208e-19, 0.0), (1.0347296448333634e-153, 0.0), (9.33807092353402e-17, 0.0), (5.94747082362288e-27, 0.0), (1.4673278785037236e-33, 0.0), (0.0, 1.7020942609626947e-89), (7.634269021942055e-70, 0.0), (6.457211287129944e-31, 4.5698489873097036e-41), (2.0573828573117476e-54, 0.0), (0.0, 5.841973958266272e-109), (7.346304329936955e-38, 0.0), (7.603798745215143e-28, 0.0), (0.0, 2.642453961052107e-90), (6.7691293910754e-73, 0.0), (3.040329571400355e-26, 4.890893401377355e-36), (0.0, 0.0), (2.3799540369011848e-71, 0.0), (1.2713138225459938e-55, 0.0), (7.525896024718892e-63, 0.0), (0.0, 7.124592359099372e-86), (5.3521351090820746e-17, 0.0), (2.9903121058349527e-59, 0.0), (1.36459651144005e-48, 0.0), (0.0, 5.6029013488734425e-70), (2.0908919529377153e-85, 0.0), (2.3527978880157986e-272, 0.0), (7.341655624885365e-33, 0.0), (6.545326360260792e-73, 0.0), (3.473440630449763e-18, 0.0), (1.136592640528867e-13, 0.0), (2.3389978384943477e-11, 0.0), (0.0, 9.420426291607194e-87), (2.0543756031774848e-16, 0.0), (2.55124398138437e-14, 0.0), (6.039178346491739e-55, 0), (1.898326386192886e-35, 0.0), (2.505908715767912e-121, 0.0), (9.060428216803793e-22, 0.0), (6.295149289202411e-40, 0.0), (1.310850310282325e-62, 0.0), (4.810644494256749e-59, 0.0), (5.035544078994763e-18, 8.159952463089256e-26), (1.5365095289616526e-23, 0.0), (1.589065300549539e-15, 0.0), (1.1620192435632241e-20, 0.0), (5.047704796659609e-17, 0.0), (1.2521570631470424e-26, 0.0), (0.0, 1.1772978648757318e-119), (5.127907746846521e-39, 0.0), (1.0339020524537734e-42, 0.0), (8.553270926753223e-45, 0.0), (4.0413958800744805e-10, 0.0), (1.899046641173207e-93, 0.0), (3.0836564187351526e-219, 0.0), (2.9786090913441625e-23, 3.870580130122316e-33), (4.0970667572897557e-57, 0.0), (1.9755574087548147e-19, 0.0), (1.2447943969199777e-16, 0.0), (0.0, 1.370974949080218e-89), (6.598270936040773e-71, 0.0), (3.8411616522993337e-20, 0.0), (4.196235080825761e-45, 0.0), (3.0515796495523116e-26, 0.0), (4.7082142185183725e-61, 0.0), (2.698246510774109e-44, 0.0), (0.0, 7.493878770406215e-79), (2.4130145149769748e-32, 0.0), (1.0062560895562001e-51, 0.0), (6.458245814360672e-31, 0.0), (1.7196299282079572e-15, 0.0), (2.2991688533274505e-31, 0.0), (1.463706838626383e-29, 0.0), (0.0, 8.368419199232967e-88), (7.955909683019684e-25, 0.0), (4.585051957484512e-39, 0.0), (0.0, 4.159197841326188e-107), (2.403457481353189e-16, 4.375504559096091e-20), (1.3545764485738003e-54, 0.0), (6.642093299854886e-32, 0.0), (0.0, 0.0), (3.517571099049274e-136, 0.0), (9.0277161859525e-18, 0.0), (3.459624500891517e-74, 0.0), (0.0, 1.0113985593977675e-52), (3.090664977861033e-30, 0.0), (4.7986011999205224e-42, 0.0), (2.9224021336543463e-30, 0.0), (5.911674961577237e-50, 0.0), (2.058491001584255e-19, 0.0), (2.585273105004971e-46, 0.0), (4.17771742072557e-26, 0.0), (4.376520257217909e-106, 0.0), (2.3389978384943477e-11, 0.0), (3.091809016313172e-79, 0.0), (4.0823243737131964e-17, 0.0), (6.770878564762289e-16, 0.0), (1.221422166950496e-13, 0.0), (6.687159738613837e-50, 0.0), (1.8232726199423519e-31, 0.0), (9.354812807440126e-19, 0.0), (1.3185155647491966e-28, 0.0), (7.559450896350845e-55, 0.0), (4.718212566456986e-21, 0.0), (5.153501548015698e-17, 0.0), (3.475042208457496e-23, 8.282100712457906e-34), (1.5774900982638855e-28, 0.0), (2.6442349384449583e-37, 0.0), (3.9974709339653234e-07, 0), (2.6223871249414724e-71, 0.0), (7.785764756741197e-50, 0.0), (4.825824519476196e-30, 0.0), (1.1020956304536631e-23, 0.0), (8.699844902813548e-14, 0.0), (9.369568280958498e-47, 0.0), (3.3059185632055123e-40, 0.0), (1.3048526428350932e-10, 4.633758304944772e-16), (3.7279339138038557e-41, 0.0), (4.666749263019906e-23, 0.0), (0.0, 5.584683329044321e-86), (1.6405199683998822e-17, 0.0), (9.356285495299924e-42, 0.0), (4.20745789237188e-22, 0.0), (3.0703527937448807e-22, 0.0), (3.043171340713288e-113, 0.0), (4.808776421364288e-84, 0.0), (0.0, 1.958911368446922e-72), (0.0, 1.1736851152373808e-82), (1.4578230773934278e-18, 0.0), (9.205326426642735e-60, 0.0), (3.900261276079879e-30, 0.0), (2.3891284073546093e-71, 0.0), (1.3411904501611503e-48, 0.0), (1.514773329336506e-27, 0.0), (8.009607184525886e-55, 0.0), (2.689792292974708e-48, 0.0), (4.2093929805840486e-72, 0.0), (1.7468444634410555e-51, 0.0), (2.3881468018755e-20, 0.0), (1.919898988627816e-142, 0.0), (1.4464240769528589e-39, 0.0), (4.858242542376787e-85, 0.0), (0.0, 1.355797026553579e-72), (1.3573255353315298e-76, 0.0), (6.932875987250507e-34, 0.0), (6.167870258972951e-25, 0.0), (3.3263479490684563e-19, 0.0), (8.439765530732936e-23, 0.0), (6.338312368434732e-16, 0.0), (1.3796522388307639e-186, 0.0), (7.907590044440041e-115, 0.0), (6.1203874986833275e-89, 0.0), (2.853640960799182e-23, 0.0), (2.7451438362943745e-12, 0.0), (0.000516094961472911, 0), (0.003264600686526321, 6.001104203173384e-05), (4.375283491990715e-93, 0.0), (6.953973607002733e-43, 0.0), (7.366700395232395e-17, 0.0), (4.0163505935328696e-87, 0.0), (0.0, 7.766014278475638e-91), (8.797182782287971e-21, 0.0), (3.8734690597137304e-33, 0.0), (5.3237462903578274e-14, 0.0), (2.3389978384943477e-11, 0.0), (8.754499665959083e-43, 0.0), (2.250974005341333e-34, 0.0), (3.794723558253809e-98, 0.0), (2.3389978384943477e-11, 0.0), (4.2870457002210915e-56, 0.0), (2.3389978384943477e-11, 0.0), (0.0, 2.7857976907822623e-52), (9.153506109036816e-86, 0.0), (8.610640687745904e-27, 0.0), (1.0547187007059767e-87, 0.0), (6.718339540739431e-20, 0.0), (6.920026554558628e-41, 0.0), (9.924176931626318e-23, 0.0), (6.523302392218802e-54, 0.0), (1.6848439655372403e-06, 0.0), (9.200005885338178e-54, 0.0), (8.906238216747317e-19, 1.041147076964308e-26), (5.141054751832854e-85, 0.0), (5.1808575868653094e-14, 3.710500545283906e-20), (1.7843145723409133e-30, 0.0), (9.704428614829089e-56, 0.0), (3.253798935133632e-17, 0.0), (2.0966794263657503e-64, 0.0), (1.8979274295636576e-28, 0.0), (9.210600808190046e-20, 0.0), (9.467780424976979e-18, 0.0), (1.1755447069997734e-176, 0.0), (6.008018714354366e-48, 0.0), (1.2585678632436031e-34, 0.0), (0.0, 3.3890524554467146e-42), (5.192276821244657e-77, 0.0), (1.3960313750789498e-37, 0.0), (6.355869414602772e-32, 0.0), (9.472667899434285e-15, 0.0), (9.41858389260426e-18, 0.0), (6.4616807090219795e-22, 0.0), (1.0346105201692655e-18, 0.0), (0.0, 9.897835634848054e-85), (2.978196056661617e-33, 0.0), (0.0, 9.43726596019769e-50), (1.8717440323975585e-37, 0.0), (2.620694281730496e-63, 0.0), (1.72408326618656e-17, 0.0), (6.079912146842534e-14, 0.0), (3.1315787769938894e-23, 0.0), (1.2142482260142754e-26, 0.0), (1.3938501536146774e-78, 0.0), (1.6561210387949241e-90, 0.0), (1.473207044925205e-19, 0.0), (9.68794175028909e-16, 0.0), (1.244767204845016e-47, 0.0), (2.9892826503410572e-30, 0), (3.328540934051413e-17, 0.0), (2.9071416243791757e-39, 0.0), (1.410368582385602e-78, 0.0), (0.0, 7.64546241151608e-90), (0.0, 4.597073279829841e-105), (4.255077027238295e-22, 0.0), (3.870978590224404e-27, 0.0), (1.0980110505302255e-20, 0.0), (2.3520440386201783e-35, 0.0), (2.166114518432211e-26, 0.0), (0.0, 4.3324824556638605e-75), (9.90468664640199e-38, 0.0), (0.0, 1.996371257684172e-74), (6.6099749570443005e-21, 0.0), (8.081136441496222e-30, 6.835836657206942e-40), (3.4345953422701686e-25, 0.0), (1.5496567825750229e-49, 0.0), (9.819308126363751e-16, 0.0), (1.1595516285953644e-88, 0.0), (0.0, 8.552256836914891e-85), (3.156598137897464e-97, 0.0), (2.1762269329846517e-26, 0.0), (3.614678833286998e-68, 0.0), (2.502608239096188e-35, 0.0), (2.2543428247110634e-72, 0.0), (0.0, 1.0695071533702513e-91), (4.976007621070149e-62, 0.0), (9.88408547592147e-44, 0.0), (8.758422803066366e-08, 0), (8.93904783062954e-31, 0.0), (6.797082909130505e-23, 0.0), (0.0002280419597205886, 0), (2.6715360796103203e-22, 0.0), (4.3931664940423083e-51, 0.0), (6.231659625045087e-38, 0.0), (1.244804685845788e-89, 0.0), (9.1559273989444e-42, 0.0), (9.618253712532962e-34, 0.0), (4.4276293312221726e-15, 0.0), (4.122085748923004e-20, 0.0), (6.797082909130505e-23, 0.0), (0.0, 7.291254928212871e-89), (1.4084148907877466e-20, 0.0), (1.6177949053086822e-25, 0.0), (6.428125988563304e-139, 0.0), (1.1058373503530538e-22, 0.0), (1.1842651032079738e-30, 0.0), (2.046564510136498e-29, 1.9508334795046129e-38), (1.6537624517951286e-35, 0.0), (0.0, 8.454417637137037e-83), (8.371208321246589e-06, 2.304848106070096e-09), (2.92935678747344e-83, 0.0), (6.269186848510662e-06, 0.0), (2.6320909243134563e-12, 0.0), (1.9811113060399145e-19, 0.0), (0.0, 2.4112336020018796e-56), (9.910688697935596e-23, 0.0), (4.309393811144078e-63, 0.0), (2.1391203556200513e-36, 0.0), (4.157545817922681e-102, 0.0), (1.4761207384529826e-16, 3.0281791961872965e-24), (0.0, 1.2835742616131411e-75), (3.414600982665671e-19, 0.0), (8.645804822377626e-31, 0.0), (1.703858662096339e-38, 0.0), (3.996650309537809e-27, 0.0), (3.013916497402799e-18, 0.0), (6.611390936359996e-61, 0.0), (1.3108581281554272e-18, 0.0), (4.747282280679786e-19, 0.0), (2.004345625565825e-29, 0.0), (0.0, 9.014868163801677e-79), (3.628700092121433e-35, 0.0), (1.8311373011343648e-73, 0.0), (1.0021224779620763e-18, 7.743826924510603e-25), (2.3389978384943477e-11, 0.0), (6.6634098135887315e-59, 0.0), (9.308913340620868e-27, 0.0), (2.77968202367279e-55, 0.0), (2.823432702476432e-88, 0.0), (3.2831993354177547e-32, 0.0), (9.45403561687043e-35, 0.0), (2.957642797378309e-18, 0.0), (2.59775351875204e-49, 0.0), (1.731485861910397e-16, 0.0), (1.061709314960306e-21, 0.0), (1.0479473997584765e-20, 0.0), (3.4364100998605197e-17, 0), (1.2806121540174133e-16, 0.0), (0.003264600686526321, 6.001104203173384e-05), (2.6593837520189838e-17, 0.0), (7.795558753768565e-21, 0.0), (4.3120706613154233e-73, 3.244245753640438e-97), (0.0, 5.856732653840233e-92), (3.1691513745512614e-23, 0.0), (6.373227201147304e-25, 0.0), (1.1043889222896625e-76, 0.0), (5.27096623360715e-18, 0.0), (0.0, 7.913618128407281e-100), (0.0, 3.670131329736904e-76), (1.6168128316090017e-63, 0.0), (9.428460833370147e-24, 0.0), (1.6808527662361234e-17, 0.0), (2.8623552794068173e-77, 0.0), (1.961083520916098e-26, 0.0), (2.2907978684666247e-73, 0.0), (5.37864195359024e-33, 0.0), (4.3549429246589334e-39, 0.0), (1.5377452297691851e-35, 0.0), (0.0, 4.951459838963501e-71), (3.0836564187351526e-219, 0.0), (5.559950756084216e-17, 0.0), (1.5243827982028738e-58, 0.0), (8.559150542700176e-36, 0.0), (7.406692599222691e-31, 0.0), (0.0, 8.453328834071402e-84), (2.45615872041772e-55, 0.0), (0.0002280419597205886, 0), (3.436612987680966e-33, 0.0), (3.2585362615168507e-40, 0.0), (0.0, 7.634830145354411e-82), (1.2102989912457885e-16, 0.0), (0.0, 5.986758259063433e-82), (1.0856542601865206e-59, 0.0), (2.2063082327772723e-52, 0.0), (1.1613991255696963e-31, 0.0), (1.1998244059374019e-46, 0.0), (9.042930421985564e-36, 0.0), (4.930501447625963e-15, 3.3247267716150526e-14), (1.3838984532709703e-42, 0.0), (1.4278107020799326e-109, 0.0), (1.4428596878959836e-105, 0.0), (5.885500299042518e-37, 0.0), (3.841076057728435e-33, 0.0), (0.0, 2.4061396858503102e-91), (1.9449866725830587e-71, 0.0), (1.0865349190714742e-29, 0.0), (0.0, 1.4165286845665033e-82), (1.2038390847812243e-18, 0.0), (2.9844093742852246e-17, 0.0), (0.0, 7.124847035092587e-52), (6.199809912072367e-113, 0.0), (4.3836927959293754e-67, 0.0), (8.269218463085198e-34, 0.0), (1.2629578776047499e-58, 0.0), (7.953747581299505e-32, 0.0), (3.791649189830744e-73, 0.0), (8.758422803066366e-08, 0), (0.0, 4.718576780724293e-80), (4.171887136527612e-32, 0.0), (6.269186848510662e-06, 0.0), (3.1808867003799706e-23, 0.0), (1.9781113322004687e-53, 0.0), (4.497713143389305e-39, 0.0), (7.038477577904534e-13, 0.0), (2.415279842758688e-25, 0.0), (4.2381320967763644e-30, 0.0), (5.0192027846505596e-20, 0.0), (0.0, 2.5617178103734664e-74), (0.0, 3.182201783078425e-80), (9.396746686383456e-19, 0.0), (2.4530715130314407e-32, 0.0), (4.152100525183758e-45, 0.0), (3.949822392205987e-21, 0.0), (2.350946761403137e-33, 0.0), (1.684990824098897e-19, 0.0), (3.966373031317053e-26, 0.0), (1.6611358545620273e-73, 0.0), (2.0932001377948937e-31, 0.0), (1.534931554159426e-14, 0.0), (1.8415736367500072e-06, 1.67101487690082e-08), (0.0, 1.370974949080218e-89), (1.261024544830074e-71, 0.0), (3.2436589651921286e-89, 0.0), (3.092769089874468e-16, 0.0), (3.1676612500470016e-16, 0.0), (4.306180597785813e-20, 0.0), (1.0129935631821254e-18, 0.0), (3.882159806397283e-48, 0.0), (3.858760373897809e-30, 0.0), (4.1409633404034165e-37, 0.0), (3.556977625263902e-27, 0.0), (7.615723920367454e-14, 0.0), (2.6709961679974934e-85, 0.0), (9.889142314088343e-46, 0.0), (1.0814675177149992e-12, 0.0), (8.209163862290772e-50, 0.0), (4.835980368725023e-25, 0.0), (6.63032256711015e-25, 0.0), (5.088390001397923e-64, 0.0), (1.514773329336506e-27, 0.0), (1.0777881727085393e-37, 0.0), (1.2186092599674597e-31, 0.0), (9.153506109036816e-86, 0.0), (1.1005297481298206e-120, 0.0), (1.0035854298396753e-23, 0.0), (0.0, 8.730054585463218e-86), (8.038782648959683e-27, 0.0), (5.520184754791906e-19, 1.910825302847212e-27), (0.0, 5.401768801138598e-104), (4.4347314667491866e-16, 0.0), (4.95419972852332e-12, 0.0), (1.209729906093333e-12, 2.633543513123784e-15), (0.0, 1.0531060569043223e-99), (1.7585964594954507e-29, 0.0), (7.876246929403497e-18, 0.0), (1.1408348259850902e-17, 1.7609833004619616e-21), (4.833129819062315e-74, 0.0), (0.0, 2.0447498553694094e-55), (5.908974017824168e-16, 0.0), (1.345332182306824e-39, 0.0), (2.9281740652428704e-55, 0.0), (2.378175696148127e-69, 0.0), (6.683846247793296e-28, 0.0), (9.873666753119278e-19, 0.0), (2.4475996946406298e-12, 3.5136048194950675e-15), (2.749426695551887e-83, 0.0), (6.690598464605371e-44, 0.0), (1.0711577260350376e-39, 0.0), (1.764739929382438e-24, 0.0), (0.0, 2.3582146845878557e-66), (2.18098843653051e-79, 0.0), (1.9794943687537396e-33, 0.0), (2.5929414231864285e-24, 0.0), (2.928997843516991e-70, 0.0), (2.8435490071917586e-18, 0.0), (3.161372671349509e-34, 0.0), (3.2115468935025075e-49, 0.0), (2.9135950033894847e-78, 0.0), (1.1277084427613823e-38, 0.0), (3.033319351864595e-72, 0.0), (2.164279906063822e-17, 0.0), (4.77212345363762e-77, 0.0), (0.0, 4.046497400198075e-18), (2.1589619975210657e-15, 0.0), (3.040470597306857e-20, 0.0), (2.857807496614142e-07, 4.5607045657270513e-10), (0.0, 5.115478600480832e-80), (2.703711044375899e-35, 0.0), (1.938240813365003e-33, 0.0), (2.934087966340779e-25, 4.0062137081152827e-32), (1.1023562695446934e-28, 0.0), (9.153506109036816e-86, 0.0), (7.90193522476134e-87, 0.0), (5.9717589031502724e-30, 0.0), (2.399721955154249e-34, 0.0), (8.371425460237365e-40, 0.0), (0.0, 8.365455159477228e-94), (1.006758944425229e-86, 0.0), (4.123693607315946e-59, 0.0), (0.0, 1.3339669764358278e-74), (2.247242256629356e-22, 0.0), (0.0, 3.937217894677451e-98), (3.5629857364427033e-51, 0.0), (4.508178627792792e-33, 0.0), (0.0, 1.1389204823094678e-75), (6.269186848510662e-06, 0.0), (2.546019470496698e-93, 0.0), (8.88029234338213e-27, 0.0), (0.0, 8.641360704993195e-99), (8.506360073277926e-15, 0.0), (8.085358333507573e-13, 0.0), (1.3690137828799988e-24, 0.0), (0.0, 1.1305485873764255e-55), (8.584524177663919e-18, 0.0), (1.1928194008132228e-73, 0.0), (5.25468191780737e-13, 0.0), (4.0069919139735055e-15, 5.736872268568954e-19), (4.6502767793595125e-31, 0.0), (6.198627618382391e-32, 0.0), (1.623192459805308e-51, 0.0), (1.2538373697021324e-06, 0.0), (4.558010156252623e-12, 0.0), (1.5817075685522042e-48, 0.0), (1.6370690484322618e-105, 0.0), (3.128127526882565e-27, 0.0), (7.40891688543805e-21, 0.0), (0.0, 1.0451052375125578e-88), (0.0, 0.0), (0.0, 8.40976200328734e-90), (3.3270822101908782e-43, 0.0), (3.532102477450734e-21, 0.0), (1.540044984772929e-15, 0.0), (5.42056206635036e-35, 0.0), (1.3888389330100969e-33, 0.0), (7.154290772203221e-61, 0.0), (5.512925778829738e-172, 0.0), (7.176128303669413e-51, 0.0), (1.0190331494722835e-99, 0.0), (1.3571237404011674e-88, 0.0), (6.585134742899014e-37, 0.0), (7.997852569947247e-31, 0.0), (2.427958036186302e-31, 4.7399953450786915e-31), (6.93256229864433e-81, 0.0), (1.358147496329106e-56, 0.0), (1.1084438742352203e-47, 0.0), (2.928957969886729e-22, 0.0), (7.080207384008247e-79, 0.0), (5.610554509849125e-17, 0.0), (3.791649189830744e-73, 0.0), (0.0, 8.40976200328734e-90), (3.855031172284004e-76, 0.0), (8.082285522357113e-08, 1.0370786020607986e-10), (3.0588398091245216e-14, 0.0), (1.1275025922797057e-32, 0.0), (7.643154299553355e-137, 0.0), (8.021144112688334e-35, 0.0), (3.293880662911661e-69, 0.0), (0.0, 2.7513614574594133e-95), (1.8013091514803377e-17, 0.0), (0.0, 5.880933715339952e-82), (5.527976810751633e-32, 0.0), (1.582618009454924e-32, 0.0), (1.4388506027068553e-14, 0.0), (5.964910804126576e-40, 0.0), (1.6211050123830567e-18, 0.0), (1.6443022409755112e-27, 0.0), (1.1114926823072514e-16, 6.679253153922063e-24), (4.230373726516949e-56, 0.0), (1.3227320639906958e-16, 0.0), (1.8282248758792396e-33, 0.0), (2.29448062251721e-40, 0.0), (4.592272771982101e-35, 0.0), (3.5335026134017357e-36, 0.0), (4.951690366425257e-16, 0.0), (1.851020741187609e-18, 0.0), (0.0, 3.045527855512083e-67), (5.943863280624446e-38, 0.0), (3.040329571400355e-26, 4.890893401377355e-36), (5.098350415002822e-71, 0.0), (1.7872567564022983e-28, 0.0), (0.0, 8.9249711047638e-64), (2.1212023779111903e-78, 0.0), (1.1935117674040648e-20, 0.0), (9.79952236081435e-99, 0.0), (2.9112627593436214e-64, 0.0), (4.156993929044538e-52, 0.0), (7.201325043808061e-05, 0), (7.444611204540563e-91, 0.0), (0.0, 8.397064563328348e-62), (3.986727649969945e-30, 0.0), (1.5779673194025651e-16, 0.0), (2.9405086168540463e-49, 0.0), (2.512245005476185e-32, 0.0), (0.0, 1.050968885714198e-99), (4.0112446291331363e-44, 0.0), (5.565074574896742e-26, 1.112467816885334e-36), (1.1655459418218636e-24, 0.0), (1.1665865243352582e-14, 0.0), (2.3072570784395914e-27, 0.0), (9.71119309031692e-58, 0.0), (2.4015212612931232e-27, 0.0), (2.8894771174745188e-21, 0.0), (5.4207501711115e-15, 0.0), (2.440267736464925e-49, 0.0), (8.85308161275058e-18, 0.0), (1.1536015766711358e-19, 0.0), (2.4164500998089975e-15, 8.61651615018718e-18), (0.0009001656304760076, 0), (4.0922544834525176e-81, 0.0), (1.2222858039928409e-19, 0.0), (6.918312894458625e-16, 0.0), (1.2933155929030512e-72, 0.0), (6.518733210732094e-92, 0.0), (5.837495150788232e-31, 0.0), (3.2895521043028496e-24, 0.0), (4.164714101827721e-74, 0.0), (1.9207558788129132e-55, 0.0), (1.4046106298515484e-32, 0.0), (1.3564813544612021e-24, 0.0), (1.4750510237970243e-16, 4.819487992401765e-18), (6.622313686577327e-60, 0.0), (3.773861420886568e-84, 0.0), (2.0543756031774848e-16, 0.0), (0.0, 2.1219827993344898e-43), (3.5738702709812933e-196, 0.0), (1.7968738722687947e-18, 0.0), (7.267905085700063e-21, 0.0), (1.0863200562923583e-61, 0.0), (4.159250035577158e-26, 0.0), (3.1630099609636796e-30, 0.0), (2.036206213442652e-20, 1.0929785548117232e-25), (5.461452921209082e-15, 0.0), (0.0, 4.875845726405538e-53), (3.6003233956075903e-66, 0.0), (2.0290658099368056e-35, 0.0), (2.878903472923255e-17, 0.0), (8.974031536215697e-59, 0.0), (0.0, 7.869850605553224e-83), (2.3552435603663553e-87, 0.0), (6.615399560527747e-22, 0.0), (1.5550775972366944e-110, 0.0), (1.728954207126683e-15, 0), (2.2756959102857726e-20, 0.0), (0.0, 9.512081878966643e-99), (2.2692990583061208e-59, 0.0), (4.480568377573742e-14, 8.234556121052973e-19), (1.4473668590483264e-67, 0.0), (4.150253743792897e-20, 0.0), (2.555057135858167e-34, 0.0), (1.049188133806753e-18, 0.0), (7.857920560037844e-190, 0.0), (4.961327514412226e-50, 0.0), (2.0750471870245678e-13, 0.0), (2.4904731148325326e-26, 0.0), (4.027254480763528e-23, 0.0), (4.162674986565227e-37, 0.0), (2.295380894295581e-18, 0.0), (1.9479918093635125e-37, 0.0), (0.0, 2.8434639225103167e-68), (2.4179934819688126e-91, 0.0), (2.4046408327118397e-91, 0.0), (2.3243834076068343e-20, 5.908158326522521e-29), (5.8248541573430726e-24, 0.0), (5.382383170564166e-85, 0.0), (1.1076548032006403e-38, 0.0), (0.0, 1.122188884818249e-62), (6.633624207526793e-56, 0.0), (1.5238665551790415e-16, 0.0), (0.0, 6.749282610716083e-88), (1.6309616867263946e-72, 0.0), (0.0, 1.3129492804780542e-71), (3.240141481572608e-23, 0.0), (2.2372632422186313e-21, 0.0), (1.391590462352978e-93, 0.0), (3.468862579866525e-42, 0.0), (3.731878822231065e-70, 0.0), (4.5067687280836045e-25, 0.0), (1.4977065819234893e-10, 0.0), (1.6426828141978922e-27, 0.0), (9.265009064308166e-30, 0.0), (0.0, 3.2009194983066017e-68), (9.039929510430933e-24, 0.0), (2.0743436383045575e-19, 0.0), (0.0, 1.1305485873764255e-55), (1.5446906633782737e-17, 0.0), (3.852992969972509e-21, 0.0), (7.625896515428615e-66, 0.0), (0.0, 2.58087085593174e-82), (0.0, 3.585261138484009e-46), (2.390486366285895e-62, 0.0), (6.572581684425819e-19, 0.0), (7.250926890164918e-41, 0.0), (0.0, 2.0434148219919386e-88), (1.5810719413830211e-35, 0.0), (4.392926746623996e-26, 0.0), (3.3250020058854057e-221, 0.0), (9.137130139044555e-73, 0.0), (1.82806116373285e-24, 0.0), (1.125300695934927e-21, 0.0), (8.338040630083895e-39, 0.0), (6.829584371150263e-19, 0.0), (1.3910292568516134e-18, 0.0), (2.267910454426151e-32, 0.0), (1.198175450572901e-59, 0.0), (1.4914878395070545e-24, 0.0), (4.273385812407682e-25, 0.0), (3.4639837073915984e-13, 2.3885359348629282e-17), (2.6019338241891705e-23, 0.0), (7.169112826328068e-20, 0.0), (4.2292873043625085e-98, 0.0), (4.391055304128847e-49, 0.0), (1.6350617292018423e-37, 0.0), (1.396091044177741e-16, 0.0), (7.929922465998623e-22, 0.0), (2.5267502494133365e-52, 0.0), (3.067293438336115e-19, 0.0), (6.099466743872556e-31, 0.0), (3.609999622733442e-35, 0.0), (2.5765163526098507e-43, 0.0), (9.101102800719903e-183, 0.0), (1.8251043621510145e-22, 0.0), (1.4987978725929908e-65, 0.0), (8.093335081245134e-27, 0.0), (9.94944405889967e-104, 0.0), (7.557523322444411e-61, 0.0), (3.811884677807547e-18, 0.0), (9.895175694016946e-89, 0.0), (2.7604756304380403e-26, 0.0), (2.976521555301319e-49, 0.0), (0.003264600686526321, 6.001104203173384e-05), (1.376619890760421e-70, 0.0), (1.2324145882654165e-22, 0.0), (1.3251426503248765e-20, 1.1168377314492897e-26), (3.7056110005235744e-19, 0.0), (0.0, 1.9646137191988648e-107), (2.2570739960243295e-15, 0.0), (5.739296030839904e-44, 0.0), (0.0, 1.4939825422601269e-78), (1.2218169897457778e-133, 0.0), (3.0485072747800644e-20, 0.0), (6.647270267816105e-37, 0.0), (1.8399680027527953e-13, 0.0), (0.0, 1.251722988019946e-99), (1.411822498970708e-16, 4.067815830584113e-25), (2.3690416274604966e-16, 0.0), (0.0, 8.722325748356659e-85), (9.488915845462334e-16, 0.0), (3.0737260403704017e-28, 0.0), (4.066891702931627e-30, 0.0), (6.93611532491062e-33, 0.0), (1.9450424205294311e-25, 0.0), (2.6847458378320863e-14, 0.0), (1.607356836423674e-27, 0.0), (2.930224287313132e-23, 0.0), (7.114900760118471e-31, 0.0), (3.4699282069468115e-65, 0.0), (2.7889826103369896e-27, 0.0), (7.895929576782656e-23, 0.0), (5.024120179475986e-68, 0.0), (1.5516702628206405e-40, 0.0), (5.465104606991609e-81, 0.0), (7.698859107781931e-34, 0.0), (1.5738905087817452e-18, 0.0), (5.568834012968903e-55, 0.0), (9.516196494014617e-13, 0.0), (8.105901146593999e-78, 0.0), (4.564952950957776e-28, 0.0), (5.5482346371685885e-101, 0.0), (1.281762412254819e-19, 0.0), (3.657716465868865e-33, 0.0), (0.0, 1.0113506149476727e-91), (2.3439538759332515e-32, 0.0), (1.2002208406346767e-05, 0), (7.914188353567718e-34, 0.0), (2.868894185505854e-88, 0.0), (3.402695742591182e-64, 0.0), (3.2599527627251146e-28, 0.0), (1.1719390001359382e-24, 0.0), (5.822743235442481e-17, 0.0), (1.2392303190927427e-63, 0.0), (6.640405990068635e-19, 0), (9.21596923807243e-34, 0.0), (3.205942486419273e-35, 0.0), (1.958879774262545e-45, 0.0), (1.1976379334579355e-20, 0.0), (9.798410505049752e-169, 0.0), (1.77689125988144e-85, 0.0), (2.8784072572652015e-95, 0.0), (1.8215636588124463e-90, 0.0), (0.0, 6.829806251298948e-60), (2.6892534323740244e-42, 0.0), (3.559222628451653e-20, 0.0), (6.27574368676381e-18, 0.0), (1.0099821660890695e-42, 0.0), (3.4106943737155994e-22, 0.0), (1.233031743028505e-22, 0.0), (6.1645575423262e-17, 0.0), (5.589429876337832e-50, 0.0), (1.1034870124979425e-15, 0.0), (3.462118188141022e-22, 0.0), (7.166375443466275e-26, 0.0), (0.0, 2.3826050584418675e-82), (7.602058091232653e-41, 0.0), (2.3326091125879516e-30, 0.0), (0.0, 2.3178707675577734e-86), (5.448141845820532e-11, 0.0), (5.220380545864606e-30, 0.0), (4.316666304380239e-80, 0.0), (1.9020946895960687e-34, 0.0), (1.0059738162889442e-12, 0.0), (0.0, 1.2255205668919743e-99), (7.615146984199494e-101, 0.0), (4.97711682241397e-16, 0.0), (1.3789172780629498e-23, 0.0), (5.482992971937142e-77, 0.0), (3.5524344007667003e-65, 0.0), (1.0199776627432408e-24, 5.6744945858831036e-37), (7.533932687565593e-14, 0.0), (8.254481173567132e-13, 0.0), (0.0, 8.088736186181975e-115), (4.5973042034316475e-16, 1.742957613999296e-19), (2.0305684227891796e-50, 0.0), (3.5849668859308517e-106, 0.0), (9.102998984021672e-26, 0.0), (9.915341566747892e-22, 2.167450276776273e-30), (1.2099998057255106e-69, 0.0), (1.1425860714917124e-64, 0.0), (1.2963051212291437e-95, 0.0), (2.612316021964976e-18, 0.0), (2.661312664089304e-33, 0.0), (3.8589327265343216e-19, 0.0), (0.0, 7.117100187969691e-77), (2.796531068854308e-35, 0.0), (0.0, 4.3382789943384447e-103), (0.003264600686526321, 6.001104203173384e-05), (1.2882146334195055e-16, 0.0), (1.4814715398797445e-25, 0.0), (1.3981335957662134e-35, 0.0), (3.687459054782304e-24, 1.2641091754742019e-33), (2.96078656847015e-25, 0.0), (7.662785143309932e-55, 0.0), (3.6090622124790264e-39, 0.0), (0.0, 9.201834978352925e-76), (1.9986605815615647e-88, 0.0), (3.672399658448576e-30, 0.0), (0.0, 1.5137410055426167e-60), (2.718575170441162e-81, 0.0), (2.2475710383725016e-36, 0.0), (1.4102794642108883e-20, 0.0), (6.5581381306892135e-21, 0.0), (1.7954887096661538e-24, 0.0), (1.8797373930653577e-38, 0.0), (0.0, 2.4820809576439146e-58), (9.817448692493188e-19, 0.0), (0.0, 2.057874415290321e-81), (2.7394828343590382e-33, 0.0), (5.2186485018407e-17, 0.0), (1.3196216840462022e-20, 0.0), (1.5911275344816607e-60, 0.0), (5.3528524932401127e-42, 0.0), (3.190112736470892e-97, 0.0), (1.6106791787879905e-59, 0.0), (1.5024276262678861e-77, 0.0), (4.834987897763514e-34, 0.0), (6.51259968188032e-36, 0.0), (1.965145948389655e-29, 0.0), (8.506360073277926e-15, 0.0), (0.0, 1.3837767873664182e-81), (1.4724515872964576e-19, 0.0), (2.378699300318004e-88, 0.0), (0.0, 8.31824556541684e-66), (1.0538209753420305e-27, 0.0), (1.4397764703444469e-43, 0.0), (7.795940262866279e-37, 0.0), (6.963830889752581e-41, 0.0), (3.2560434132442573e-34, 0.0), (1.090235936126675e-59, 0.0), (3.3655165100970353e-22, 0.0), (5.424449074060082e-31, 0.0), (9.472539997876169e-32, 0.0), (5.25468191780737e-13, 0.0), (6.149859290418164e-65, 0.0), (2.1069093878581295e-66, 0.0), (8.463258255420081e-27, 0.0), (7.311909814814459e-55, 0.0), (7.129377252171022e-09, 2.697168563117626e-13), (3.2534380216204137e-24, 0.0), (7.870199800941755e-39, 0.0), (6.481484413287609e-96, 0.0), (8.091204060757934e-91, 0.0), (5.596152079131708e-77, 0.0), (6.219287740784491e-22, 0.0), (6.805163759250625e-11, 2.489694058262424e-13), (1.0900660583067302e-58, 0.0), (4.776820521391981e-25, 0.0), (0.0, 3.675360362639739e-85), (5.411961254395129e-20, 0.0), (4.8394156849717075e-27, 0.0), (2.3643462670505303e-47, 0.0), (1.6828711958927834e-47, 0.0), (0.0, 3.560714407218071e-74), (2.641435942742871e-86, 0.0), (7.331751438212378e-23, 0.0), (2.2403784813086173e-17, 0.0), (3.3392110975271693e-19, 0.0), (3.2223283370242325e-155, 0.0), (8.88029234338213e-27, 0.0), (0.0, 8.010602415069607e-73), (0.0, 3.166925230722638e-64), (1.0591148954672366e-57, 0.0), (2.7790716139730274e-24, 0.0), (4.072535580563561e-44, 0.0), (3.2960933430413018e-78, 0.0), (6.834231970462001e-13, 0.0), (3.928183958591825e-12, 0.0), (4.30156089251093e-56, 0.0), (7.835073191120166e-63, 0.0), (2.5565563061764253e-15, 0.0), (1.0942395448579228e-25, 0.0), (1.4237824520416628e-73, 0.0), (1.621936432046361e-31, 0.0), (1.749700373231784e-28, 0.0), (3.2944580790749635e-37, 0.0), (4.40061368477542e-96, 0.0), (1.0475703067067471e-32, 0.0), (2.5714997001498194e-87, 0.0), (1.7651516373456184e-21, 0.0), (3.511665153605162e-26, 0.0), (9.029015158551983e-18, 2.4199709441916274e-24), (1.2259123807712153e-14, 0.0), (1.6946990663532902e-18, 0.0), (1.0895441604364799e-27, 0.0), (3.1394960016733297e-17, 0.0), (7.296526923373357e-21, 0.0), (1.1428973434105237e-32, 0.0), (1.370491620009183e-66, 0.0), (1.448043242330275e-31, 0.0), (2.822100108163549e-72, 0.0), (0.0, 1.1389204823094678e-75), (6.020929538074258e-32, 0.0), (3.0269336643369026e-52, 0.0), (7.71160497043458e-23, 0.0), (4.396563983624961e-19, 0.0), (2.749445021098888e-38, 0.0), (0.0, 6.014897696809889e-72), (1.0290013265997568e-55, 0.0), (1.1192406747825805e-24, 0.0), (2.2426908471615265e-67, 0.0), (4.150253743792897e-20, 0), (2.1136518828596256e-53, 0.0), (0.0, 4.518269992876654e-19), (2.3145162129322052e-73, 0.0), (1.3450552886226444e-34, 0.0), (2.0661694356846716e-09, 0.0), (1.2279959254763138e-77, 0.0), (3.3703199166223e-47, 0.0), (4.565206702183477e-27, 0.0), (2.63342564591746e-13, 0.0), (3.0836564187351526e-219, 0.0), (6.119595109291031e-44, 0.0), (1.0831122441972747e-48, 0.0), (5.440828804667311e-39, 0.0), (1.4002143967647756e-24, 0.0), (3.5055527871005635e-45, 0.0), (3.1102007597647203e-61, 0.0), (4.648522726706188e-22, 0.0), (5.176952509409543e-84, 0.0), (0.0, 1.028741608566359e-75), (0.0, 2.33772171844034e-48), (9.530614446049012e-37, 0.0), (5.2012605737858745e-51, 0.0), (5.2138401476799535e-20, 0.0), (3.604820227882232e-67, 0.0), (1.114460408244491e-67, 0.0), (5.312668009033722e-59, 0.0), (7.871978226492419e-54, 0.0), (0.0, 3.219892531210024e-80), (0.0, 3.2009194983066017e-68), (1.3014129742437896e-94, 0.0), (1.007266607386265e-21, 0.0), (0.0, 1.6394660021871514e-33), (2.5047036493524266e-92, 0.0), (2.0312903882101993e-27, 0.0), (5.0204968108323846e-95, 0.0), (9.28400228347301e-172, 0.0), (8.130133953178907e-59, 0.0), (2.0315947490667936e-81, 0.0), (1.2721717698327494e-26, 0.0), (3.39309521315251e-45, 0.0), (2.448511857246044e-38, 0.0), (4.685869106625332e-99, 0.0), (1.3587805477862601e-30, 0.0), (1.7474227082164333e-77, 0.0), (2.921192733043117e-51, 0.0), (0.0, 5.008021313652902e-70), (1.5069818775186434e-45, 0.0), (1.29088860793371e-44, 0.0), (4.8286103857875244e-23, 0.0), (3.429332288836207e-19, 0.0), (3.869097281625566e-59, 0.0), (2.0604915333934996e-18, 1.2590858523236538e-26), (1.3689699459949784e-90, 0.0), (8.091204060757934e-91, 0.0), (2.4216025524103204e-77, 0.0), (7.745954376038132e-17, 0.0), (1.03631699562291e-30, 0.0), (7.120807927298158e-21, 2.765216036540545e-27), (7.63046292822647e-78, 0.0), (4.281039565870768e-31, 0.0), (1.462182681894973e-16, 0.0), (9.049713357612105e-27, 1.796121297443162e-32), (1.3943466728398406e-75, 0.0), (0.0, 2.2150767597762463e-78), (6.250001105288479e-52, 0.0), (1.1273546065790105e-24, 2.433532453151154e-35), (3.108119932021344e-17, 0.0), (2.6126717400842457e-22, 0.0), (1.0881771319920581e-25, 7.333652806686943e-37), (2.1459517936059194e-26, 0.0), (9.598217012486862e-56, 0.0), (9.82030103350628e-19, 0.0), (1.2536161842589e-19, 0.0), (1.648394234055154e-51, 0.0), (1.3627942860022808e-31, 0.0), (3.117524306855064e-23, 0.0), (2.2426437191502792e-31, 0.0), (2.1634298042304535e-44, 0.0), (2.3389978384943477e-11, 0.0), (1.2665751528340576e-15, 3.525907498987452e-20), (2.7562318601800223e-199, 0.0), (1.9637306506538954e-15, 0.0), (1.9585738455791093e-49, 0.0), (7.518775490383655e-38, 0.0), (2.2083335959004093e-42, 0.0), (8.552115738281806e-20, 0.0), (1.0746206088053071e-69, 0.0), (2.411444859301375e-37, 0.0), (4.810644494256749e-59, 0.0), (4.986123748874373e-36, 3.250981654220552e-48), (5.777817251958721e-13, 0.0), (1.886267487203387e-61, 0.0), (2.461225427115933e-26, 0.0), (1.7374869419296952e-08, 1.4274764620300038e-10), (4.248431630012643e-29, 0.0), (2.3389978384943477e-11, 0.0), (9.752991609219037e-19, 8.591640080281003e-24), (1.3574367421463279e-25, 0.0), (1.1053603442110347e-22, 0.0), (1.1779087721210889e-35, 0.0), (1.4436533576971706e-51, 0.0), (7.980026727429309e-58, 0.0), (1.3143285979195365e-22, 0.0), (2.470856659379384e-36, 0.0), (8.535820369384182e-21, 0.0), (1, 1), (3.256738766755242e-82, 0.0), (1.8580170940472444e-41, 0.0), (1.5038029415259192e-14, 0.0), (1.871287554862915e-18, 0.0), (3.941266515551815e-16, 0.0), (0.0, 9.697907747152364e-67), (3.4036242656117804e-33, 0.0), (7.668597903728813e-41, 0.0), (0.0, 1.1431437144452997e-81), (1.4732589094000057e-05, 2.0887685961260247e-08), (2.8999345220282843e-47, 0.0), (8.228977153491283e-19, 0.0), (3.2498818638048265e-25, 0.0), (9.842205951969575e-22, 0.0), (4.9478547053723385e-36, 2.1857068226489653e-39), (6.520053952128189e-20, 0.0), (6.169164717682486e-20, 0.0), (1.2538373697021324e-06, 0.0), (9.198218859582321e-80, 0.0), (5.2470423304675096e-08, 2.8009058155452275e-12), (0.0, 3.7452394158561836e-63), (1.8189834095046374e-20, 0.0), (5.670613154882086e-25, 0.0), (1.55047932905431e-35, 0.0), (0.0, 6.097434630794478e-88), (1.1416534376980641e-17, 0.0), (7.675755972819904e-79, 0.0), (6.672450721278396e-19, 0.0), (7.80059117746896e-43, 0.0), (5.047600857007081e-14, 0.0), (2.9481615741297625e-47, 0.0), (1.2215566753684121e-81, 0.0), (0.0, 6.014897696809889e-72), (2.440028058431611e-66, 0.0), (1.4970244542112215e-84, 0.0), (1.6000836220937778e-26, 0.0), (1.320685916125835e-29, 0.0), (6.242973746966823e-21, 2.4841551014518033e-29), (4.394081151240731e-15, 0.0), (3.1691513745512614e-23, 0.0), (9.222724882783317e-34, 0.0), (1.4854629315453388e-26, 0.0), (0.0, 7.400972221303596e-103), (0.0, 6.015216431592819e-80), (0.0, 6.097434630794478e-88), (0.0, 9.723905563638698e-42), (0.0, 6.095583164824924e-67), (0.0, 4.821240644480825e-93), (0.0, 2.038738211131854e-102), (2.8063067588473453e-19, 0.0), (2.726720991969724e-49, 0.0), (2.704205276687257e-17, 0.0), (2.0138606031354507e-35, 0.0), (3.106704211409728e-93, 0.0), (2.761789392373459e-20, 0.0), (2.362659292439975e-75, 0.0), (0.0, 2.33772171844034e-48), (3.68713520652312e-71, 0.0), (6.347880555368568e-37, 0.0), (1.893127882055814e-59, 0.0), (3.334138891218552e-35, 0.0), (6.866952719836874e-17, 0.0), (2.4960618291872865e-15, 3.0196248891852613e-20), (7.626017781923478e-50, 0.0), (2.5078984981161305e-17, 0.0), (0.0, 8.613551975002022e-88), (0.0, 1.6641997266910225e-76), (6.505154313899714e-79, 0.0), (3.4475372253985705e-26, 0.0), (6.039178346491739e-55, 0), (2.826082668295617e-95, 0.0), (3.0258892044197186e-34, 0.0), (4.214199310711629e-31, 0.0), (5.289626403430871e-07, 0.0), (4.685897847064533e-22, 0.0), (4.700191408270583e-63, 0.0), (3.4586092102861634e-17, 0.0), (6.787886508399104e-129, 0.0), (4.5014913099180145e-73, 0.0), (3.193915784482705e-99, 0.0), (1.606028456021965e-15, 0.0), (2.272936235576955e-88, 0.0), (3.1660811257454433e-29, 0.0), (0.0, 9.847857678198465e-113), (2.2449907990699787e-78, 0.0), (5.034396589618887e-111, 0.0), (0.0, 5.861206662061512e-44), (2.8726187115694193e-46, 0.0), (8.62013191670216e-06, 7.28908213544668e-08), (4.0770610389829886e-34, 0.0), (7.384799208272134e-61, 0.0), (0.0, 4.1757773821966075e-81), (4.0279527619375204e-34, 0.0), (2.9429616374053804e-24, 0.0), (4.558010156252623e-12, 0.0), (7.97311077018127e-101, 0.0), (1.360136242416066e-51, 0.0), (3.6291710868028946e-17, 1.124738522169376e-22), (2.547377653783323e-19, 0.0), (4.7595066991734996e-94, 0.0), (6.803091632025898e-30, 0.0), (5.3499901345422395e-102, 0.0), (9.184514187608297e-43, 0.0), (6.823074271742239e-35, 0.0), (1.784737367306457e-14, 0.0), (2.0692123950892145e-11, 0.0), (1.563531630039444e-80, 2.3221174190169896e-80), (6.671218371174097e-80, 0.0), (2.7169988485516785e-94, 0.0), (8.51936203851175e-34, 0.0), (1.639847952404234e-16, 0.0), (9.130558236344373e-18, 0.0), (9.82030103350628e-19, 0.0), (1.0593664803237522e-14, 0.0), (6.05803297019627e-72, 0.0), (0.003264600686526321, 6.001104203173384e-05), (1.5892156790364516e-64, 0.0), (1.4636829504382474e-19, 0.0), (0.0, 2.2150767597762463e-78), (0.0, 2.5956150771256456e-90), (1.3327198843338905e-46, 0.0), (7.490311525647723e-74, 0.0), (4.163240450520966e-40, 0.0), (2.4605182849268805e-52, 0.0), (0.0, 1.894275664271309e-79), (4.129682857194698e-57, 0.0), (1.0767681156944245e-16, 6.427911484549099e-24), (1.690580518720757e-32, 0.0), (8.041248360478669e-16, 0.0), (9.087419257036817e-28, 0.0), (0.0003240596269713627, 4.800883362538707e-05), (1.2231063703767736e-66, 0.0), (8.254307668085253e-111, 0.0), (1.0964044089210596e-81, 0.0), (5.144428077076428e-38, 0.0), (8.634771984781982e-23, 0.0), (2.3946371635254856e-15, 0.0), (7.377663529548627e-27, 0.0), (3.2028687193999885e-37, 0.0), (1.2105650419492043e-22, 0.0), (2.3971709577771857e-113, 0.0), (9.849786159640127e-168, 0.0), (4.167248307689355e-23, 0.0), (1.4766826756364206e-24, 0.0), (2.6688281383854102e-40, 0.0), (1.3237560300266074e-45, 0.0), (8.807414090375219e-77, 0.0), (1.9606340708816593e-11, 0.0), (1.5552112304185203e-31, 0.0), (4.736479005937714e-31, 0.0), (9.783158118080767e-116, 0.0), (3.702614043487885e-18, 0.0), (0.0, 5.084416671616455e-66), (7.65261259265392e-98, 8.667863978175996e-113), (2.7276934183541486e-51, 0.0), (2.7116817930468594e-20, 0.0), (1.0465428696831296e-77, 0.0), (2.3389978384943477e-11, 0.0), (2.8028818722867317e-13, 5.489704080701982e-19), (1.2169308968817815e-13, 3.1730118983612288e-18), (1.5236767337910557e-65, 0.0), (4.757835474225539e-84, 0.0), (3.754237058791597e-69, 0.0), (1.2954977735344883e-27, 0.0), (1.4277199955893285e-38, 0.0), (1.062016662282208e-22, 0.0), (3.583375737232318e-24, 0.0), (7.609022134109541e-28, 0.0), (1.0129969341655439e-54, 0.0), (1.64100405993467e-14, 0.0), (3.3362141006568474e-98, 0.0), (0.0, 2.7065100613847142e-99), (9.90001290997059e-65, 0.0), (6.875113741995097e-42, 0.0), (7.566102426610851e-43, 0.0), (3.977508046729303e-13, 0.0), (4.570272792262004e-16, 0.0), (6.424550548486262e-17, 0.0), (5.678964952456655e-20, 0.0), (0.0, 2.1073098667878644e-90), (9.207512413439659e-20, 0.0), (3.132501535630166e-22, 0.0), (2.790067950118301e-28, 0.0), (0.0, 2.377513002285853e-83), (5.729983794615689e-49, 0.0), (0.0, 7.847790907310315e-36), (4.271747666287336e-40, 0.0), (0.0, 1.5091374993609557e-87), (1.621630958693626e-25, 0.0), (6.361376467297503e-185, 0.0), (4.014851253929029e-40, 0.0), (0.0, 1.8335355828666173e-61), (1.8501679224795756e-30, 0.0), (2.203667280761972e-19, 0.0), (0.0, 1.188096757897876e-75), (4.568562380292033e-19, 0.0), (1.8136773185395508e-21, 0.0), (0.0, 1.3102956634871682e-103), (6.18281386744289e-20, 0.0), (1.9230458131391e-38, 0.0), (7.756998653806839e-81, 0.0), (4.09452964740669e-24, 0.0), (8.450547138161252e-56, 0.0), (1.273559890862505e-69, 0.0), (1.3299182708648783e-70, 0.0), (4.840181022747202e-07, 0), (2.7525637315122023e-30, 0.0), (3.944728634334662e-24, 0.0), (0.0, 5.750231497709602e-69), (7.97311077018127e-101, 0.0), (0.0, 1.1757904918447715e-102), (3.0226291581740047e-57, 0.0), (3.205929870878569e-48, 0.0), (4.810184298365382e-74, 0.0), (6.122671699088989e-41, 0.0), (1.0562649056696783e-28, 0.0), (4.554065381571685e-08, 0.0), (2.3389978384943477e-11, 0.0), (0.0, 6.851167638977299e-75), (7.946944533649863e-31, 0.0), (5.155716728183191e-19, 0.0), (0.0, 1.931342845672817e-53), (2.1878020301380218e-20, 0.0), (1.4947386234229862e-26, 0.0), (1.5974163864556432e-16, 0.0), (1.5125219910675434e-17, 0.0), (7.821033686421216e-30, 0.0), (7.0425257218726264e-40, 0.0), (1.5699488333460965e-21, 0.0), (2.5681154434561463e-22, 0.0), (5.651995489750145e-38, 0.0), (4.995797574425081e-18, 0.0), (1.538374726441961e-20, 0.0), (1.4970244542112215e-84, 0.0), (1.108154851447446e-38, 0.0), (2.2960570256557136e-18, 0.0), (5.73345834842493e-81, 0.0), (4.884193764414073e-77, 0.0), (1.2763106007933555e-11, 0.0), (1.6341184189488125e-38, 0.0), (3.0229743032798624e-93, 0.0), (4.578316080096825e-42, 0.0), (1.5313562709550574e-23, 0.0), (0.0, 4.371163835679986e-97), (9.262536185883597e-50, 0.0), (2.1855578585864297e-113, 0.0), (3.8284503709004996e-29, 0.0), (5.852524474906725e-27, 0.0), (2.0543756031774848e-16, 0.0), (1.6189300694862623e-51, 3.2315519887101744e-70), (1.7641520174377292e-27, 0.0), (4.271747666287336e-40, 0.0), (1.0353129708359407e-36, 0.0), (5.1670748373433204e-21, 0.0), (0.0, 1.2021906236898477e-91), (2.1348364977140395e-19, 0.0), (2.781173216362637e-19, 0.0), (4.697272665405609e-22, 0.0), (1.1611213131296388e-32, 0.0), (3.765857323462011e-111, 0.0), (1.6147969834769448e-65, 0.0), (1.478620864757774e-20, 0.0), (0.0, 6.549838552213957e-78), (2.2726350027515023e-23, 0.0), (3.413210155114631e-96, 0.0), (0.0, 1.2133385199204953e-91), (2.260073247192316e-60, 0.0), (5.8637864364031964e-67, 0.0), (5.047288626949321e-13, 0.0), (0.0, 5.746842957950496e-92), (1.0985981547072327e-38, 0.0), (1.2754397890365644e-34, 2.123203779738142e-43), (1.664261984530241e-69, 0.0), (4.818462163614921e-32, 0.0), (4.236437351152701e-43, 0.0), (3.5659272096762005e-28, 0.0), (4.3854704656401805e-24, 0.0), (2.1768527827204945e-33, 0.0), (1.802430548831865e-18, 2.962565887321395e-26), (1.0759437440400226e-21, 0.0), (8.680902666366196e-33, 0.0), (7.084380193466424e-22, 0.0), (3.095981190354473e-38, 0.0), (3.483031660970466e-19, 0.0), (1.9939532614444352e-21, 0.0), (2.0914137685053704e-18, 2.4340247829307505e-24), (1.5326880367489102e-78, 0.0), (2.7175800898648283e-81, 0.0), (2.45263187450083e-27, 0.0), (9.955283562007118e-28, 0.0), (7.749559242286923e-99, 0.0), (1.00029776180771e-73, 0.0), (9.630430367229098e-20, 0.0), (1.5388393688862055e-35, 0.0), (3.4110503927318285e-15, 0.0), (4.377756508425359e-22, 0.0), (5.034085561855973e-66, 0.0), (9.074851232127887e-33, 0.0), (0.0, 6.42471299692682e-80), (4.5657188603653536e-15, 0.0), (6.147651752282847e-29, 0.0), (4.170761392766213e-23, 0.0), (0.0, 6.214109363938786e-83), (1.7095899200068645e-11, 0.0), (2.046564510136498e-29, 1.9508334795046129e-38), (2.848306932586025e-28, 0.0), (1.5569461115696244e-95, 0.0), (2.489471508656744e-55, 0.0), (5.258546880512695e-20, 0.0), (3.515844511237155e-19, 0.0), (2.1202700678694136e-44, 0.0), (5.813578419062328e-25, 0.0), (8.695585421071945e-17, 0.0), (1.628597543886089e-11, 0.0), (1.0811447619536347e-14, 0.0), (6.401724524081173e-33, 0.0), (4.2381320967763644e-30, 0.0), (6.426780712110785e-53, 0.0), (7.689567429390592e-78, 0.0), (1.6237391617992178e-37, 0.0), (2.309136505239248e-18, 0.0), (0.0, 1.0572937600357416e-83), (8.639563075099397e-30, 0.0), (2.4399131770180075e-45, 0.0), (9.37364971182354e-26, 0.0), (7.281289679506378e-15, 0.0), (1.7050366155021203e-82, 0.0), (6.04589406775219e-67, 0.0), (2.6021442183287465e-27, 0.0), (1.6042890402596328e-25, 0.0), (9.289823595311851e-46, 0), (6.059060574570975e-21, 0.0), (0.0, 4.736552778126954e-54), (1.4116381921805097e-19, 0.0), (7.480796842224187e-22, 1.8102633412156677e-27), (2.134813764682469e-25, 0.0), (3.050768521987284e-11, 0.0), (5.774594230752124e-55, 0.0), (5.690253639541728e-96, 0.0), (2.6090948024444623e-40, 0.0), (1.1205685108240824e-18, 0.0), (1.2395876201174564e-20, 0.0), (4.428973088575862e-40, 0.0), (0.0, 6.616817847797293e-82), (2.1551945857195313e-23, 0.0), (4.341937868802509e-26, 0.0), (7.450395039758761e-22, 0.0), (1.0249476227779101e-20, 0.0), (0.0, 1.6909558056975645e-77), (1.3463504030361802e-25, 0.0), (1.1695647250815584e-22, 0.0), (2.9892826503410577e-29, 0), (9.25054851797974e-78, 0.0), (1.2169308968817815e-13, 3.1730118983612288e-18), (4.656459494705958e-34, 0.0), (3.3371705068514326e-187, 0.0), (1.0143432982494338e-21, 0.0), (5.323340100339583e-24, 0.0), (3.693725831975678e-18, 0.0), (1.9726779201514356e-22, 0.0), (3.911724550970471e-30, 0.0), (1.2162167620055766e-166, 0.0), (1.165967943956068e-32, 0.0), (3.3261142100391896e-18, 0.0), (2.790067950118301e-28, 0.0), (0, 1.2002208406346767e-05), (8.309185875623762e-35, 0.0), (5.170523215384741e-38, 0.0), (3.174169096897522e-48, 0.0), (4.447500967185621e-30, 0.0), (4.789470487505976e-25, 0.0), (1.0508692781762312e-40, 0.0), (1.102162065737665e-102, 0.0), (0.0, 1.4794434776684826e-86), (2.5851770988822447e-85, 0.0), (1.0839585642909934e-26, 0.0), (3.248551645690701e-16, 0.0), (1.684373716233871e-22, 0.0), (0.0, 5.861206662061512e-44), (1.5905239985012218e-24, 0.0), (4.0713747492970924e-26, 0.0), (0.0, 5.6029013488734425e-70), (1.4930166701283444e-36, 0.0), (1.1620079788534941e-94, 0.0), (3.255449811409788e-15, 0.0), (1.9877712124679294e-63, 0.0), (0.0, 1.4636443936272903e-81), (4.379208573584364e-18, 0.0), (7.247297829711078e-37, 0.0), (0.0, 5.143708042831795e-76), (3.457908414253367e-14, 0.0), (4.726847001001109e-19, 0.0), (3.2717137138554184e-12, 1.1974417026031198e-16), (2.239142015168334e-57, 0.0), (1.7533133530613111e-43, 0.0), (2.787902229044414e-50, 0.0), (3.66775272611846e-27, 0.0), (1.0084641131701538e-44, 0.0), (7.436424658128117e-13, 0.0), (1.8311373011343648e-73, 0.0), (9.337873316564757e-19, 0.0), (0.0, 5.726882644570691e-97), (1.5512569725341374e-207, 0.0), (0.0, 2.6121050321939535e-35), (4.4755723588231835e-15, 0.0), (1.6754037868465144e-101, 0.0), (6.635951164140874e-22, 0.0), (7.16856019422243e-15, 0.0), (2.1325131371515913e-29, 0.0), (1.3854511258174884e-57, 0.0), (2.1720145455452945e-11, 0.0), (3.1326530283523176e-14, 0.0), (0.0, 1.6238755535167176e-91), (1.8508981123195853e-40, 0.0), (3.0831588207918316e-84, 0.0), (0.0, 2.4193652038311958e-82), (5.098468441575826e-33, 0.0), (1.0120381863864929e-25, 0.0), (1.405985255457554e-44, 0.0), (1.1254725932679493e-25, 0.0), (1.2597586302063965e-88, 0.0), (3.814729679615076e-85, 0.0), (1.4278107020799326e-109, 0.0), (4.7691464737644396e-35, 0.0), (0.0, 1.3112447691635245e-82), (1.2426969197800379e-22, 0.0), (2.3897248292582822e-29, 0.0), (1.623655543302761e-48, 0.0), (8.016140113231554e-133, 0.0), (1.6536863913392175e-55, 0.0), (0.0, 3.0128527930401997e-82), (1.1042363301371477e-46, 0.0), (2.149495002774152e-22, 0.0), (3.829881256302878e-25, 0.0), (8.147130122681343e-19, 0.0), (1.5967858996706636e-22, 0.0), (1.2906411584505535e-25, 0.0), (5.358409629038034e-25, 0.0), (1.7747705860381262e-16, 0.0), (1.4959242310225988e-52, 0.0), (2.544408747253831e-21, 0.0), (3.4760104580347485e-18, 0.0), (0.0, 6.3651239716997074e-65), (1.258174379294535e-32, 0.0), (1.247293412722203e-34, 0.0), (5.566911254482865e-134, 0.0), (7.000465403865135e-13, 8.157738758799321e-16), (1.754250834387353e-82, 0.0), (9.220628786099976e-90, 0.0), (3.11489610414385e-41, 0.0), (1.9981553262873595e-26, 0.0), (0.0, 2.791297046859601e-88), (9.619017801141227e-79, 0.0), (6.083430279647224e-28, 0.0), (4.037339783032964e-51, 0.0), (4.316238413406221e-68, 0.0), (0.003264600686526321, 6.001104203173384e-05), (1.2715272397494687e-32, 0.0), (1.0396947788561847e-25, 0.0), (1.5726858867013987e-27, 0.0), (7.030695648419366e-23, 0.0), (8.284766829108174e-20, 0.0), (1.1134792440299923e-44, 0.0), (6.565101405564288e-56, 0.0), (1.9248233930802474e-43, 0.0), (1.611421063737399e-41, 0.0), (1.1215109589880062e-72, 0.0), (1.1183525065570074e-50, 0.0), (1.2689983655297052e-36, 0.0), (4.4606122290804405e-21, 0.0), (1.9404027989326549e-28, 0.0), (0.0, 5.841973958266272e-109), (3.2750600557270326e-34, 0.0), (5.689499852290809e-12, 2.1421534698587044e-15), (7.485541321674682e-44, 0.0), (3.900642008673362e-20, 0.0), (1.2749319219767021e-24, 0.0), (1.9972073444739813e-49, 0.0), (6.616465639287328e-91, 0.0), (0.0, 1.02407571395408e-90), (7.118649805017754e-19, 2.5960598431716834e-27), (9.327787831446062e-58, 0.0), (4.019668967095385e-14, 0.0), (0.0, 1.5403172085846832e-84), (3.17091772403936e-26, 0.0), (0.0, 7.070251324586671e-26), (1.4398515894555912e-22, 0.0), (0.0, 2.0664479525438025e-89), (1.069253037388315e-109, 0.0), (1.0377319065833691e-66, 0.0), (1.0957876342952112e-24, 0.0), (5.100965686062699e-25, 0.0), (4.3010010720573506e-37, 6.960508420206193e-52), (8.014190461734583e-29, 0.0), (1.598897582594339e-26, 0.0), (3.619798112313064e-43, 0.0), (2.0263755871000176e-31, 0.0), (4.884182912054907e-38, 0.0), (4.0514102224651264e-25, 0.0), (7.022558934775437e-39, 0.0), (2.226486433657444e-13, 5.331739599169587e-18), (5.504078985387521e-23, 0.0), (2.408248165696802e-25, 0.0), (1.714077516782523e-142, 0.0), (2.6830373688931885e-120, 0.0), (3.2750600557270326e-34, 0.0), (1.405985255457554e-44, 0.0), (6.132311271702588e-51, 0.0), (0.0, 1.176743594961445e-46), (1.6400048337624825e-19, 0.0), (2.0761868069748396e-38, 0.0), (3.2424928095696187e-35, 0.0), (1.4897176762956889e-16, 0.0), (2.0170233194833484e-17, 0.0), (0.0, 2.2670864422414404e-62), (4.5029565744210487e-36, 0.0), (0.0, 7.738871877671611e-72), (4.670795086438508e-17, 1.910772333476892e-19), (0.0, 7.980307375242362e-77), (1.595824733177929e-11, 0.0), (0.0, 7.634052440073097e-60), (5.753337918963474e-19, 0.0), (1.3009383503186813e-21, 0.0), (5.616230479851894e-38, 0.0), (0.0002280419597205886, 0), (1.43966624833398e-25, 0.0), (7.082741873712981e-18, 0.0), (1.5194140202071978e-35, 0.0), (0.0, 6.66307321955456e-48), (0.0, 5.73075877447187e-74), (8.03998962733907e-20, 0.0), (5.708232796826134e-25, 0.0), (1.0646757176248899e-48, 0.0), (1.1376663924186117e-22, 0.0), (1.8229201551086152e-66, 0.0), (7.292302413047992e-46, 0.0), (0.0, 5.4426481913503425e-33), (1.823787345387582e-10, 0.0), (2.0592310031060302e-90, 0.0), (2.65652398324112e-22, 0.0), (7.552133732505062e-11, 3.698913649155421e-15), (7.961270156300015e-63, 0.0), (1.1445443160819379e-46, 0.0), (3.7069946917991943e-121, 0.0), (0.0, 1.3395284413297941e-83), (6.634187784249132e-54, 0.0), (1.1517451886824369e-48, 0.0), (2.834458171197044e-78, 0.0), (3.2798293266147017e-14, 0.0), (9.711339137660374e-26, 0.0), (1.705383102319433e-18, 0.0), (8.727741798086352e-65, 0.0), (3.7092439597380917e-23, 0.0), (3.09923782306271e-17, 0.0), (1.0597108746293989e-51, 0.0), (2.072884229858806e-44, 0.0), (4.677074300115757e-22, 0.0), (2.0751268718964492e-16, 0.0), (2.716788939666395e-32, 0.0), (3.42455151268945e-14, 1.9575780568308722e-18), (1.8597111974305237e-31, 0.0), (2.35937850717896e-53, 0.0), (7.503469312955948e-85, 0.0), (6.310554287119121e-24, 0.0), (7.544766526583141e-19, 0.0), (0.0, 8.839067376082199e-60), (4.435683935752035e-18, 0.0), (1.5243827982028738e-58, 0.0), (4.599165284187049e-22, 0.0), (8.475637916134028e-33, 0.0), (1.319740870754755e-63, 0.0), (4.6018578051007485e-20, 0.0), (7.629814452668651e-39, 0.0), (9.743975077825273e-49, 0.0), (5.0966376193489e-100, 0.0), (1.2532738621964174e-32, 0.0), (5.454951628148216e-57, 0.0), (0.0, 4.635100691070445e-62), (5.138033718234154e-55, 0.0), (3.703386009461931e-36, 0.0), (1.1547922986862603e-43, 0.0), (2.6575910791418314e-17, 0.0), (4.8956511284967315e-25, 0.0), (1.1169131571121949e-15, 0.0), (3.010837927260315e-35, 0.0), (2.6809737523367384e-18, 0.0), (0.0, 3.4905644067668805e-69), (4.486751607788229e-28, 0.0), (8.674180482091219e-28, 0.0), (9.14750185970249e-15, 0.0), (6.171848243800682e-30, 0.0), (0.0, 4.77374631291698e-74), (6.537313926219085e-45, 0.0), (2.8714514832772556e-108, 0.0), (2.8606783980612873e-80, 0.0), (0.0, 5.752041878402135e-70), (9.555129194334391e-13, 6.75453796802294e-17), (6.01425275353475e-14, 4.889267696875204e-19), (1.69013061369727e-28, 0.0), (1.1108456603909108e-59, 0.0), (3.9138968224372384e-24, 0.0), (0.0, 1.4165286845665033e-82), (6.307827177241954e-61, 0.0), (1.7093069224506542e-53, 0.0), (0, 1.2002208406346767e-05), (4.964653046733324e-38, 0.0), (7.268405183879907e-45, 0.0), (2.397898881800968e-47, 0.0), (2.477702744196162e-63, 0.0), (9.859485682078254e-20, 0.0), (2.909351397347879e-82, 0.0), (0.0, 5.435255150834798e-37), (9.388834553277435e-63, 0.0), (2.6430237548887718e-80, 0.0), (0.0, 1.5782725979575694e-74), (5.520184754791906e-19, 1.910825302847212e-27), (7.66623463003312e-31, 0.0), (5.677249685830051e-41, 0.0), (1.1776382466022725e-40, 0.0), (6.469542138538252e-15, 0.0), (8.623156840764135e-35, 0.0), (0.0, 1.0662605879796973e-45), (0.0, 2.4658278021079837e-79), (4.725338103526313e-16, 0.0), (0.0, 1.8077816526354138e-85), (7.1401787741158715e-43, 0.0), (2.7570967265094764e-36, 0.0), (2.088055893457072e-79, 0.0), (4.683727759791337e-123, 0.0), (2.733518821642114e-32, 0.0), (6.2693408703678045e-83, 0.0), (3.446910593506521e-15, 0.0), (2.5842218630025228e-99, 0.0), (7.39260102519412e-72, 0.0), (0.0, 2.5956150771256456e-90), (0.0, 3.953776390087259e-65), (8.444813461034126e-18, 0.0), (0.003264600686526321, 6.001104203173384e-05), (1.4093437698467205e-33, 0.0), (0.0, 2.898792403162376e-46), (5.999962797736832e-24, 6.626906775499509e-31), (1.3472403105304072e-60, 0.0), (2.1196718474057194e-31, 0.0), (0.0, 7.520640017521846e-86), (9.804974469710722e-17, 0.0), (9.350416190826394e-23, 0.0), (4.636695035243184e-54, 0.0), (1.1835250497785626e-19, 0.0), (4.954137578055583e-15, 0.0), (4.71533290678e-19, 0.0), (4.124963646239469e-16, 0.0), (7.741609811815544e-25, 0.0), (7.212717784499311e-27, 0.0), (1.4033010814064381e-25, 0.0), (1.679031773769055e-18, 0.0), (7.558439687983973e-52, 0.0), (2.1741104212796697e-35, 0.0), (1.952128093568686e-45, 0.0), (1.3427104953325752e-40, 0.0), (0.0, 8.092371910111609e-83), (9.63490643598564e-14, 0.0), (8.344075460348629e-54, 0.0), (3.8726717146389575e-14, 0.0), (2.046564510136498e-29, 1.9508334795046129e-38), (3.280588997890674e-14, 9.09172463713819e-21), (0.0, 3.953776390087259e-65), (3.361612809031708e-15, 1.6940208102683734e-20), (1.2881968497716297e-35, 0.0), (1.9443887483093042e-17, 0.0), (1.2398086603511809e-17, 0.0), (0.0, 5.081781230895106e-29), (0.0, 9.400240905595539e-73), (1.791008077353832e-45, 0.0), (1.3890262893270375e-17, 0.0), (1.545777191340036e-19, 0.0), (9.366880143633627e-82, 0.0), (2.4718905918311784e-15, 0.0), (1.0463623692219528e-18, 0.0), (1.4058572928191794e-51, 0.0), (4.143963720983244e-92, 0.0), (9.027485063246066e-163, 0.0), (2.4081658848971235e-19, 0.0), (7.827655565121622e-37, 0.0), (0.0, 9.424714865166672e-99), (0.0, 1.2216784831129904e-76), (4.8629072382213925e-82, 0.0), (4.235774403361687e-44, 0.0), (5.891550703075694e-25, 0.0), (9.393914203013647e-64, 0.0), (1.917026963663721e-21, 0.0), (8.155993283654571e-55, 0.0), (0.0, 1.0922585432854327e-80), (0.0, 4.1144378422279396e-86), (5.144138431642854e-47, 0.0), (4.67487402238993e-54, 0.0), (2.098370954869393e-33, 0.0), (0.0, 4.250365870053556e-56), (7.326287678184186e-27, 0.0), (9.254798965574561e-52, 0.0), (1.9069321530742803e-62, 0.0), (0.0, 5.341971992936165e-72), (4.657132549147032e-61, 0.0), (2.8243523281050592e-21, 0.0), (2.7386863477151647e-27, 0.0), (5.57485481066457e-158, 0.0), (2.3724559556082502e-17, 0.0), (1.5251972596841432e-28, 0.0), (1.7298468990340425e-88, 0.0), (6.442716763736919e-49, 0.0), (0.0, 1.730387371279833e-99), (7.19630627284582e-16, 0.0), (0.0, 2.694347413263847e-51), (9.87386417864059e-38, 0.0), (3.704483439111693e-80, 0.0), (0.0, 4.805445638609552e-71), (1.5460086867871172e-111, 0.0), (1.257114701520169e-40, 0.0), (4.184791694890477e-90, 0.0), (1.6806040336176563e-13, 5.956656393766805e-20), (6.454835662177942e-50, 0.0), (2.6674841019848635e-36, 0.0), (4.0845710166883954e-20, 0.0), (3.2426624737859076e-26, 0.0), (1.3807849002997198e-24, 0.0), (1.0896413949485606e-15, 0.0), (0.0, 1.6607149138542467e-98), (3.2623631746699385e-32, 0.0), (0.0, 1.4533753905394157e-74), (1.0696990168232504e-34, 0.0), (5.967548236364183e-51, 0.0), (3.456524589643821e-23, 0.0), (0.0, 1.3129492804780542e-71), (6.3686301392112725e-18, 7.056763681268331e-23), (4.344684416762424e-20, 0.0), (1.9240821778603997e-41, 0.0), (0.0, 5.31297988989017e-61), (8.865249686765101e-16, 0.0), (3.4902536972032736e-35, 0.0), (6.8008368613236825e-81, 0.0), (2.701435082725515e-128, 0.0), (1.682029161433037e-13, 0.0), (1.1166242231920231e-56, 0.0), (1.1367293406665543e-56, 0.0), (3.513046150455737e-78, 0.0), (8.728367323572531e-61, 0.0), (1.6270557217305191e-18, 0.0), (1.2048280202035611e-99, 0.0), (1.0046158392880014e-38, 0.0), (1.23218774244679e-82, 0.0), (2.458764934436426e-32, 0.0), (0.0, 4.93915455111185e-78), (2.3389978384943477e-11, 0.0), (1.514773329336506e-27, 0.0), (4.678586528704147e-22, 0.0), (3.9811968703558976e-22, 0.0), (8.246889068833422e-91, 0.0), (1.8642733227566918e-96, 0.0), (0.0, 6.056739514657377e-97), (4.154096450101568e-37, 0.0), (1.2973589903487976e-33, 0.0), (1.5497379834562784e-21, 0.0), (6.018950181867964e-10, 0.0), (9.672424900151949e-59, 0.0), (6.516868832635323e-96, 0.0), (1.0253120625711152e-55, 0.0), (3.4013104241385524e-83, 0.0), (2.732127327817135e-39, 0.0), (0.0, 1.6154128858096367e-109), (3.98317785798694e-34, 0.0), (2.664437051943507e-36, 0.0), (8.135754154929375e-101, 0.0), (4.4531238561784173e-79, 0.0), (0.0, 2.8374364311394127e-93), (2.644370521058672e-92, 0.0), (4.425473650110137e-56, 0.0), (4.2966759380435815e-20, 0.0), (9.405510886769157e-13, 0.0), (0.0, 4.7411364863426144e-74), (5.800635876462152e-26, 0.0), (0.0, 3.764434711919876e-74), (4.136351615317391e-56, 0.0), (1.058529241161561e-49, 0.0), (1.4915225714436982e-38, 0.0), (7.549703070051966e-27, 0.0), (5.068683146837345e-37, 0.0), (0.0, 4.501214445578862e-84), (1.8059238174400323e-74, 0.0), (6.8491009897791e-20, 0.0), (7.584096457236223e-23, 0.0), (0.0, 2.2745201806980822e-58), (6.042534262507008e-30, 0.0), (2.133552924576166e-15, 3.0514645123203936e-21), (0.0, 2.103866574475996e-78), (6.842100642409798e-64, 0.0), (1.3929447566626043e-90, 0.0), (3.027163375460614e-74, 0.0), (2.3389978384943477e-11, 0.0), (1.9245392798664136e-48, 0.0), (1.79035605287439e-24, 0.0), (1.2422364994050634e-39, 0.0), (5.194757361001778e-48, 0.0), (1.2501240716225907e-20, 0.0), (1.4543616741133702e-21, 0.0), (1.2181578503038643e-25, 0.0), (5.294398645627779e-44, 0.0), (1.3341487325461367e-24, 0.0), (0.0, 1.5220378963105031e-65), (1.182253918077555e-16, 0.0), (3.5036057788088133e-43, 0.0), (7.386994158867568e-20, 5.976509606472462e-25), (8.418511309449055e-44, 0.0), (5.674158852348737e-20, 0.0), (1.3214902170841728e-41, 0.0), (4.385097438733473e-43, 0.0), (2.3389978384943477e-11, 0.0), (3.935379849966416e-83, 0.0), (1.3885383083069784e-23, 0.0), (7.095136478086786e-14, 0.0), (1.2856923710286233e-26, 0.0), (0.0, 1.696061985354433e-69), (6.868292381677354e-60, 0.0), (0.0, 1.4636443936272903e-81), (0.0, 1.6238755535167176e-91), (0.0, 1.2813766964539123e-100), (1.009664623125392e-14, 0.0), (5.971773188141218e-51, 0.0), (1.0316454756897019e-81, 0.0), (5.2211865809221735e-55, 0.0), (3.698679324988187e-28, 0.0), (0.0, 1.4867300544529773e-78), (3.0411781230780716e-14, 3.289339349487689e-19), (1.055739070687625e-19, 0.0), (5.409939892594059e-44, 0.0), (2.8223314002024125e-44, 0.0), (3.9076124966278225e-56, 0.0), (2.194024882139168e-16, 0.0), (0.0, 1.3442446202597752e-40), (1.2822553367433327e-17, 0.0), (4.7328040305078087e-51, 0.0), (3.963319466513652e-18, 0.0), (3.9420999015653435e-27, 0.0), (5.420225574451631e-29, 0.0), (2.6565820132939778e-33, 0.0), (3.386494324681105e-26, 0.0), (2.7754461233888235e-55, 0.0), (1.2162167620055766e-166, 0.0), (1.0130446813755602e-38, 0.0), (1.6785974749055018e-20, 0.0), (1.4457346564778327e-41, 0.0), (1.1903846636329518e-67, 0.0), (9.607557763534754e-84, 0.0), (4.662285697115004e-20, 0.0), (2.8050284860564745e-15, 0.0), (9.590878694178534e-42, 0.0), (4.0132134746900304e-14, 0.0), (8.7321619221845e-51, 0.0), (1.2169308968817815e-13, 3.1730118983612288e-18), (1.1104121757073004e-52, 0.0), (7.09713960527951e-39, 0.0), (0.0, 9.45828279530989e-95), (0.0, 4.086436215090536e-80), (7.6970441107101855e-22, 0.0), (2.6219637778695537e-30, 0.0), (1.727059903806847e-58, 0.0), (3.3190769194219446e-90, 0.0), (8.212934385650626e-22, 0.0), (0.0, 4.1415491358384e-78), (0.0002280419597205886, 0), (1.4396665268373163e-41, 0.0), (6.443707533750799e-20, 0.0), (2.9186969926178977e-30, 0.0), (0.0, 2.552802211510539e-57), (4.168669503666166e-42, 2.6565921594450567e-47), (5.358544281253255e-30, 0.0), (6.661769291454004e-16, 0.0), (2.4358531892510425e-109, 0.0), (5.18091554270245e-68, 0.0), (2.103306341939324e-62, 0.0), (4.132108843542423e-22, 0.0), (0.0, 1.822311427182376e-102), (3.56666929190216e-61, 0.0), (0.0, 1.967280890098318e-74), (1.9313477231127726e-19, 1.1503418429249737e-29), (8.137460980478182e-94, 0.0), (4.737269585338572e-27, 0.0), (1.4548602869702561e-15, 0.0), (6.920855431999568e-40, 0.0), (3.7359308606095698e-87, 0.0), (4.002741521287781e-72, 0.0), (1.110266063843986e-81, 0.0), (3.2440759139767347e-54, 0.0), (1.483427523958192e-45, 0.0), (1.1482648844877396e-20, 0.0), (1.3915696871809709e-24, 0.0), (5.113067166761351e-71, 0.0), (0.0, 6.5132634803085976e-71), (2.8569145564329247e-11, 0.0), (5.450687353690493e-70, 0.0), (3.1081733842411053e-44, 0.0), (3.615356896723943e-30, 0.0), (1.0284732663756638e-22, 0.0), (1.6455434101500861e-21, 0.0), (3.3932474609250735e-14, 0.0), (0.0, 1.671978622077771e-81), (0.0, 6.529014753601161e-78), (3.674684348074216e-114, 0.0), (5.208855646019158e-10, 6.185194746251638e-12), (9.08902426462295e-79, 0.0), (7.994418598372694e-36, 0.0), (3.8140852958639647e-17, 0.0), (1.3833578127231774e-79, 0.0), (1.7039222328989644e-84, 0.0), (8.060118877706374e-51, 0.0), (4.55246645702858e-18, 0.0), (1.4804348054600123e-165, 0.0), (5.4181080567550415e-15, 0.0), (1.2002208406346767e-05, 0), (6.014620578076174e-38, 0.0), (0.0, 3.5661940393995046e-51), (0.0, 3.031661994866317e-77), (4.9478547053723385e-36, 2.1857068226489653e-39), (0.0, 1.6271915148655296e-75), (0.0, 1.322683579643443e-75), (1.7583159152598042e-98, 0.0), (1.084044274287903e-57, 0.0), (2.8996206068559094e-48, 0.0), (1.4473512868361743e-49, 0.0), (1.9870196410366195e-09, 0.0), (8.354984933851577e-46, 0.0), (2.0371666259254135e-24, 0.0), (1.3159538077077421e-77, 0.0), (2.0463761181186348e-27, 0.0), (1.204554364779841e-41, 0.0), (2.268149391413293e-42, 0.0), (0.0, 3.213086717952354e-79), (5.8134685857499554e-179, 0.0), (1.1694921171087727e-32, 0.0), (2.0986452350145385e-50, 0.0), (1.3418750923676128e-48, 0.0), (9.598956796390978e-16, 0.0), (7.94843165211876e-63, 0.0), (6.130261153831132e-116, 0.0), (1.0407682572369295e-21, 0.0), (1.3582379713416632e-18, 0.0), (6.371687577644772e-77, 0.0), (7.571641917735037e-42, 0.0), (3.156065084325314e-32, 0.0), (1.4774781935546042e-16, 0.0), (6.992299037541971e-20, 0.0), (2.3805576190009333e-31, 0.0), (1.8227914442738407e-16, 0.0), (1.3336094847395523e-28, 0.0), (0.0, 6.553253495585209e-91), (9.161692337206409e-85, 0.0), (3.028106056067165e-34, 0.0), (1.2832770126291276e-15, 0.0), (2.2587796708991462e-20, 0.0), (1.1795282387582546e-27, 0.0), (8.337317575644404e-39, 0.0), (7.730208400976087e-74, 0.0), (1.5886879437383112e-40, 0.0), (4.103631399445214e-20, 0.0), (1.2021965780516837e-17, 0.0), (7.253131241936839e-23, 0.0), (9.080872282641788e-37, 0.0), (2.1835990719401785e-15, 0.0), (6.091558685866514e-77, 0.0), (8.705864274356384e-87, 0.0), (6.8871740141859965e-28, 0.0), (1.2635197345681805e-11, 0.0), (6.144969810747401e-23, 0.0), (0.0, 1.4533753905394157e-74), (2.9186308460918497e-68, 0.0), (1.6698222316356694e-33, 0.0), (4.5649137228849274e-33, 0.0), (4.7595066991734996e-94, 0.0), (1.1949793551723165e-22, 0.0), (4.174772364211369e-95, 0.0), (0.0, 7.083514571035017e-79), (9.029015158551983e-18, 2.4199709441916274e-24), (8.950158310657908e-24, 6.837016932973872e-32), (1.1493515201663263e-107, 0.0), (0.0, 3.7200533116496246e-73), (1.5122613829112676e-21, 0.0), (4.9140723059604744e-70, 0.0), (2.1564589600391853e-48, 0.0), (6.26740495248011e-31, 0.0), (1.1568556202013764e-117, 0.0), (6.631474478007267e-20, 0.0), (3.119793784061615e-50, 0.0), (3.8318535124157157e-35, 0.0), (3.6186435037872034e-46, 0.0), (2.691831801433223e-69, 0.0), (9.219392424280385e-08, 0.0), (0.0, 7.642592867970057e-77), (1.2137745424620256e-73, 0.0), (0.0, 5.4705321022035335e-93), (1.1841607364610655e-10, 0.0), (9.822177017990552e-42, 0.0), (0.0, 4.8220618546281966e-80), (0.0, 3.4732284635326437e-90), (1.0794978011880546e-18, 0.0), (1.55331112963709e-27, 0.0), (5.464547197117241e-20, 0.0), (4.224649897316963e-60, 0.0), (4.308584275407068e-28, 0.0), (8.977081133732284e-88, 0.0), (1.440288871896618e-36, 0.0), (8.885273047289456e-90, 0.0), (0.0, 6.851167638977299e-75), (7.869633640362245e-80, 0.0), (4.186600398659156e-16, 0.0), (4.295690622093594e-21, 0.0), (6.447306719105811e-12, 0.0), (1.3571237404011674e-88, 0.0), (3.2440759139767347e-54, 0.0), (1.9082893895416012e-18, 0.0), (0.0, 2.9765583383835e-39), (5.452091268649907e-31, 0.0), (3.0438403349451516e-38, 0.0), (1.5815174673580757e-36, 0.0), (8.886085561523382e-15, 0.0), (1.3996839895133808e-225, 0.0), (9.087702683960593e-33, 0.0), (1.9273586718239623e-22, 0.0), (1.529881615908157e-32, 0.0), (2.2804663462476333e-75, 0.0), (5.7136045260347565e-12, 2.9782220865457837e-16), (1.1159441907982396e-17, 0.0), (8.908359247233307e-42, 0.0), (0.0, 7.568983003812084e-79), (3.8610694180078454e-51, 0.0), (6.956626592244107e-154, 0.0), (0.0, 5.311349230289408e-51), (4.129230367083744e-29, 0.0), (3.854748542764238e-41, 0.0), (9.272161989150172e-21, 0.0), (8.137460980478182e-94, 0.0), (9.991057827983967e-61, 0.0), (1.4496984657754279e-38, 0.0), (8.229191645400567e-107, 0.0), (1.7943420915393217e-113, 0.0), (4.8188175973210916e-15, 1.9592913141413243e-18), (2.061986895591793e-70, 0.0), (3.197188532131112e-23, 1.5263313350251378e-34), (7.649736301978244e-38, 0.0), (3.939906224328462e-20, 0.0), (2.4655041132267007e-45, 0.0), (6.1011856749991085e-24, 0.0), (2.6630652480374207e-22, 0.0), (1.3400018577023249e-14, 0.0), (7.13091366677861e-25, 1.1273913098219605e-35), (1.1833023928742125e-44, 0.0), (1.2419293209967603e-39, 0.0), (3.751205994924005e-32, 0.0), (3.0137202137498937e-29, 0.0), (1.340086464910702e-66, 0.0), (3.5644452730769622e-37, 0.0), (2.4291724707476923e-29, 0.0), (0.0, 1.4369565512124668e-69), (3.791649189830744e-73, 0.0), (9.710323504826764e-18, 3.948070645463475e-26), (2.1382158454100495e-58, 0.0), (3.7583775231508853e-22, 0.0), (6.265971087971147e-33, 0.0), (5.149612372717913e-32, 0.0), (5.69567225193498e-24, 0.0), (1.0179920435572885e-86, 0.0), (1.0252857572042262e-16, 0.0), (1.4397083689694647e-18, 0.0), (9.614939162055564e-20, 0.0), (1.1545314957611192e-38, 0.0), (4.894147509913468e-15, 2.7704085703961474e-22), (0.0, 2.086606076561979e-74), (3.6359546954171636e-17, 0.0), (2.8996525632818137e-201, 0.0), (4.4695920825778544e-36, 0.0), (2.7849663284219974e-14, 0.0), (1.0263358332577376e-22, 0.0), (3.7102387388915173e-209, 0.0), (9.700616411907252e-69, 0.0), (2.9248513242145848e-27, 0.0), (1.0321429032230227e-56, 0.0), (0.0, 6.379604912376037e-82), (1.8120518003216326e-137, 0.0), (1.6610008216620328e-144, 0.0), (1.1726595838019253e-51, 0.0), (1.9577673566685408e-56, 0.0), (2.0531661617912874e-32, 0.0), (1.1704579198241563e-57, 0.0), (2.393806715624221e-16, 0.0), (8.091204060757934e-91, 0.0), (1.4718319805051569e-15, 0.0), (1.2798093112952097e-106, 0.0), (5.780871042135603e-55, 0.0), (5.925953926036115e-22, 0.0), (1.0491561163262406e-23, 1.269343826991887e-23), (2.618895762429224e-17, 0.0), (0.0, 2.8929508907602333e-35), (2.3377856900964594e-19, 0.0), (3.765806257576846e-43, 0.0), (9.616054848959344e-27, 0.0), (4.554065381571685e-08, 0.0), (1.44053006629381e-10, 0), (3.0077619020861766e-33, 0.0), (3.530440410131324e-21, 0.0), (2.480784342377972e-41, 0.0), (1.470202993965911e-96, 0.0), (6.782757078787669e-33, 0.0), (4.3628214400424835e-14, 0.0), (4.099032297523256e-09, 1.6805434893271367e-11), (9.13443997589167e-77, 0.0), (2.872254478832167e-25, 0.0), (4.7043613321285456e-33, 0.0), (4.937136052213154e-86, 0.0), (4.671497226819631e-99, 0.0), (1.6837802298396995e-18, 0.0), (8.380032441457326e-31, 0.0), (6.601324559892151e-44, 0.0), (8.162717661760601e-61, 0.0), (1.3482953593200175e-75, 0.0), (0.003264600686526321, 6.001104203173384e-05), (0.0, 1.3215054162368425e-58), (0.0, 6.475902823750541e-82), (5.402933131789396e-13, 0.0), (5.838070635811106e-14, 0.0), (1.2891784705222826e-17, 1.537358174243903e-23), (1.7095899200068645e-11, 0.0), (1.6304374375767355e-40, 0.0), (0.0, 2.730008748077936e-46), (3.2414826232845744e-14, 0.0), (3.5557665412160707e-102, 0.0), (1.1814367465147274e-13, 0.0), (2.104565888226433e-20, 0.0), (3.145274876394541e-36, 0.0), (6.502720462450761e-71, 0.0), (6.732013208953692e-25, 0.0), (0.0, 2.1730706613914947e-41), (9.412520189203696e-25, 0.0), (5.390925994896474e-38, 0.0), (0.0, 6.553253495585209e-91), (1.665650844835005e-65, 0.0), (6.491829047427652e-54, 0.0), (1.0472149235982092e-62, 0.0), (8.585929897347113e-59, 0.0), (5.7962646131700324e-27, 0.0), (3.815936674354344e-18, 3.8939920337494314e-23), (2.02376060032878e-37, 0.0), (2.7993955559310457e-15, 0.0), (1.6846566756839517e-101, 0.0), (0.0, 8.107765518366367e-117), (1.528180139781999e-33, 0.0), (3.5690726135636913e-72, 0.0), (7.905383462015167e-24, 0.0), (2.407013198593196e-56, 0.0), (3.143657296769846e-119, 0.0), (1.3844131088460526e-43, 0.0), (0.0, 7.692129968838264e-94), (5.90441254992802e-19, 0.0), (1.1843105386099525e-20, 0.0), (2.705588456275789e-85, 0.0), (4.282867380443506e-27, 0.0), (2.6827831536661645e-31, 0.0), (2.488084303866847e-82, 0.0), (9.613655483036438e-66, 0.0), (9.353737627957398e-87, 0.0), (0.0, 1.4865652356675516e-101), (1.9024753232210135e-26, 0.0), (3.2585615254499265e-20, 0.0), (6.559294966598764e-55, 0.0), (2.1476107834374716e-93, 0.0), (2.138877206673808e-76, 0.0), (8.074874599434736e-27, 0.0), (3.858396763298734e-43, 0.0), (2.2929717563531102e-120, 0.0), (5.7507328702331594e-30, 0.0), (1.0416771465960173e-76, 0.0), (4.3855072965744864e-79, 0.0), (4.829991055909087e-29, 0.0), (2.4046408327118397e-91, 0.0), (6.2245338081130195e-21, 0.0), (5.692148227410305e-30, 0.0), (4.6264069082270086e-54, 0.0), (5.521871202605687e-14, 0.0), (8.095358648801809e-16, 0.0), (5.91071749581837e-82, 0.0), (1.150806764027639e-15, 3.179634788806006e-21), (2.7753002560985077e-43, 0.0), (2.5747361867045175e-19, 1.5457383040682202e-25), (1.3014129742437896e-94, 0.0), (3.914952141180014e-119, 0.0), (3.365606777498406e-30, 0.0), (1.1108303368100112e-76, 0.0), (2.2155206804405536e-18, 2.4118450038509704e-27), (0.0, 2.6661262710543695e-103), (1.1160868734347074e-71, 0.0), (7.660994599320715e-23, 0.0), (0.0, 9.04162008103429e-53), (1.6697602585474765e-10, 5.5012443424723645e-15), (1.402940216609318e-26, 0.0), (0.0, 2.6687816924844295e-52), (0.0, 2.372666734926231e-89), (0.0, 8.161609146749894e-68), (8.121899401762948e-20, 0.0), (5.341619979299991e-85, 0.0), (2.8493269091233676e-46, 0.0), (8.992015173622491e-61, 0.0), (0.0, 8.569760513095154e-57), (1.512888899533906e-45, 0.0), (0.0, 1.744371432990969e-79), (0.0, 5.726882644570691e-97), (1.7638509777086075e-52, 0.0), (1.1841117012198628e-133, 0.0), (1.9842202171232937e-22, 0.0), (7.980026727429309e-58, 0.0), (0.0, 1.7503158505829208e-91), (4.356584186259243e-41, 0.0), (7.185907667860697e-37, 0.0), (5.917359447545018e-63, 0.0), (2.669854468025986e-21, 0.0), (6.379051147371542e-57, 0.0), (1.792716723133006e-29, 0.0), (6.116277162844078e-51, 0.0), (2.848613987268831e-26, 0.0), (6.417588445446826e-68, 0.0), (0.0, 3.420777999565948e-73), (8.206530264761199e-101, 0.0), (1.1127513084227622e-44, 0.0), (4.430431516567399e-23, 0.0), (2.408525550586477e-52, 0.0), (8.304503293594021e-88, 0.0), (2.488975824719836e-60, 0.0), (2.5533484881763736e-20, 0.0), (1.5501627213944302e-16, 0.0), (1.8208412598148243e-18, 0.0), (2.6167986503538523e-12, 0.0), (9.39249326114899e-37, 0.0), (7.423944107310968e-17, 0.0), (1.3684745226795758e-59, 0.0), (0.0, 4.227529968355262e-71), (4.7133601717507186e-14, 0.0), (1.1388154168944673e-51, 0.0), (1.1570420600594744e-46, 0.0), (1.182253918077555e-16, 0.0), (7.177869508626983e-20, 0.0), (4.0945636925967524e-22, 0.0), (1.2562772756448834e-23, 0.0), (4.533909534106716e-102, 0.0), (1.7843826341642386e-29, 0.0), (6.278400682557276e-15, 0.0), (1.5219769251133962e-32, 0.0), (0.0, 4.117759265866128e-61), (0.0, 4.9361797551784285e-83), (5.501131491014755e-29, 0.0), (1.6856092771729758e-22, 0.0), (1.587751997365625e-56, 0.0), (6.520053952128189e-20, 0.0), (2.7957809409768293e-30, 0.0), (2.4437591953689793e-26, 0.0), (1.6969156716101483e-31, 0.0), (7.331900936626771e-23, 0.0), (2.448511857246044e-38, 0.0), (1.2551312951512374e-37, 0.0), (3.106608565683734e-34, 0.0), (1.6923101681045997e-30, 0.0), (0.0005400993782856046, 1.2002208406346767e-05), (0.0, 3.210993591189434e-61), (1.20147438828834e-20, 0.0), (5.5435591499817986e-18, 0.0), (8.320412403852696e-17, 0.0), (0.0, 6.447445847234669e-86), (1.864362490631591e-108, 0.0), (7.73839592846782e-22, 0.0), (1.754250834387353e-82, 0.0), (2.22332336174516e-72, 0.0), (0.0, 2.8789718274048443e-84), (2.9945358743535074e-16, 0.0), (3.903450076210888e-32, 0.0), (2.306831767339939e-18, 0.0), (5.718568890124946e-49, 0.0), (5.8573911402423484e-15, 0.0), (0.0, 2.694347413263847e-51), (3.206454420084081e-64, 0.0), (2.046564510136498e-29, 1.9508334795046129e-38), (7.37950539215065e-33, 0.0), (2.0692123950892145e-09, 0.0), (5.448974898928438e-22, 0.0), (9.885337754009489e-17, 0.0), (2.287708947735675e-17, 0.0), (5.786392350831642e-25, 0.0), (1.7635332912692174e-13, 0.0), (2.3893862068887106e-19, 0.0), (1.3156181254560546e-36, 0.0), (6.401215913618874e-94, 0.0), (1.7724382984185224e-32, 0.0), (8.08223981422882e-37, 0.0), (0.0, 6.549838552213957e-78), (6.740962481173528e-69, 0.0), (1.621903854287651e-14, 0.0), (0.0, 1.6800736419803947e-115), (5.775134013513093e-14, 0.0), (8.823485884283766e-20, 0.0), (2.3787279526239398e-33, 0.0), (8.045804747685161e-27, 0.0), (6.2282534511367875e-37, 0.0), (3.313503037550506e-14, 0.0), (9.259136856751024e-26, 0.0), (8.090328595959269e-30, 3.4718648035439395e-41), (1.7565252161819402e-87, 0.0), (1.8385924510905975e-31, 0.0), (4.420437768682004e-21, 0.0), (4.0737619028318924e-10, 0.0), (4.8720164344247027e-23, 0.0), (3.8570732447871726e-28, 0.0), (2.0692123950892145e-09, 0.0), (8.98102142576039e-30, 0.0), (1.7505093886193247e-85, 0.0), (1.2392303190927427e-63, 0.0), (2.9005262225058624e-89, 0.0), (0.0, 6.149269497040437e-68), (2.7192390806486573e-37, 0.0), (1.6946434719344162e-42, 0.0), (8.87697423578146e-17, 0.0), (4.602493561808724e-07, 0.0), (0.0, 9.219139892209067e-92), (4.3459316101854696e-15, 0.0), (4.800883362538707e-05, 0.00014402650087616122), (3.884422842144045e-63, 0.0), (5.42829278377709e-23, 0.0), (1.077778686341153e-12, 0.0), (1.4699442763641443e-62, 0.0), (2.1975245075888836e-23, 0.0), (6.583192323533038e-37, 0.0), (8.281739775351e-40, 0.0), (1.3707058839871858e-55, 0.0), (5.663196206379809e-51, 0.0), (4.092085133168007e-39, 0.0), (5.754270718776607e-44, 0.0), (8.375486855996333e-38, 0.0), (1.5294603911821313e-17, 0.0), (5.920607326827119e-69, 0.0), (1.5111094330945111e-49, 0.0), (2.3326091125879516e-30, 0.0), (4.6901797531757445e-60, 0.0), (1.5605702352866958e-44, 0.0), (2.2117244428272495e-25, 0.0), (4.442841343196177e-29, 0.0), (6.171314245976109e-25, 0.0), (0.0, 4.761191891061081e-99), (9.736251857778306e-39, 0.0), (1.1777067166782758e-47, 0.0), (0.0, 2.3373782760321543e-82), (8.298071071388497e-70, 0.0), (1.1233015483702061e-10, 0.0), (5.397554411967611e-40, 0.0), (1.693303527467502e-17, 0.0), (2.20904453642476e-25, 0.0), (2.1000268528190595e-33, 0.0), (0.0, 1.1931977400426452e-91), (1.803739847208932e-21, 0.0), (4.6685533669630074e-24, 0.0), (5.171405069745733e-106, 0.0), (5.502571387061466e-135, 0.0), (1.8091008869779915e-16, 0.0), (1.8757810702938337e-58, 0.0), (1.7889415599932763e-33, 0.0), (1.922144322805649e-22, 0.0), (5.692148227410305e-30, 0.0), (8.693744029810175e-12, 0.0), (0.0, 2.33772171844034e-48), (1.4336017261608216e-30, 0.0), (4.295223143879541e-45, 6.521779422687208e-59), (2.2367695665915866e-77, 0.0), (3.858539060672429e-58, 0.0), (4.922139323644609e-62, 0.0), (0.0, 4.093389895730687e-92), (2.8594101609351033e-41, 0.0), (0.0, 2.754398183970875e-92), (1.460047955503964e-23, 0.0), (3.967566282400125e-27, 0.0), (6.545607463191381e-91, 0.0), (7.626617852484465e-82, 0.0), (0.0, 4.434466031187106e-65), (0.0, 8.542141212479684e-82), (6.601030858487811e-36, 0.0), (2.410133201760671e-52, 0.0), (5.0245218951245433e-20, 0.0), (4.3174757676378014e-14, 0.0), (1.9188794943139348e-36, 0.0), (7.099111953981117e-46, 0.0), (2.164938362912127e-15, 0.0), (0.0, 3.3324927460465386e-41), (2.7374007679278853e-23, 0.0), (2.2824556270939436e-77, 0.0), (6.403132191525962e-46, 0.0), (4.53335168306085e-16, 0.0), (2.0908919529377153e-85, 0.0), (7.91955969519985e-29, 0.0), (5.250272128745934e-41, 0.0), (3.018730767399286e-91, 0.0), (3.318962420417649e-31, 0.0), (9.915114204843491e-42, 0.0), (1.093723399127874e-59, 0.0), (9.68367371802532e-55, 0.0), (1.9605165606217768e-41, 0.0), (1.7953535473003046e-53, 0.0), (8.929333033687654e-22, 0.0), (3.867368771985069e-87, 0.0), (5.801111283970051e-32, 0.0), (0.0, 8.37883828753792e-68), (8.01800124850006e-30, 0.0), (5.150680732676978e-20, 0.0), (4.946245299780438e-94, 0.0), (7.844040189727839e-34, 0.0), (1.5640497168880145e-45, 0.0), (1.6082914728862212e-12, 0.0), (2.8586947787245486e-15, 0.0), (6.250538486781782e-57, 0.0), (1.481413613890214e-25, 0.0), (1.4539870712092434e-40, 0.0), (0.0, 3.223936635519217e-67), (0.0, 1.2044372748678546e-87), (6.483880153752453e-26, 0.0), (9.71233524107455e-26, 0.0), (2.638160595935421e-94, 0.0), (9.509077047784071e-142, 0.0), (3.117524306855064e-23, 0.0), (3.1181322012400575e-19, 0.0), (7.734151840691046e-74, 0.0), (1.488309146863721e-19, 0.0), (1.58776536092679e-27, 0.0), (0.0, 1.61222732310209e-49), (1.1750129509971394e-65, 0.0), (5.078266236343838e-118, 0.0), (4.5861610952819735e-88, 0.0), (9.89616513416288e-48, 0.0), (1.4010738463415006e-31, 0.0), (5.2330759300376015e-23, 0.0), (2.9504810271386996e-47, 0.0), (1.3751643315691332e-19, 0.0), (2.5017743102289843e-45, 0.0), (9.231769820886333e-49, 0.0), (2.1053475380181625e-10, 0.0), (3.843452231980115e-23, 0.0), (0.0, 2.4358145821887675e-38), (2.0701214670779395e-20, 0.0), (0.0, 1.5669232626789626e-78), (1, 1), (6.724988169580445e-73, 0.0), (3.8142129532821375e-27, 0.0), (4.434477940785188e-17, 0.0), (3.7562947718983807e-41, 0.0), (1.811073587587711e-34, 0.0), (5.6067626679494785e-40, 0.0), (3.429752817482125e-78, 0.0), (3.1966145121164744e-21, 0.0), (2.5951207308287787e-33, 0.0), (0.0, 3.7383303966001536e-65), (2.1731606582755445e-21, 0.0), (7.796541474195546e-77, 0.0), (5.586867979851263e-20, 0.0), (5.939889961752006e-23, 0.0), (3.0760111486660527e-55, 0.0), (4.095664922029425e-43, 0.0), (0.0, 2.694347413263847e-51), (2.895812337367312e-47, 0.0), (7.685838596294544e-24, 0.0), (1.6335894120327856e-20, 0.0), (0.0, 4.77374631291698e-74), (7.152933785030516e-20, 0.0), (1.4985813346688077e-35, 0.0), (6.122671699088989e-41, 0.0), (2.5975749708310595e-25, 0.0), (3.45510644123153e-44, 0.0), (7.93724686100303e-27, 0.0), (2.3719095934889785e-51, 0.0), (3.715194633132004e-15, 0.0), (3.1276939873819693e-16, 0.0), (1.9637844725925806e-72, 0.0), (1.2963007063353024e-07, 1.8464366455009412e-10), (4.396262626656036e-28, 0.0), (2.61455258380329e-35, 0.0), (0.003264600686526321, 6.001104203173384e-05), (4.0694462103811365e-80, 0.0), (2.8345202192058216e-82, 0.0), (3.660523802025336e-15, 0.0), (0.0, 1.6066143617187648e-66), (0.0, 1.0662605879796973e-45), (6.905878422800524e-33, 0.0), (5.192923099244513e-28, 0.0), (7.169374125298634e-155, 0.0), (2.050179178614393e-23, 0.0), (2.9176397008290824e-52, 0.0), (1.3213388363959678e-82, 0.0), (1.7488919943091185e-54, 0.0), (1.0380408332482147e-19, 0.0), (1.0128727202370421e-43, 0.0), (2.6988663541673515e-16, 0.0), (4.761299943093437e-19, 0.0), (8.780107950247431e-57, 0.0), (0.0, 1.3566802166308794e-67), (2.1404561263020256e-64, 0.0), (0.0, 6.749282610716083e-88), (8.508871270130707e-51, 0.0), (1.6968300888889633e-60, 0.0), (9.010776511478613e-17, 0.0), (9.77381160329299e-24, 0.0), (7.287647194326595e-78, 0.0), (5.301005597366232e-68, 0.0), (5.835618727698846e-23, 0.0), (7.62765301645125e-14, 0.0), (0.0, 9.859694916950021e-72), (1.8884293143703564e-103, 0.0), (5.512925778829738e-172, 0.0), (2.799552753457444e-100, 0.0), (3.463144644110327e-49, 0.0), (2.5944049985755856e-90, 0.0), (1.129610722921106e-13, 2.145539419990209e-16), (1.6970942446467826e-15, 0.0), (0.0, 9.400955846981054e-65), (6.408680104760546e-21, 0.0), (2.046564510136498e-29, 1.9508334795046129e-38), (5.346571986443212e-28, 0.0), (2.183025257421293e-27, 0.0), (0.0, 3.1410690466207946e-81), (4.475734239654917e-31, 0.0), (0.0, 2.4319493898388334e-76), (8.700134911494826e-17, 0.0), (2.8144725073099966e-242, 0.0), (0.0, 5.0253136547043644e-105), (1.2694205282960226e-16, 0.0), (9.831698098825888e-10, 0.0), (1.1351864684513635e-19, 0.0), (7.751945941434293e-15, 3.714768157592561e-20), (1.8153470942756892e-90, 0.0), (1.420092395949145e-47, 0.0), (3.5055697667664025e-18, 0.0), (0.0, 4.624905547565029e-103), (3.5180380879023107e-127, 0.0), (6.3219677809890014e-80, 0.0), (6.964646939285451e-24, 0.0), (0.0, 1.3837767873664182e-81), (2.8558302982102225e-50, 0.0), (1.1872559096573459e-26, 0.0), (1.1522784635846635e-27, 0.0), (7.304623882135078e-92, 0.0), (7.766093137301667e-87, 0.0), (2.1502619871070176e-25, 0.0), (1.4215106086375654e-29, 0.0), (1.6483906490359791e-24, 0.0), (9.582976813671343e-30, 0.0), (1.0069493894253283e-16, 0.0), (2.5628325714390056e-57, 0.0), (0.0, 2.219936130556663e-107), (0.0, 1.411608534793875e-77), (2.2052797201640917e-83, 0.0), (1.4518832671910695e-14, 0.0), (2.8130817030672175e-15, 0.0), (3.1525169418405096e-18, 0.0), (4.299076277467225e-46, 0.0), (1.2002208406346767e-05, 0), (2.1255437023023672e-24, 0.0), (2.8550664622161924e-77, 0.0), (2.1201401291446243e-44, 0.0), (3.8741994592672045e-30, 0.0), (4.1619516257456984e-51, 0.0), (1.4607315901017626e-66, 0.0), (1.5267267506996967e-53, 0.0), (1.4746106287911249e-47, 0.0), (1.1474463909994386e-62, 0.0), (5.533260434688466e-22, 0.0), (0.0, 1.941159766735245e-58), (0.0, 3.2767701569359887e-99), (1.236210293157104e-23, 0.0), (1.5763963961691435e-90, 0.0), (1.6888759511247723e-87, 0.0), (0.0, 1.0159052763017305e-81), (1.4244614998324672e-65, 0.0), (2.440174782017469e-41, 0.0), (1.4652017801708408e-48, 0.0), (8.668906822319013e-85, 0.0), (3.461767418016441e-21, 0.0), (3.243140332725914e-19, 0.0), (3.897779571878414e-38, 0.0), (2.2695945059370965e-22, 0.0), (1.102162065737665e-102, 0.0), (1.6848439655372403e-06, 0.0), (1.0373121963896445e-19, 0.0), (0.0, 1.6536271589643933e-73), (2.9069921969769123e-44, 0.0), (0.0, 3.0622367469441788e-80), (0.0, 2.1965815959042937e-86), (1.0822881391362105e-69, 0.0), (7.099160305745155e-83, 0.0), (5.265875621339436e-72, 0.0), (1.0672652236173989e-27, 0.0), (4.7511333898589584e-24, 0.0), (3.685709230991151e-80, 0.0), (3.505618922428301e-39, 0.0), (1.0489490401422178e-35, 0.0), (5.578473061458893e-30, 0.0), (6.060733486836985e-32, 0.0), (1.815693811868937e-61, 0.0), (5.390996994534335e-63, 0.0), (2.6557737985212885e-13, 0.0), (5.6382020868893114e-14, 0.0), (3.440659274159139e-29, 0.0), (2.413505360135372e-13, 0.0), (0.0, 5.2015645849686717e-73), (4.1881605086300954e-23, 0.0), (2.6409133042458056e-21, 0.0), (3.5595929963477417e-44, 0.0), (7.490756344727812e-09, 2.304848106070096e-09), (8.45509723625673e-54, 0.0), (0.0, 2.2098689649253835e-96), (1.0131712074113853e-56, 0.0), (2.148903537429907e-16, 0.0), (2.4514236752565627e-90, 0.0), (1.1470697995930973e-27, 0.0), (9.285586857082787e-40, 0.0), (1.7624856907365387e-28, 0.0), (3.024040887877258e-14, 0.0), (1.4326983030594444e-12, 3.389248945136517e-17), (3.938402413079833e-20, 0.0), (2.5792414361411843e-43, 0.0), (9.127060747934941e-35, 0.0), (5.679935330191667e-22, 0.0), (0.0, 8.618982609103783e-80), (3.3751839238708906e-144, 0.0), (5.5036414410448065e-53, 0.0), (9.58325131370233e-13, 1.369583735451656e-18), (3.2121322655741126e-16, 1.7046085385304852e-24), (3.893928541385937e-21, 0.0), (6.931953273938459e-37, 0.0), (1.2946948372222396e-30, 0.0), (0.0, 3.1738618946538853e-75), (1.50147010282973e-40, 0.0), (1.6834357610116236e-35, 0.0), (2.2461191115561976e-73, 0.0), (4.623860550916302e-47, 0.0), (2.9417786965217957e-28, 0.0), (0.0, 3.0152161662143164e-71), (2.9820708629736694e-77, 0.0), (1.8876834955686593e-16, 1.3566158620719651e-22), (2.664871005178725e-38, 1.3749371970513613e-50), (3.630803834966035e-14, 0), (1.2424703175174122e-38, 0.0), (1.0868377469234971e-58, 0.0), (1.838103265928578e-11, 0.0), (3.35611250592918e-27, 0.0), (0.0, 3.331589348148344e-62), (0.0, 1.18020920123359e-46), (3.4144358341347937e-43, 0.0), (0.0, 1.6044759520406796e-66), (9.369568280958498e-47, 0.0), (1.2890401774578253e-27, 0.0), (3.645561215686007e-28, 0.0), (8.384720813568614e-36, 0.0), (6.589935057040714e-16, 0.0), (6.331271458630587e-47, 0.0), (0.0, 1.3102956634871682e-103), (8.548860296722834e-16, 0.0), (2.6144938540333576e-75, 0.0), (9.788829729497843e-62, 0.0), (0.0, 1.6283158700771494e-71), (2.874287519313548e-43, 0.0), (0.0, 4.931605550306298e-52), (1.1421357635892276e-30, 0.0), (1.973803975935318e-69, 0.0), (9.697483347717836e-61, 0.0), (1.3376040043079117e-52, 0.0), (8.673742908073308e-18, 0.0), (4.15719016931642e-52, 0.0), (1.8317669018208824e-91, 0.0), (1.0654918743637644e-27, 0.0), (4.5980993832362444e-30, 0.0), (3.6997457704796324e-59, 0.0), (3.0577250747025317e-16, 0.0), (0.0, 6.805207855361464e-70), (3.391033863171382e-106, 0.0), (1.764125700685445e-24, 0.0), (3.3339683635164394e-79, 0.0), (6.01436352344104e-27, 0.0), (0.0, 5.752041878402135e-70), (1.4083978668445944e-19, 0.0), (7.03389901965159e-26, 0.0), (7.075565799687728e-55, 0.0), (1.1866228885127213e-24, 0.0), (1.3670787773956694e-18, 0.0), (1.3065071108522555e-24, 0.0), (2.5771180304073713e-68, 0.0), (0.0, 8.781456659182668e-54), (1.4885188359247574e-19, 3.9519467316511674e-25), (4.244222578595289e-48, 0.0), (0.0, 4.371163835679986e-97), (2.4722231501025538e-14, 0.0), (0.0, 1.2398095765734826e-64), (4.2854356075289417e-26, 0), (9.080872282641788e-37, 0.0), (0.0, 4.006410916744571e-73), (4.0511306434697405e-32, 0.0), (1.9654496660187586e-47, 0.0), (0.0, 6.014897696809889e-72), (3.5708514090977136e-57, 0.0), (7.072045800621813e-191, 0.0), (1.259417534285619e-142, 0.0), (1.2140607089434647e-32, 0.0), (6.799285314946395e-10, 8.644771035633418e-15), (6.645126545597137e-26, 6.655255590907896e-33), (7.284805228278653e-56, 0.0), (1.7797513613262327e-50, 0.0), (1.9714261685406128e-14, 0.0), (6.020064087270771e-21, 0.0), (1.9091167221447333e-18, 0.0), (1.5251972596841432e-28, 0.0), (7.998495980784548e-43, 0.0), (1.1484288538173405e-19, 0.0), (4.5089544944188546e-63, 0.0), (5.662652075114342e-20, 0.0), (1.5195260036003484e-39, 0.0), (7.165443259293322e-42, 0.0), (0.0, 1.892036972737331e-93), (7.083797794716192e-95, 0.0), (4.0859185940857054e-19, 0.0), (5.935597961353837e-28, 0.0), (0.0, 2.1231204616753403e-84), (1.1528949894194565e-56, 0.0), (0.0, 0.0), (3.255538197587439e-89, 0.0), (3.2986723712437687e-34, 0.0), (7.994883323989606e-39, 0.0), (7.756998653806839e-81, 0.0), (6.671963180982723e-16, 0.0), (1.4750510237970243e-16, 4.819487992401765e-18), (2.96606184307647e-14, 0.0), (0.0, 1.0230957200961662e-80), (2.8208178952435765e-58, 0.0), (3.6007021656915116e-25, 0.0), (0.0, 9.722954177672912e-87), (2.5945507185717513e-28, 0.0), (9.91510018345784e-46, 0.0), (6.888091826425797e-15, 0.0), (4.653555050748398e-29, 0.0), (1.0455483332708917e-18, 7.27618433640335e-17), (5.550364239009642e-16, 0.0), (1.1244360777686329e-41, 0.0), (2.4510888695213566e-20, 0.0), (1.1028284351477583e-91, 0.0), (3.996943332254394e-64, 0.0), (1.4667656293153913e-56, 0.0), (4.9245430424588e-23, 0.0), (3.7892989776527214e-32, 0.0), (3.2223283370242325e-155, 0.0), (5.924945189488887e-21, 0.0), (3.3613675163921514e-44, 0.0), (1.8090896284547102e-59, 0.0), (1.4979911460863374e-75, 0.0), (2.3810286777986054e-26, 0.0), (3.622996184331911e-15, 0.0), (3.030371800314286e-58, 0.0), (0.0, 4.54254238296412e-81), (9.092776398672174e-49, 0.0), (1.945731337175972e-145, 0.0), (3.47745149495197e-62, 0.0), (0.0, 7.562162700407666e-81), (2.222811735989188e-74, 0.0), (3.789820289342698e-61, 0.0), (6.943256918146965e-20, 0.0), (1.2947671567086482e-47, 0.0), (9.233293158415106e-58, 0.0), (0.0, 4.221835339767205e-92), (1.841785573446271e-52, 0.0), (3.278666617111262e-17, 0.0), (2.8263730206467608e-68, 0.0), (3.5197065581637e-45, 0.0), (2.494970408659054e-109, 0.0), (1.0276705050933437e-31, 0.0), (9.52572879681336e-13, 0.0), (5.901403165205688e-57, 0.0), (4.7557499442207945e-47, 0.0), (7.889173796090759e-19, 1.5736894372909244e-21), (1.8748356162193687e-46, 0.0), (2.968826989164775e-19, 0.0), (4.078510289131412e-17, 0.0), (3.0238735662184535e-48, 0.0), (6.320815258969315e-21, 0.0), (2.5574538358146727e-16, 0.0), (0.0, 7.64546241151608e-90), (5.646277554415078e-21, 0.0), (3.198082573102094e-70, 0.0), (1.8025393138276904e-16, 4.7177144443532656e-20), (5.113227291491091e-46, 0.0), (1.2423352468217305e-13, 0.0), (1.2826278132504626e-57, 0.0), (3.2121322655741126e-16, 1.7046085385304852e-24), (6.970958290697799e-26, 0.0), (0.012002208406346767, 0.001860342302983749), (4.878509285356607e-26, 0.0), (2.5267502494133365e-52, 0.0), (1.2585678632436031e-34, 0.0), (5.5905923822949016e-49, 0.0), (1.5419222207972265e-68, 1.6489698215967129e-65), (3.2225104821775923e-67, 0.0), (5.855618910245186e-88, 0.0), (5.077666475380324e-33, 0.0), (4.894147509913468e-15, 2.7704085703961474e-22), (8.574845855223083e-24, 0.0), (4.8785787268414206e-32, 0.0), (3.962606315912592e-31, 0.0), (1.0930281367046463e-16, 0.0), (9.530435184558821e-13, 0.0), (0.0002280419597205886, 0), (0.0, 1.0879475152702586e-84), (0.0, 7.738523343286597e-87), (2.3389978384943477e-11, 0.0), (4.841617225292911e-45, 0.0), (2.6482338667089852e-22, 0.0), (2.0863869766541284e-23, 0.0), (1.152080081258496e-86, 0.0), (0.0, 1.7020942609626947e-89), (6.579995583224295e-52, 0.0), (3.1687518785189595e-63, 0.0), (6.8956703631527835e-34, 0.0), (0.0, 5.383120497516842e-73), (0.0, 4.54254238296412e-81), (5.364155617861919e-27, 0.0), (1.1841607364610655e-10, 0.0), (2.9455877317120474e-38, 0.0), (0.0, 5.389819533716669e-79), (1.9939532614444352e-21, 0.0), (1.0966597858538554e-56, 0.0), (4.6659137305429835e-17, 0.0), (2.111993082156026e-190, 0.0), (1.0109008380964052e-57, 0.0), (1.8088299026467446e-18, 2.9993362057506857e-23), (2.6282857894880057e-16, 0.0), (4.650940355444073e-13, 0.0), (0.0, 6.5132634803085976e-71), (1.1694921171087727e-32, 0.0), (1.9313477231127726e-19, 1.1503418429249737e-29), (6.538208648787014e-26, 0.0), (5.020129482709191e-26, 0.0), (3.859253648336448e-34, 0.0), (2.323005928714571e-21, 0.0), (7.596466244939628e-58, 0.0), (8.225438415076993e-34, 0.0), (3.07689246742323e-28, 0.0), (5.745377258443338e-79, 0.0), (2.0748519302798853e-83, 0.0), (1.2185062901253258e-19, 0.0), (1.6362203120193026e-45, 0.0), (0.0, 1.4942960562712974e-58), (4.872722337723056e-23, 0.0), (8.25968784055355e-18, 0.0), (3.032870661422203e-91, 0.0), (0.0, 8.092371910111609e-83), (5.595492031296038e-28, 0.0), (4.70116200624565e-15, 2.3660799926806053e-22), (1.1700348510657906e-63, 0.0), (1.1008082176415637e-60, 0.0), (0.0, 3.805340093991369e-84), (4.143427615079964e-21, 0.0), (7.632164974794209e-26, 0.0), (2.731713855251755e-33, 0.0), (4.610828189159172e-19, 0.0), (5.781622868631629e-11, 0), (2.4816650443290225e-69, 0.0), (5.469599234689891e-35, 0.0), (1.9516256853040105e-32, 0.0), (1.978780607422102e-72, 0.0), (4.2854356075289417e-26, 0), (1.004192743808792e-25, 0.0), (2.6225161848240707e-26, 0.0), (0.0, 1.4641673632907501e-61), (7.11540657765761e-61, 0.0), (2.9316741834797334e-45, 0.0), (9.609952758901382e-37, 0.0), (1.3026818681981525e-13, 0.0), (2.8780863313513623e-10, 0.0), (1.4290863986037015e-20, 0.0), (6.797082909130505e-23, 0.0), (8.981281909687633e-13, 0.0), (4.943174856300288e-54, 0.0), (2.143387610880137e-72, 0.0), (7.390913319081031e-39, 0.0), (2.8902430369145706e-14, 1.4124551124306142e-19), (1.4126599431442186e-33, 0.0), (3.7102387388915173e-209, 0.0), (1.673382309497296e-16, 0.0), (6.8165142150936605e-93, 0.0), (1.7351841740351548e-23, 0.0), (2.689157028262424e-57, 0.0), (0.0, 3.4732284635326437e-90), (3.2124852476132617e-34, 0.0), (8.78556298178823e-27, 0.0), (3.989317987323086e-93, 0.0), (3.971262963291176e-25, 0.0), (3.0619525247351946e-61, 0.0), (7.612074636201904e-20, 0.0), (2.551411828493545e-40, 0.0), (5.591485768532873e-97, 0.0), (0.0, 4.434466031187106e-65), (4.156993929044538e-52, 0.0), (1.1672713162029841e-14, 0.0), (2.87270405560532e-17, 0.0), (4.427109037009321e-34, 0.0), (1.2083881183460574e-17, 0.0), (8.960859856664668e-19, 2.324466188905207e-24), (0.0, 7.356168494287586e-79), (1.2901417859668403e-22, 0.0), (1.1469851203996134e-46, 0.0), (3.800643158914796e-80, 0.0), (5.169873115943003e-30, 5.996793278187637e-41), (7.74039585960916e-13, 2.3948834052062397e-17), (2.731311413763764e-28, 0.0), (0.0, 2.8984007225939793e-72), (2.9635003844731165e-24, 0.0), (0.0, 7.639554444057355e-70), (2.1019728869746757e-33, 0.0), (4.1542387983821125e-19, 0.0), (5.453668839985665e-70, 0.0), (4.092503325566372e-26, 0.0), (5.604000116737577e-34, 0.0), (1.9723519535757342e-13, 4.8955440353821024e-20), (2.2155206804405536e-18, 2.4118450038509704e-27), (2.5605639650385528e-48, 0.0), (1.707541303344344e-41, 0.0), (1.0564950624270515e-59, 0.0), (1.4321645149128778e-56, 0.0), (3.2387312553677005e-33, 2.5546998612928815e-44), (5.63790521410537e-13, 3.8084822059869994e-19), (5.982044477272166e-90, 0.0), (6.864958395039131e-49, 0.0), (5.430713426444504e-17, 0.0), (4.487379443216478e-84, 0.0), (3.455034279717388e-70, 0.0), (9.991098845984753e-27, 0.0), (0.0, 1.2021906236898477e-91), (7.499965042945586e-15, 0.0), (2.7385757018440903e-16, 0.0), (2.116129992138731e-61, 0.0), (9.40168325095381e-81, 0.0), (1.751407079880603e-17, 0.0), (6.802383857434862e-26, 0.0), (4.582499890645041e-38, 0.0), (4.1786890095253835e-17, 9.662318096350412e-25), (5.568008875407118e-20, 0.0), (4.716880713633594e-95, 0.0), (2.431173267381624e-110, 0.0), (7.062735290001282e-15, 0.0), (5.16639900522481e-15, 0.0), (6.545191185284951e-14, 0.0), (2.4842228398516396e-16, 0.0), (1.8272949174158477e-32, 0.0), (4.245015057554746e-47, 0.0), (3.026564053024477e-24, 0.0), (1.9290761183630845e-73, 0.0), (1.0334763682720178e-38, 0), (1.1605948310429367e-104, 0.0), (1.670152469885309e-71, 0.0), (4.879915095116653e-20, 0.0), (7.938429509049808e-17, 0.0), (2.481490193330711e-20, 0.0), (3.587245195574276e-20, 0.0), (4.134045238184977e-23, 0.0), (0.0, 3.0138623340347377e-71), (2.7792482589146547e-43, 0.0), (5.1561792347837664e-21, 0.0), (8.09796659686853e-12, 0.0), (1.6106791787879905e-59, 0.0), (1.498528989188895e-79, 0.0), (1.3542498553875155e-27, 1.258261495509929e-39), (1.0440961920497537e-05, 3.745378172363906e-09), (2.1074337534109745e-26, 0.0), (4.635447770411731e-37, 0.0), (1.7711538973456418e-19, 0.0), (3.9135172703043387e-53, 0.0), (2.0959535668381686e-70, 0.0), (1.874165524767146e-72, 0.0), (3.8519594887304835e-15, 0.0), (0.003264600686526321, 6.001104203173384e-05), (1.35033140474727e-78, 0.0), (2.8506372973789846e-59, 0.0), (2.5945642027083356e-34, 0.0), (1.7329170997637646e-24, 0.0), (1.2350622451490138e-36, 0.0), (5.493221883478943e-27, 0.0), (0.0, 8.03540455213224e-56), (0.0, 2.33772171844034e-48), (0.0, 2.8789718274048443e-84), (6.721935581487985e-78, 0.0), (0.0, 8.326479079126103e-71), (4.321776557945957e-27, 0.0), (0.0, 1.8802864304634873e-97), (2.7802541102638303e-24, 0.0), (5.497130526916694e-30, 0.0), (1.0268387851810094e-30, 0.0), (1.2924935584219128e-143, 0.0), (2.046564510136498e-29, 1.9508334795046129e-38), (6.353808561663846e-64, 0.0), (0.0, 4.330438726374824e-47), (0.0, 1.2787174450118084e-76), (1.2864513194866874e-51, 0.0), (2.5323780161908967e-26, 0.0), (1.5960818337755905e-13, 7.436112973165376e-15), (1.0913875100612508e-36, 0.0), (1.2242151623115202e-48, 0.0), (4.016245180371916e-99, 0.0), (6.338596408012345e-87, 0.0), (7.377643562345801e-14, 4.759517847541843e-18), (1.9386517218368445e-56, 0.0), (1.1162051496344635e-25, 0.0), (1.4116381921805097e-19, 0.0), (1.825394600500567e-17, 0.0), (1.6933035274675024e-16, 0.0), (3.837291159308586e-38, 0.0), (1.2433819378099806e-63, 0.0), (8.98136874515769e-24, 0.0), (1.9877777338591458e-40, 0.0), (8.273489305190974e-27, 0.0), (3.2850129935406984e-13, 0), (1.3154017200390342e-28, 7.73275727482133e-39), (2.953639214438238e-29, 0.0), (2.5611723301515207e-76, 0.0), (3.312159912239474e-60, 0.0), (1.9816381028421962e-77, 0.0), (3.502327584298561e-29, 0.0), (7.751770624495582e-41, 0.0), (2.7627903381246565e-18, 5.968999596201026e-25), (4.560152304925852e-22, 0.0), (1.7858081596377626e-111, 0.0), (2.600179466966716e-12, 1.7265119333807733e-16), (8.33444666715664e-19, 0.0), (3.9932587955767257e-53, 0.0), (1.044562359743938e-26, 0.0), (1.6052166588785307e-52, 0.0), (5.6925510551403075e-59, 0.0), (5.76212026517524e-10, 0), (1.6799771591403198e-51, 0.0), (1.3463535392784957e-62, 0.0), (2.754834696637052e-24, 0.0), (2.874098411410825e-39, 0.0), (9.154507714381524e-54, 0.0), (1.8447981755520506e-20, 0.0), (5.305787781691877e-22, 0.0), (4.83511401744489e-27, 0.0), (2.3389978384943477e-11, 0.0), (1.3808117038305958e-57, 0.0), (1.3009383503186813e-21, 0.0), (2.0744680767540492e-31, 0.0), (0.0, 1.6177899506198816e-63), (2.822242065780029e-19, 0.0), (2.2034266576052998e-58, 0.0), (5.952461533253713e-55, 0.0), (1.2257408994233847e-21, 0.0), (2.6358814143490563e-15, 0.0), (1.2007491587700387e-29, 0.0), (6.386169350209663e-35, 0.0), (4.3920323149093326e-24, 0.0), (1.0504046750225768e-18, 0.0), (3.671078237230848e-23, 0.0), (1.835776228515249e-21, 0.0), (7.41999771247366e-26, 0.0), (1.363376839316339e-24, 0.0), (6.807297033907094e-62, 0.0), (1.0882859682999734e-59, 0.0), (0.0, 4.8548983917443104e-89), (1.040187963366522e-39, 0.0), (2.5937138989602202e-42, 0.0), (6.555381277198876e-60, 0.0), (1.0343413811740466e-22, 0.0), (5.521343732674763e-29, 0.0), (0.0, 5.727055444828928e-48), (1.3690084044218574e-17, 0.0), (7.474345353015819e-142, 0.0), (2.510743098118599e-22, 0.0), (3.260692207448032e-27, 0.0), (1.119802435866969e-22, 0.0), (9.669360567666804e-55, 0.0), (0.0, 1.936734874122995e-49), (3.295381347615096e-23, 0.0), (2.3389978384943477e-11, 0.0), (3.010326318233323e-69, 0.0), (0.0, 5.115478600480832e-80), (1.4763560323153478e-34, 0.0), (0.0, 2.8506483329716244e-74), (2.4826195357307547e-12, 0.0), (8.020825751326112e-27, 0.0), (1.4354847372401246e-58, 0.0), (0.0, 2.29136167712227e-23), (0.0, 4.221835339767205e-92), (0.0, 1.1552558329487146e-79), (6.269186848510662e-06, 0.0), (4.990559954953437e-16, 4.2499777889580884e-21), (0.000516094961472911, 0), (4.320692495757035e-41, 0.0), (2.0554453853443936e-20, 0.0), (2.2615906623965606e-76, 0.0), (2.1751234902082122e-37, 0.0), (1.1566828722366387e-38, 0.0), (1.281762412254819e-19, 0.0), (4.330511602590204e-09, 0.0), (2.723278600641169e-35, 0.0), (1.7089552451542971e-22, 0.0), (5.422800940981634e-19, 0.0), (0.0, 1.721024528321342e-82), (4.646884887894929e-50, 0.0), (5.909617729742569e-82, 0.0), (8.430144729060549e-82, 0.0), (2.1238183631359546e-22, 0.0), (0.0, 2.49074551292063e-84), (3.373383225712259e-16, 7.159355861828038e-23), (1.8621746739498082e-25, 0.0), (3.373383225712259e-16, 7.159355861828038e-23), (2.1132342106689984e-38, 0.0), (0.0, 3.898013681695608e-98), (1.1424746847663324e-37, 0.0), (2.3394132739748826e-93, 0.0), (2.919529441413834e-56, 0.0), (4.541125194935282e-41, 0.0), (0.0, 6.475902823750541e-82), (1.5703175869541624e-26, 0.0), (3.426144135991046e-26, 0.0), (2.1119053825917788e-89, 0.0), (0.0, 2.694347413263847e-51), (3.3158780649120036e-25, 0.0), (1.3979819707682095e-43, 0.0), (4.953277957389853e-20, 0.0), (3.864348879015766e-69, 0.0), (4.618225686407066e-93, 0.0), (5.1775369757003824e-21, 0.0), (8.595659877886714e-33, 0.0), (1.4060609308922596e-41, 0.0), (3.646273549788156e-15, 0.0), (4.9612244102898295e-22, 0.0), (8.9185103593762e-12, 0.0), (3.390824737369375e-32, 0.0), (1.6231641122148285e-20, 0.0), (3.423720493191071e-149, 0.0), (4.4352576168704487e-94, 0.0), (4.2157107182651613e-103, 0.0), (1.074452539992319e-76, 0.0), (9.600866560825602e-34, 0.0), (3.1976091376767323e-18, 0.0), (5.05671245295827e-24, 0.0), (1.113882864374409e-17, 0.0), (4.7634852763667524e-12, 9.15047945431458e-15), (0.0, 2.9646898325002363e-78), (1.679385042036779e-60, 0.0), (0.0, 3.4226066835774106e-45), (3.9291930566494604e-35, 0.0), (3.6515471351311457e-28, 0.0), (8.499785321250588e-14, 2.1841658004012456e-19), (5.721495194327047e-38, 0.0), (1.398570934371912e-32, 0.0), (1.8531136900419e-20, 0.0), (3.2674189195968983e-70, 0.0), (3.2668291717707135e-15, 1.5720733593473662e-19), (2.111993082156026e-190, 0.0), (1.4924489856057252e-34, 0.0), (0.0, 9.004860198739992e-53), (1.9638396526280454e-90, 0.0), (7.520950801001074e-12, 0.0), (0.0, 8.348913445200685e-119), (3.495437083731614e-13, 0.0), (1.6503606526311246e-26, 0.0), (3.8077227724979264e-25, 0.0), (8.06522388423953e-90, 0.0), (2.3815072120060876e-27, 0.0), (2.3188973571206057e-28, 0.0), (0.0, 2.372666734926231e-89), (2.6090362911279343e-22, 5.685188640060894e-30), (2.6815448075669155e-61, 0.0), (5.409649814290178e-23, 8.410614039170723e-33), (3.381786701858541e-30, 0.0), (1.4025997884721605e-51, 0.0), (7.499965042945586e-15, 0.0), (3.9213651997721495e-66, 0.0), (8.358243688278704e-110, 0.0), (5.5812290956172035e-34, 0.0), (2.5321041523624253e-138, 0.0), (2.3389978384943477e-11, 0.0), (3.5912124631758e-39, 0.0), (9.945379757969966e-22, 0.0), (3.8641080824257137e-47, 0.0), (4.944671211054181e-56, 0.0), (6.281458844275477e-13, 0.0), (4.246313128723086e-38, 0.0), (3.340339528168753e-11, 0.0), (0.0, 5.832818371878635e-88), (0.0, 1.961864579174466e-84), (3.373161135886149e-24, 0.0), (9.451082406138901e-32, 0.0), (1.0522169549235869e-77, 0.0), (9.72766367781901e-19, 0.0)]\n",
      "0.996588868940754\n"
     ]
    }
   ],
   "source": [
    "correct_predictions = 0\n",
    "predictions = naive_bayes.predict(df['sms_text'].values.tolist())\n",
    "real_classes = df['class'].tolist()\n",
    "\n",
    "for num in range(len(predictions)):\n",
    "    if predictions[num] == real_classes[num]:\n",
    "        correct_predictions += 1\n",
    "        \n",
    "print(correct_predictions / len(predictions))"
   ]
  },
  {
   "cell_type": "code",
   "execution_count": null,
   "metadata": {},
   "outputs": [],
   "source": []
  }
 ],
 "metadata": {
  "kernelspec": {
   "display_name": "Python 3",
   "language": "python",
   "name": "python3"
  },
  "language_info": {
   "codemirror_mode": {
    "name": "ipython",
    "version": 3
   },
   "file_extension": ".py",
   "mimetype": "text/x-python",
   "name": "python",
   "nbconvert_exporter": "python",
   "pygments_lexer": "ipython3",
   "version": "3.8.5"
  }
 },
 "nbformat": 4,
 "nbformat_minor": 4
}
