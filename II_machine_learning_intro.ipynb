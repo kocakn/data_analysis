{
 "cells": [
  {
   "cell_type": "markdown",
   "metadata": {},
   "source": [
    "# Что такое машинное обучение\n",
    "\n",
    "## Область применения\n",
    "\n",
    "Машинное обучение (от англ. *machine learning*) – это область знаний на стыке линейной алгебры, теории вероятностей и методов оптимизации\n",
    "\n",
    "говорят, что модель обучается на опыте $E$ относительно класса задач $T$ в смысле меры качества $L$, если при решении задачи $T$ качество, измеряемое мерой $L$ , возрастает при демонстрации нового опыта $D$.\n",
    "\n",
    "Говоря простым языком, если правльным образом разработать процесс анализа поступающих в систему машинного обучения данных, то система сможет проводить аналогичную обработку без участия разработчика."
   ]
  },
  {
   "cell_type": "markdown",
   "metadata": {},
   "source": [
    "Алгоритмы ML используются везде, где нужно автоматизировано (т.е. в большом количестве) принимать решения:\n",
    "\n",
    "* вычисление спам-писем в почте\n",
    "* рекомендации товаров в онлайн-ритейле (\"с этим товаром покупают\")\n",
    "* подбор музыки на основании вкусов пользователя\n",
    "* детекция эротических или жестоких сцен в видео контенте\n",
    "\n",
    "Зачем нужно разрабатывать ML проекты, когда в каждой из областей есть экспертные знания?\n",
    "\n",
    "* сложно придумать правила  в понятном человеку виде (например, распознавание изображений)\n",
    "* эвристики устаревают и нужно придумывать новые (борьба со спамом - непрерывный процесс)"
   ]
  },
  {
   "cell_type": "markdown",
   "metadata": {},
   "source": [
    "## Неформальное определение\n",
    "\n",
    "Допустим, вы хотите решить какую-то задачу (например, выявление спам-смс) с помощью ML. Независимо от доменной области ML проект проходит следующие этапы:\n",
    "\n",
    "1. Выгрузка *обучающей выборки* (например, набор смс)\n",
    "1. Разметка обучающей выборки (отметить те, которые являются спамом). Хотя некоторые алгоритмы могут работать и без разметки.\n",
    "1. Выбираем метрику качества решения задачи (долю точно определённых спам-смс)\n",
    "1. Каждый объект выборки описываем некоторыми признаками, которые называются фичами (признаками) (фичами смс могут стать входящие в него слова)\n",
    "1. Настраиваем выбранную модель машинного обучения наилучшим образом (тут поможет метрика) решать поставленную задачу\n",
    "\n",
    "Давайте пройдём по пути создания модели машинного обучения для задачи предсказания цены на недвижимость с помощью машинного обучения."
   ]
  },
  {
   "cell_type": "markdown",
   "metadata": {},
   "source": [
    "## Пример: предсказываем цены на недвижимость\n",
    "\n",
    "Предсказывать цены не недвижимость будем с помощью модели [линейной регрессии](https://ru.wikipedia.org/wiki/%D0%9B%D0%B8%D0%BD%D0%B5%D0%B9%D0%BD%D0%B0%D1%8F_%D1%80%D0%B5%D0%B3%D1%80%D0%B5%D1%81%D1%81%D0%B8%D1%8F)\n",
    "\n",
    "### Знакомство с machine learning: линейная регрессия\n",
    "\n",
    "Линейная регрессия относится в задачам обучения с учителем: опыт $D$ (который в ML называют *обучающей выборкой*) в нашем случае - это набор пар $x_i, y_i$ таких, что\n",
    "\n",
    "$$\n",
    "D = \\{(x_i, y_i) \\}_{i=\\overline{1,N}}\n",
    "$$\n",
    "\n",
    "Где $y_i$ - это \"правильный\" ответ(цена недвижимости) на обучающем примере $x_i$ (конкретный объект недвижимости из обучающей выборки), а $N$ - количество обучающих примеров. В задаче линейной регрессии $y \\in R$, то есть предсказываь нужно  непрерывную *скалярную* случайную величину.\n",
    "\n",
    "Каждый объект $x_i$ является совокупностью признаков (англ *features*, фичи) $x_i^1,\\ldots, x_i^k$. Размерность признакового пространства может быть разной, т.е. $x_i \\in R^k$, где $k$ может принимать значения от 1 (в задаче прогнозирования роста человека по его весу) до десятков тысяч (например, в задаче анализа текстов)."
   ]
  },
  {
   "cell_type": "markdown",
   "metadata": {},
   "source": [
    "#### Отступление: какие фичи бывают\n",
    "\n",
    "* бинарные (boolean): True/False, 1/0\n",
    "* категориальные (categorical), иногда говорят дискретные: сутки можно разделить на три категориальных фичи (`morning`, `day` `night`)\n",
    "* непрерывные (numerical): количество звонков поступающих в коллцентр\n",
    "\n",
    "Выявить в задаче \"сильные\" фичи - это 90% успеха в решении.\n",
    "\n",
    "Про то, как придумывать фичи есть годная [статья на хабре](https://habr.com/ru/company/ods/blog/325422/)"
   ]
  },
  {
   "cell_type": "markdown",
   "metadata": {},
   "source": [
    "Модель машинного обучения в общем случае  - это семейство алгоритмов $h(x, \\theta): X \\times \\Theta \\rightarrow Y$. Процесс машинного обучения сводится к тому, чтобы по опыту (обучающей выборке) $D$ подобрать такую функцию $h(\\cdot)$, что мера качества $L$ будет максимальной, т.е. из семейства алгоритмов нам нужно выбрать один конкретный пример.\n",
    "\n",
    "Обычно задачу машинного обучения сводят к задаче минимизации эмпирического риска $Q(h(x, \\theta), D)$ где\n",
    "$$\n",
    "Q_{\\text{emp}}(h) = \\frac{1}{N}\\sum_{i=1}^{N}L(h(x_i, \\theta), y_i)\n",
    "$$\n",
    "\n",
    "Тогда мы находим лучшую модель $\\hat{h}$ из семейства $h$ как  \n",
    "$$\n",
    "\\hat{h} = \\arg\\min Q_{\\text{emp}}(h, \\theta)\n",
    "$$\n",
    "\n",
    "Точка минимума эмпирического риска является решением уравнения\n",
    "$$\n",
    "\\frac{\\partial Q_{\\text{emp}}}{\\partial h} = 0\n",
    "$$"
   ]
  },
  {
   "cell_type": "markdown",
   "metadata": {},
   "source": [
    "Задача *линейной* регресии: восстановить на функцию $h(x_i)$ в виде *линейной комбинации* (т.е. сумма с некоторыми весами \"важности\") признаков объекта. Сами признаки называются *предикторами*:\n",
    "$$\n",
    "\\forall x_i: h(x) = w_0 + w_1x_i^1 + \\ldots + w_nx_i^n = \\sum_{j=1}^{n}w_jx_i^j = \\overline{x}_i^T\\overline{w}\n",
    "$$\n",
    "\n",
    "Мера качества $L$ для задачи регрессии - квадрат разности между фактическим значением и прогнозом. \n",
    "$$\n",
    "L(h(x_i, \\theta), y_i) = \\left(y_i - h(x_i, \\theta)\\right)^2 = \\left(y_i -  \\sum_{j=1}^{n}w_jx_i^j\\right)^2\n",
    "$$\n",
    "\n",
    "Тогда эмпирический риск вычисляется по формуле:\n",
    "$$\n",
    "Q_{\\text{emp}} = \\frac{1}{N}\\sum_{i=1}^{N}(y_i - \\hat{y_i})^2 = \\frac{1}{N}\\sum_{i=1}^{N}(y_i - \\overline{x}_i^T\\overline{w})^2 = \\frac{1}{2N}||\\overline{Y}-\\overline{X}^T\\overline{w}||^2 = \\frac{1}{2N}\\left(\\overline{Y}-\\overline{X}^T\\overline{w}\\right)^T\\left(\\overline{Y}-\\overline{X}^T\\overline{w}\\right)\n",
    "$$"
   ]
  },
  {
   "cell_type": "markdown",
   "metadata": {},
   "source": [
    "\n",
    "Такой вид функции потерь называется RSS - *resudal squares sum*, на русский переводится как *остаточная сумма квадратов*.\n",
    "\n",
    "Где $\\hat{y_i}$ - ответ нашего алгоритма машинного обучения $h(x, \\theta)$ на примере $x_i$. Чем больше значение $L$ (т.е. чем ближе оно к нулю, т.к. берём со знаком минус) тем лучше наша модель повторяет опыт $X \\in m \\times n$ где m - количество примеров в обучающей выборке, а $m$ - размерность пространства признаков. $w$ - это вектор параметров модели, который хотим обучить.\n",
    "\n",
    "Мимнимум эмпирического риска можно найти аналитически, он достигается в точке\n",
    "$$\n",
    "\\overline{w} = \\left(X^TX\\right)^{-1}X^T\\overline{y}\n",
    "$$\n",
    "\n",
    "Реализуем функцию для обучения линейной регрессии на python. Загружаем исходные данные - датасет с ценами на дома в Бостоне"
   ]
  },
  {
   "cell_type": "code",
   "execution_count": 18,
   "metadata": {},
   "outputs": [
    {
     "name": "stdout",
     "output_type": "stream",
     "text": [
      "Фичи\n",
      "[[6.3200e-03 1.8000e+01 2.3100e+00 ... 1.5300e+01 3.9690e+02 4.9800e+00]\n",
      " [2.7310e-02 0.0000e+00 7.0700e+00 ... 1.7800e+01 3.9690e+02 9.1400e+00]\n",
      " [2.7290e-02 0.0000e+00 7.0700e+00 ... 1.7800e+01 3.9283e+02 4.0300e+00]\n",
      " ...\n",
      " [6.0760e-02 0.0000e+00 1.1930e+01 ... 2.1000e+01 3.9690e+02 5.6400e+00]\n",
      " [1.0959e-01 0.0000e+00 1.1930e+01 ... 2.1000e+01 3.9345e+02 6.4800e+00]\n",
      " [4.7410e-02 0.0000e+00 1.1930e+01 ... 2.1000e+01 3.9690e+02 7.8800e+00]]\n",
      "\n",
      "Целевая переменная y\n",
      "[24.  21.6 34.7 33.4 36.2 28.7 22.9 27.1 16.5 18.9]\n",
      "\n",
      " .. _boston_dataset:\n",
      "\n",
      "Boston house prices dataset\n",
      "---------------------------\n",
      "\n",
      "**Data Set Characteristics:**  \n",
      "\n",
      "    :Number of Instances: 506 \n",
      "\n",
      "    :Number of Attributes: 13 numeric/categorical predictive. Median Value (attribute 14) is usually the target.\n",
      "\n",
      "    :Attribute Information (in order):\n",
      "        - CRIM     per capita crime rate by town\n",
      "        - ZN       proportion of residential land zoned for lots over 25,000 sq.ft.\n",
      "        - INDUS    proportion of non-retail business acres per town\n",
      "        - CHAS     Charles River dummy variable (= 1 if tract bounds river; 0 otherwise)\n",
      "        - NOX      nitric oxides concentration (parts per 10 million)\n",
      "        - RM       average number of rooms per dwelling\n",
      "        - AGE      proportion of owner-occupied units built prior to 1940\n",
      "        - DIS      weighted distances to five Boston employment centres\n",
      "        - RAD      index of accessibility to radial highways\n",
      "        - TAX      full-value property-tax rate per $10,000\n",
      "        - PTRATIO  pupil-teacher ratio by town\n",
      "        - B        1000(Bk - 0.63)^2 where Bk is the proportion of blacks by town\n",
      "        - LSTAT    % lower status of the population\n",
      "        - MEDV     Median value of owner-occupied homes in $1000's\n",
      "\n",
      "    :Missing Attribute Values: None\n",
      "\n",
      "    :Creator: Harrison, D. and Rubinfeld, D.L.\n",
      "\n",
      "This is a copy of UCI ML housing dataset.\n",
      "https://archive.ics.uci.edu/ml/machine-learning-databases/housing/\n",
      "\n",
      "\n",
      "This dataset was taken from the StatLib library which is maintained at Carnegie Mellon University.\n",
      "\n",
      "The Boston house-price data of Harrison, D. and Rubinfeld, D.L. 'Hedonic\n",
      "prices and the demand for clean air', J. Environ. Economics & Management,\n",
      "vol.5, 81-102, 1978.   Used in Belsley, Kuh & Welsch, 'Regression diagnostics\n",
      "...', Wiley, 1980.   N.B. Various transformations are used in the table on\n",
      "pages 244-261 of the latter.\n",
      "\n",
      "The Boston house-price data has been used in many machine learning papers that address regression\n",
      "problems.   \n",
      "     \n",
      ".. topic:: References\n",
      "\n",
      "   - Belsley, Kuh & Welsch, 'Regression diagnostics: Identifying Influential Data and Sources of Collinearity', Wiley, 1980. 244-261.\n",
      "   - Quinlan,R. (1993). Combining Instance-Based and Model-Based Learning. In Proceedings on the Tenth International Conference of Machine Learning, 236-243, University of Massachusetts, Amherst. Morgan Kaufmann.\n",
      "\n"
     ]
    }
   ],
   "source": [
    "from sklearn.datasets import load_boston\n",
    "\n",
    "boston_dataset = load_boston()\n",
    "\n",
    "features = boston_dataset.data # матрица X\n",
    "y = boston_dataset.target # таргет (целевая переменная)\n",
    "\n",
    "print('Фичи')\n",
    "print(features)\n",
    "print('\\nЦелевая переменная y')\n",
    "print(y[:10])\n",
    "\n",
    "\n",
    "# текстовое описание датасета\n",
    "print('\\n',boston_dataset.DESCR)"
   ]
  },
  {
   "cell_type": "code",
   "execution_count": 7,
   "metadata": {},
   "outputs": [
    {
     "name": "stdout",
     "output_type": "stream",
     "text": [
      "(506, 13)\n"
     ]
    }
   ],
   "source": [
    "print(features.shape)\n",
    "#print('\\n',boston_dataset.DESCR)"
   ]
  },
  {
   "cell_type": "markdown",
   "metadata": {},
   "source": [
    "Визуализируем цены на недвижимость в виде диаграмы рассеяния"
   ]
  },
  {
   "cell_type": "code",
   "execution_count": 6,
   "metadata": {},
   "outputs": [
    {
     "data": {
      "image/png": "[encoded data removed]",
      "text/plain": [
       "<Figure size 432x288 with 1 Axes>"
      ]
     },
     "metadata": {
      "needs_background": "light"
     },
     "output_type": "display_data"
    }
   ],
   "source": [
    "import numpy as np\n",
    "from matplotlib import pyplot as plt\n",
    "\n",
    "%matplotlib inline\n",
    "\n",
    "fig, subplot = plt.subplots()\n",
    "plt.scatter(\n",
    "    np.arange(features.shape[0]),\n",
    "    y\n",
    ")\n",
    "subplot.set_xlabel('Индекс объекта недвижимости')\n",
    "subplot.set_ylabel('Цена')\n",
    "fig.show()"
   ]
  },
  {
   "cell_type": "markdown",
   "metadata": {},
   "source": [
    "Код для аналитического вычисления коэффициентов линейной регрессии по формуле $\\overline{w} = \\left(X^TX\\right)^{-1}X^T\\overline{y}$\n",
    "\n",
    "#### Самостоятельное задание\n",
    "\n",
    "Реализуйте формулу матричного умножения для вычисления коэффициентов линейной регрессии на языке python "
   ]
  },
  {
   "cell_type": "code",
   "execution_count": 10,
   "metadata": {},
   "outputs": [
    {
     "name": "stdout",
     "output_type": "stream",
     "text": [
      "Аналитически определённые коэффициенты [0. 0. 0. 0. 0. 0. 0. 0. 0. 0. 0. 0. 0.]\n"
     ]
    }
   ],
   "source": [
    "from numpy.linalg import inv, norm\n",
    "import numpy as np\n",
    "from sklearn.linear_model import LinearRegression\n",
    "from scipy.spatial import distance\n",
    "\n",
    "# вычисляем к-ты линейной регрессии\n",
    "w_analytic = np.zeros(features.shape[1])\n",
    "#-------- ВАШ КОД ТУТ -------------------\n",
    "\n",
    "\n",
    "\n",
    "\n",
    "\n",
    "\n",
    "#----------------------------------------\n",
    "\n",
    "print(f'Аналитически определённые коэффициенты {w_analytic}')"
   ]
  },
  {
   "cell_type": "markdown",
   "metadata": {},
   "source": [
    "На самом деле вся математика уже реализована на python, программировать все операции вручную необязательно"
   ]
  },
  {
   "cell_type": "code",
   "execution_count": 11,
   "metadata": {},
   "outputs": [
    {
     "name": "stdout",
     "output_type": "stream",
     "text": [
      "Коэффициенты, вычисленные моделью sklearn [-1.08011358e-01  4.64204584e-02  2.05586264e-02  2.68673382e+00\n",
      " -1.77666112e+01  3.80986521e+00  6.92224640e-04 -1.47556685e+00\n",
      "  3.06049479e-01 -1.23345939e-02 -9.52747232e-01  9.31168327e-03\n",
      " -5.24758378e-01]\n",
      "Евклидово расстояние между наборами коэффициентов 18.462248828028187\n",
      "\n"
     ]
    }
   ],
   "source": [
    "from numpy.linalg import inv, norm\n",
    "from sklearn.linear_model import LinearRegression\n",
    "\n",
    "# обучаем модель \"из коробки\"\n",
    "reg = LinearRegression().fit(features, y)\n",
    "\n",
    "print(f\"Коэффициенты, вычисленные моделью sklearn {reg.coef_}\")\n",
    "print(f\"Евклидово расстояние между наборами коэффициентов {norm(reg.coef_ - w_analytic)}\\n\")"
   ]
  },
  {
   "cell_type": "markdown",
   "metadata": {},
   "source": [
    "Визуализируем решение"
   ]
  },
  {
   "cell_type": "code",
   "execution_count": 12,
   "metadata": {},
   "outputs": [
    {
     "data": {
      "image/png": "[encoded data removed]",
      "text/plain": [
       "<Figure size 432x288 with 1 Axes>"
      ]
     },
     "metadata": {
      "needs_background": "light"
     },
     "output_type": "display_data"
    }
   ],
   "source": [
    "from matplotlib import pyplot as plt\n",
    "\n",
    "%matplotlib inline\n",
    "\n",
    "fig, subplot = plt.subplots()\n",
    "# истинные значения\n",
    "plt.scatter(\n",
    "    np.arange(features.shape[0]),\n",
    "    y, label='train'\n",
    ")\n",
    "# предсказанные значения\n",
    "plt.scatter(\n",
    "    np.arange(features.shape[0]),\n",
    "    reg.predict(features), label='predict'\n",
    ")\n",
    "subplot.legend()\n",
    "subplot.set_xlabel('Индекс объекта недвижимости')\n",
    "subplot.set_ylabel('Цена')\n",
    "fig.show()"
   ]
  },
  {
   "cell_type": "markdown",
   "metadata": {},
   "source": [
    "Мы реализовали обучение модели линейной регрессии на языке Python, причём полученные коэффициенты в целом совпадают с результатами, полученными с помощью класса `sklearn.linear_model.LinearRegression`, который является обёрткой над [метотодом для численного решения](https://docs.scipy.org/doc/scipy/reference/generated/scipy.linalg.lstsq.html).\n",
    "\n",
    "#### Самостоятельное задание\n",
    "\n",
    "Визуализируйте в виде \"столбиков\" коэффициенты \"из коробки\" и полученные аналитически на одном графике. Для наглядности используйте различную \"прозрачность\" столбиков"
   ]
  },
  {
   "cell_type": "code",
   "execution_count": 48,
   "metadata": {},
   "outputs": [],
   "source": [
    "#-------- ВАШ КОД ТУТ -------------------\n",
    "\n",
    "\n",
    "\n",
    "\n",
    "\n",
    "#----------------------------------------"
   ]
  },
  {
   "cell_type": "markdown",
   "metadata": {},
   "source": [
    "### Метрики качества линейной регрессии\n",
    "\n",
    "В задачах машинного обучения мы хотим сравнивать несколько моделей машинного обучения и выбирать ту из них, которая наилучшим образом решает нашу задачу. Решение о том, какая модель хорошая, а какая плохая, принимается на основе одной или нескольких *метрик* моделей машинного обучения.\n",
    "\n",
    "Метрики принимают на вход два вектора - предсказания модели и истинные значения, после чего вычисляют по этим векторам качество модели.\n",
    "\n",
    "Несколько метрик лучше, чем одна `¯\\_(ツ)_/¯` . Поэтому обычно для модели смотрят за изменением сразу нескольких метрик - при росте какой-нибудь одной метрики другие не должны просаживаться.\n",
    "\n",
    "Для начала получим два вектора: истинные ответы на обучающей выборке и значения, предсказанные нашеё моделью"
   ]
  },
  {
   "cell_type": "code",
   "execution_count": 13,
   "metadata": {},
   "outputs": [],
   "source": [
    "y_pred = reg.predict(features)\n",
    "y_true = y"
   ]
  },
  {
   "cell_type": "markdown",
   "metadata": {},
   "source": [
    "Построим гистрограмму распределения ошибок"
   ]
  },
  {
   "cell_type": "code",
   "execution_count": 14,
   "metadata": {},
   "outputs": [
    {
     "data": {
      "image/png": "[encoded data removed]",
      "text/plain": [
       "<Figure size 432x288 with 1 Axes>"
      ]
     },
     "metadata": {
      "needs_background": "light"
     },
     "output_type": "display_data"
    }
   ],
   "source": [
    "fig, subplot = plt.subplots()\n",
    "\n",
    "subplot.hist(y_pred - y_true)\n",
    "\n",
    "subplot.set_title('Распределение ошибок')\n",
    "subplot.set_xlabel('Величина ошибки')\n",
    "subplot.set_ylabel('Количество таких ошибок')\n",
    "fig.show()"
   ]
  },
  {
   "cell_type": "markdown",
   "metadata": {},
   "source": [
    "теперь посмотрим, какие метрики подходят для оценки качества линейной регрессии\n",
    "\n",
    "#### RMSE\n",
    "\n",
    "Root Mean Square Error (RMSE) - это базовая метрика для определения качества линейной регрессии\n",
    "\n",
    "$$\n",
    "\\text{RMSE} = \\sqrt{\\frac{1}{n}\\sum_{i=1}^{n}(y_{i}-\\hat{y}_{i})^2}\n",
    "$$\n",
    "\n",
    "Для каждого предсказанного значения $\\hat{y}_i$ мы считаем квадрат отклонения от фактического значения и считаем среднее по полученным величинам"
   ]
  },
  {
   "cell_type": "code",
   "execution_count": 15,
   "metadata": {},
   "outputs": [
    {
     "name": "stdout",
     "output_type": "stream",
     "text": [
      "RMSE = 4.679191295697281\n"
     ]
    }
   ],
   "source": [
    "from sklearn.metrics import mean_squared_error\n",
    "\n",
    "rmse = np.sqrt(mean_squared_error(y_true, y_pred))\n",
    "\n",
    "print('RMSE = %s' % rmse)"
   ]
  },
  {
   "cell_type": "markdown",
   "metadata": {},
   "source": [
    "#### Коэффициент детерминации\n",
    "\n",
    "Название - калька английского термина *coefficient of determination*. Наилучшее возможное значение 1.0, чем меньше тем хуже. Само значение коэффициента растёт с ростом числа предикторов - тут следует воспользоваться принципом Оккама - чем меньше используется предикторов при сопоставимом качестве, тем лучше. Коэффициент показывает, насколько условная дисперсия модели отличается от дисперсии реальных значений Y. Если этот коэффициент близок к 1, то условная дисперсия модели достаточно мала и весьма вероятно, что модель неплохо описывает данные.\n",
    "\n",
    "$$\n",
    "R^2 = 1 - \\frac{\\sum_{i=1}^{N}(\\hat{y} - y_i)^2}{\\sum_{i=1}^{N}(y_i-\\overline{y})^2}\n",
    "$$"
   ]
  },
  {
   "cell_type": "code",
   "execution_count": 16,
   "metadata": {},
   "outputs": [
    {
     "name": "stdout",
     "output_type": "stream",
     "text": [
      "r2_score = 0.7406426641094095\n"
     ]
    }
   ],
   "source": [
    "from sklearn.metrics import r2_score\n",
    "\n",
    "print(\"r2_score = %s\" % r2_score(y_true, y_pred))"
   ]
  },
  {
   "cell_type": "markdown",
   "metadata": {},
   "source": [
    "#### Mean absolute error\n",
    "\n",
    "Для оценки качества регрессии можно использовать среднюю абсолютную ошибку\n",
    "$$\n",
    "MAE = \\frac{1}{N}\\sum_{i=1}\\mid y_i - \\hat{y}\\mid\n",
    "$$"
   ]
  },
  {
   "cell_type": "code",
   "execution_count": 16,
   "metadata": {},
   "outputs": [
    {
     "name": "stdout",
     "output_type": "stream",
     "text": [
      "MAE = 3.270862810900316\n"
     ]
    }
   ],
   "source": [
    "from sklearn.metrics import mean_absolute_error\n",
    "\n",
    "print(\"MAE = %s\" % mean_absolute_error(\n",
    "    reg.predict(features), y)\n",
    ")"
   ]
  },
  {
   "cell_type": "markdown",
   "metadata": {},
   "source": [
    "Про другие ошибки можно почитать в [официальной документации](https://scikit-learn.org/stable/modules/model_evaluation.html#regression-metrics) в разделе про метрики регрессии."
   ]
  },
  {
   "cell_type": "markdown",
   "metadata": {},
   "source": [
    "## Итоги занятия\n",
    "\n",
    "* ML позволяет решать бизнес-задачи\n",
    "* внутри не магия, а очень много математики\n",
    "* все алгоритмы есть в sklearn, самому математику знать необязательно"
   ]
  },
  {
   "cell_type": "markdown",
   "metadata": {},
   "source": [
    "# Жизненный цикл ML проекта\n",
    "\n",
    "Мы познакомились с машинным обучением на примере алгоритма регрессии.\n",
    "\n",
    "В бизнесе моделирование - это только маленькая часть проекта по машинному обучению, который состоит из нескольких этапов. Эти этапы описаны в стандарте CRISP-DM"
   ]
  },
  {
   "cell_type": "markdown",
   "metadata": {},
   "source": [
    "## Что такое CRISP-DM\n",
    "\n",
    "[CRISP-DM](https://ru.wikipedia.org/wiki/CRISP-DM) (Cross-Industry Standard Process for Data Mining) - это методология развития  проектов с машинным обучением, основные шаги которой представлены на диаграмме\n",
    "\n",
    "![crisp-dm](img/CRISP-DM_Process.jpg)"
   ]
  },
  {
   "cell_type": "markdown",
   "metadata": {},
   "source": [
    "## Выявление бизнес-требований\n",
    "\n",
    "Самый важный этап - понимание потребностей бизнеса\n",
    "\n",
    "![business_understanding](img/business_understanding.png)"
   ]
  },
  {
   "cell_type": "markdown",
   "metadata": {},
   "source": [
    "## Подготовка данных\n",
    "\n",
    "Разбиваем на два этапа:\n",
    "\n",
    "* Обзор доступных данных (data undestanding): EDA (Exploratory data analysis)\n",
    "* Преобразования и структурирование данных (data_preparation): ETL (Extract, transformation, load)\n",
    "\n",
    "![data_understanding.png](img/data_understanding.png)"
   ]
  },
  {
   "cell_type": "markdown",
   "metadata": {},
   "source": [
    "## Обучение модели\n",
    "\n",
    "тут снова два этапа\n",
    "\n",
    "* обучение (Modeling)\n",
    "* оценка качества (Evaluation)"
   ]
  },
  {
   "cell_type": "markdown",
   "metadata": {},
   "source": [
    "## Применение модели\n",
    "\n",
    "Выкатывание в продакшн (deployment) - последний этап.\n",
    "\n",
    "На этом этапе поделие выпускается \"в свет\": начинаем мониторить онлайн-метрики"
   ]
  },
  {
   "cell_type": "markdown",
   "metadata": {},
   "source": [
    "## Итоги занятия\n",
    "\n",
    "* ML проекты рождаются, растут и выкатываются в прод\n",
    "* плохо прошёл хотя бы один из этапов - весь проект завалится, потому что они связаны"
   ]
  },
  {
   "cell_type": "markdown",
   "metadata": {},
   "source": [
    "# Виды ML задач\n",
    "\n",
    "Алгоритмы машинного обучения можно разделить на несколько больших групп\n",
    "\n",
    "![ml_problems.jpg](img/ml_problems.jpeg)\n",
    "\n",
    "Для наглядности к каждому типу задач ML приведены бизнес-задачи, который алгоритмы этого семейства решают"
   ]
  },
  {
   "cell_type": "markdown",
   "metadata": {},
   "source": [
    "## Обучение с учителем (supervised learning)\n",
    "\n",
    "Нужна размеченная выборка\n",
    "\n",
    "### Классификация (classification)\n",
    "\n",
    "Метки дискретные (называются классами)\n",
    "\n",
    "### Регрессия (regression)\n",
    "\n",
    "Метки непрерывные\n",
    "\n",
    "\n",
    "## Обучение без учителя (unsupervised learning)\n",
    "\n",
    "Размечать выборку не нужно\n",
    "\n",
    "### Кластеризация (clustering)\n",
    "\n",
    "Разделить объекты на группы таким образом\n",
    "\n",
    "### Снижение размерности (dimension reduction)\n",
    "\n",
    "снизить количество фичей\n",
    "\n",
    "\n",
    "## Обучение с подкреплением (reinforcement learning)\n",
    "\n",
    "Обучающей выборки не существует. Алгоритм является агентом, который взаимодействует со средой. Если взаимодействие успешное, агент получает вознаграждение, а если неуспешное то штраф. "
   ]
  },
  {
   "cell_type": "markdown",
   "metadata": {},
   "source": [
    "# Для самостоятельного изучения\n",
    "\n",
    "* [Введение в ML от Константина Воронцова](http://www.machinelearning.ru/wiki/images/f/fc/Voron-ML-Intro-slides.pdf)\n",
    "* [ML intro от Высшей школы экономики](https://yadi.sk/i/RajIebEkmqgzw)"
   ]
  },
  {
   "cell_type": "code",
   "execution_count": null,
   "metadata": {},
   "outputs": [],
   "source": []
  }
 ],
 "metadata": {
  "kernelspec": {
   "display_name": "Python 3",
   "language": "python",
   "name": "python3"
  },
  "language_info": {
   "codemirror_mode": {
    "name": "ipython",
    "version": 3
   },
   "file_extension": ".py",
   "mimetype": "text/x-python",
   "name": "python",
   "nbconvert_exporter": "python",
   "pygments_lexer": "ipython3",
   "version": "3.6.9"
  }
 },
 "nbformat": 4,
 "nbformat_minor": 2
}
