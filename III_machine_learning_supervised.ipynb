{
 "cells": [
  {
   "cell_type": "markdown",
   "metadata": {},
   "source": [
    "# Обучение с учителем\n",
    "\n",
    "Алгоритмы, которые требуют размеченной выборки для обучения, называются алгоритмами обучения с учителем. \"Разметить выборку\" означает поставить в соответствие объекту обучающей выборки значение целевой переменной (таргета) которое алгоритм машинного обучения  должен \"выучить\""
   ]
  },
  {
   "cell_type": "markdown",
   "metadata": {},
   "source": [
    "Обычно большие объёмы дорого размечать - можно пользоваться сервисами типа \"Яндекс.Толока\", либо своими силами размечать."
   ]
  },
  {
   "cell_type": "markdown",
   "metadata": {},
   "source": [
    "# Классификация\n",
    "\n",
    "## Постановка задачи классификации\n",
    "\n",
    "Классификация - задача для алгоритмов машинного обучения восстановить на объектах обучающей выборки **метки классов**. Классы - конечный (дискретный) набор целевых переменных. Например, в задаче фильтрации спама два класса: спам (метка $1$) и не спам (метка $0$)\n",
    "\n",
    "Существует бинарная классификация (когда классов всего два: $0$ и $1$) и мультиклассовая классификация, когда классов несколько. Если научились классифицировать на два класса, то и на несколько получиться: метод One vs All "
   ]
  },
  {
   "cell_type": "markdown",
   "metadata": {},
   "source": [
    "Продемострируем работу алгоритма классификации на данных по оттоку, которые содержатся в файле `data/client_segmentation.csv`. В файле содержится информация по клиентам оператора связи о том, как изменилось потребление услуг оператора за два месяца:\n",
    "* call_diff доля звонков\n",
    "* sms_diff доля смс\n",
    "* доля интернет-трафика traffic_diff\n",
    "\n",
    "Все показатели вычисляются по формуле\n",
    "\n",
    "$$\n",
    "\\frac{\\text{new_value}-\\text{old_value}}{\\text{old_value}}\n",
    "$$"
   ]
  },
  {
   "cell_type": "markdown",
   "metadata": {},
   "source": [
    "В последней колонке `customes_class` содержится метка по оттоку:\n",
    "* $0$ - активный пользователя\n",
    "* $1$ - \"спящий\" пользователь (редко пользуется услугами)\n",
    "* $2$ - пользователь, который ушел в отток"
   ]
  },
  {
   "cell_type": "code",
   "execution_count": 20,
   "metadata": {},
   "outputs": [
    {
     "data": {
      "text/html": [
       "<div>\n",
       "<style scoped>\n",
       "    .dataframe tbody tr th:only-of-type {\n",
       "        vertical-align: middle;\n",
       "    }\n",
       "\n",
       "    .dataframe tbody tr th {\n",
       "        vertical-align: top;\n",
       "    }\n",
       "\n",
       "    .dataframe thead th {\n",
       "        text-align: right;\n",
       "    }\n",
       "</style>\n",
       "<table border=\"1\" class=\"dataframe\">\n",
       "  <thead>\n",
       "    <tr style=\"text-align: right;\">\n",
       "      <th></th>\n",
       "      <th>call_diff</th>\n",
       "      <th>sms_diff</th>\n",
       "      <th>traffic_diff</th>\n",
       "      <th>customes_class</th>\n",
       "    </tr>\n",
       "  </thead>\n",
       "  <tbody>\n",
       "    <tr>\n",
       "      <th>0</th>\n",
       "      <td>-0.666421</td>\n",
       "      <td>0.444911</td>\n",
       "      <td>-0.273538</td>\n",
       "      <td>0</td>\n",
       "    </tr>\n",
       "    <tr>\n",
       "      <th>1</th>\n",
       "      <td>-0.889273</td>\n",
       "      <td>-0.537896</td>\n",
       "      <td>-1.959469</td>\n",
       "      <td>2</td>\n",
       "    </tr>\n",
       "    <tr>\n",
       "      <th>2</th>\n",
       "      <td>-0.841503</td>\n",
       "      <td>0.846665</td>\n",
       "      <td>0.727606</td>\n",
       "      <td>0</td>\n",
       "    </tr>\n",
       "    <tr>\n",
       "      <th>3</th>\n",
       "      <td>1.389749</td>\n",
       "      <td>0.390911</td>\n",
       "      <td>1.789246</td>\n",
       "      <td>1</td>\n",
       "    </tr>\n",
       "    <tr>\n",
       "      <th>4</th>\n",
       "      <td>-1.228211</td>\n",
       "      <td>-1.375899</td>\n",
       "      <td>-1.434209</td>\n",
       "      <td>2</td>\n",
       "    </tr>\n",
       "  </tbody>\n",
       "</table>\n",
       "</div>"
      ],
      "text/plain": [
       "   call_diff  sms_diff  traffic_diff  customes_class\n",
       "0  -0.666421  0.444911     -0.273538               0\n",
       "1  -0.889273 -0.537896     -1.959469               2\n",
       "2  -0.841503  0.846665      0.727606               0\n",
       "3   1.389749  0.390911      1.789246               1\n",
       "4  -1.228211 -1.375899     -1.434209               2"
      ]
     },
     "execution_count": 20,
     "metadata": {},
     "output_type": "execute_result"
    }
   ],
   "source": [
    "import pandas as pd\n",
    "import matplotlib.pyplot as plt\n",
    "from mpl_toolkits.mplot3d import Axes3D\n",
    "import numpy as np\n",
    "\n",
    "%matplotlib inline\n",
    "np.set_printoptions(precision=4)\n",
    "\n",
    "df_source = pd.read_csv(\n",
    "    'data/client_segmentation.csv', \n",
    "    dtype={'call_diff': np.float32, 'call_diff': np.float32, 'traffic_diff': np.float32, 'customes_class': np.uint16}\n",
    ")\n",
    "X = df_source[['call_diff','sms_diff','traffic_diff']].values\n",
    "y = df_source.customes_class.values\n",
    "\n",
    "df_source.head(5)"
   ]
  },
  {
   "cell_type": "code",
   "execution_count": 30,
   "metadata": {},
   "outputs": [
    {
     "data": {
      "text/plain": [
       "<matplotlib.axes._subplots.AxesSubplot at 0x7f71a0891b00>"
      ]
     },
     "execution_count": 30,
     "metadata": {},
     "output_type": "execute_result"
    },
    {
     "data": {
      "image/png": "[encoded data removed]",
      "text/plain": [
       "<Figure size 432x288 with 1 Axes>"
      ]
     },
     "metadata": {
      "needs_background": "light"
     },
     "output_type": "display_data"
    }
   ],
   "source": [
    "df_source.sms_diff.hist(bins=8)"
   ]
  },
  {
   "cell_type": "code",
   "execution_count": 25,
   "metadata": {},
   "outputs": [
    {
     "data": {
      "text/plain": [
       "0    34\n",
       "2    33\n",
       "1    33\n",
       "Name: customes_class, dtype: int64"
      ]
     },
     "execution_count": 25,
     "metadata": {},
     "output_type": "execute_result"
    }
   ],
   "source": [
    "df_source.customes_class.value_counts()"
   ]
  },
  {
   "cell_type": "markdown",
   "metadata": {},
   "source": [
    "Построим наивный байесовский классификатор - мы уже использовали этот алгоритм в начале курса, когда говорили про теорию вероятностей.\n",
    "\n",
    "Оценим качество классификатора: сколько пользователей предсказали правильно"
   ]
  },
  {
   "cell_type": "code",
   "execution_count": 26,
   "metadata": {},
   "outputs": [
    {
     "name": "stdout",
     "output_type": "stream",
     "text": [
      "Точность предсказаний: 0.95\n"
     ]
    }
   ],
   "source": [
    "from sklearn.naive_bayes import GaussianNB\n",
    "\n",
    "naive_bayes = GaussianNB() # создаём экземпляр класса\n",
    "naive_bayes.fit(X, y) # обучение модели\n",
    "predicted_classes = naive_bayes.predict(X) # предсказание (эксплуатация модели)\n",
    "\n",
    "accuracy = (predicted_classes == y).sum() / len(y)\n",
    "\n",
    "print(f'Точность предсказаний: {accuracy}')"
   ]
  },
  {
   "cell_type": "markdown",
   "metadata": {},
   "source": [
    "Можно вытащить, например, априорные вероятности классов"
   ]
  },
  {
   "cell_type": "code",
   "execution_count": 31,
   "metadata": {},
   "outputs": [
    {
     "name": "stdout",
     "output_type": "stream",
     "text": [
      "[0.34 0.33 0.33]\n"
     ]
    }
   ],
   "source": [
    "print(naive_bayes.class_prior_)"
   ]
  },
  {
   "cell_type": "code",
   "execution_count": null,
   "metadata": {},
   "outputs": [],
   "source": []
  },
  {
   "cell_type": "markdown",
   "metadata": {},
   "source": [
    "## Алгоритмы классификации\n",
    "\n",
    "Алгоритмы приводятся в виде ссылок на документацию sklearn\n",
    "\n",
    "### [Наивный Байесовский классификатор](https://scikit-learn.org/stable/modules/naive_bayes.html)\n",
    "\n",
    "Классификатор основан на вероятностном подходе: подсчёт частот встречаемости фичей.\n",
    "\n",
    "Очень просто реализовать, поэтому работает достаточно быстро. Применим  на больших объёмах данных в случае, когда количество фичей не очень большое.\n",
    "\n",
    "### [Метод $K$ ближайших соседей](https://scikit-learn.org/stable/modules/generated/sklearn.neighbors.KNeighborsClassifier.html)\n",
    "\n",
    "Т.н. \"ленивый\" (lazy algorithm) алгоритм классификации, который работает за два шага:\n",
    "\n",
    "* запоминает объекты обучающей выборки и их классы\n",
    "* в момент предсказания для объекта находит $k$ самых близких объектов из обучающей выборки и присваивает новому объекту класс большинства его \"соседей\"\n",
    "\n"
   ]
  },
  {
   "cell_type": "markdown",
   "metadata": {},
   "source": [
    "### [Логистическая регрессия](https://scikit-learn.org/stable/modules/linear_model.html#logistic-regression)\n",
    "\n",
    "Алгоритм, основанный на идеях линейной регрессии. Применим для бинарной классификации, на выходе выдаёт вероятность того, что объект принадлежит классу $1$, которая вычисляется по формуле\n",
    "\n",
    "$$\n",
    "P(y==1 | x) = \\frac{1}{1+e^{z}}\n",
    "$$\n",
    "\n",
    "Где $z$ - линейная комбинация фичей объекта\n",
    "$$\n",
    "z = \\theta^T x = \\theta_1 x_1 + \\theta_2 x_2 + \\ldots + \\theta_n x_n\n",
    "$$\n",
    "\n",
    "Обучение сводится к вычислению оптимального набора $\\theta = [\\theta_1, \\theta_2, \\ldots, \\theta_n]$\n",
    "\n",
    "Статья [пережёвываем логистическую регрессию](https://m.habr.com/ru/post/485872/)_\n",
    "\n",
    "\n",
    "**Примечание**: другой пример линейного классификатора - [машина опорных векторов](https://scikit-learn.org/stable/modules/svm.html#classification)\n",
    "\n",
    "В этом алгоритме мы обучаем вектор весов $W$ таким образом, чтобы прямая $y=W^TX$, задаваемая этими весами, проходила на максимальном удалении от точек обоих классов\n",
    "\n",
    "![svm_hyperplane.png](img/svm_hyperplane.png)\n",
    "\n",
    "Отличная [статья на Хабре про SVM](https://habr.com/ru/company/ods/blog/484148/) \n"
   ]
  },
  {
   "cell_type": "markdown",
   "metadata": {},
   "source": [
    "### [Дерево принятия решений]()\n",
    "\n",
    "Дерево принятия решений в задачах классификации можно представить как последовательность вопросов о фичах объекта, которая приводит к однозначному определению класса объекта. Каждый следующий вопрос зависит от того, какой ответ был получен на предыдущем шаге\n",
    "\n",
    "Как каждый такой вопрос - это проверка признака по некоторому \"порогу разбиения\" и разбиение выборки на две части по этому порогу. Порог разбиения выбирается таким образом, чтобы минимизировать энтропию (т.е. уменьшить неопределенность) в двух получившихся частях выборки.\n",
    "\n",
    "Более подробно ( в т.ч. про энтропию) можно почитать в [Статье от ODS](https://habr.com/ru/company/ods/blog/322534)"
   ]
  },
  {
   "cell_type": "code",
   "execution_count": 33,
   "metadata": {},
   "outputs": [],
   "source": [
    "from sklearn import tree\n",
    "\n",
    "clf = tree.DecisionTreeClassifier().fit(X, y)"
   ]
  },
  {
   "cell_type": "markdown",
   "metadata": {},
   "source": [
    "Предсказания одного дерева получаем по формуле"
   ]
  },
  {
   "cell_type": "code",
   "execution_count": 34,
   "metadata": {},
   "outputs": [
    {
     "name": "stdout",
     "output_type": "stream",
     "text": [
      "Точность предсказаний: 1.0\n"
     ]
    }
   ],
   "source": [
    "predicted_classes = clf.predict(X)\n",
    "\n",
    "accuracy = (predicted_classes == y).sum() / len(y)\n",
    "\n",
    "print(f'Точность предсказаний: {accuracy}')"
   ]
  },
  {
   "cell_type": "markdown",
   "metadata": {},
   "source": [
    "Визуализация дерева принятия решений"
   ]
  },
  {
   "cell_type": "code",
   "execution_count": 35,
   "metadata": {},
   "outputs": [
    {
     "data": {
      "text/plain": [
       "[Text(197.83636363636364, 195.696, 'X[0] <= 0.259\\ngini = 0.667\\nsamples = 100\\nvalue = [34, 33, 33]'),\n",
       " Text(121.74545454545455, 152.208, 'X[1] <= 0.629\\ngini = 0.528\\nsamples = 68\\nvalue = [33, 2, 33]'),\n",
       " Text(60.872727272727275, 108.72, 'X[2] <= -0.411\\ngini = 0.26\\nsamples = 39\\nvalue = [6, 0, 33]'),\n",
       " Text(30.436363636363637, 65.232, 'gini = 0.0\\nsamples = 26\\nvalue = [0, 0, 26]'),\n",
       " Text(91.30909090909091, 65.232, 'X[1] <= -0.702\\ngini = 0.497\\nsamples = 13\\nvalue = [6, 0, 7]'),\n",
       " Text(60.872727272727275, 21.744, 'gini = 0.0\\nsamples = 7\\nvalue = [0, 0, 7]'),\n",
       " Text(121.74545454545455, 21.744, 'gini = 0.0\\nsamples = 6\\nvalue = [6, 0, 0]'),\n",
       " Text(182.61818181818182, 108.72, 'X[0] <= -0.32\\ngini = 0.128\\nsamples = 29\\nvalue = [27, 2, 0]'),\n",
       " Text(152.1818181818182, 65.232, 'gini = 0.0\\nsamples = 27\\nvalue = [27, 0, 0]'),\n",
       " Text(213.05454545454546, 65.232, 'gini = 0.0\\nsamples = 2\\nvalue = [0, 2, 0]'),\n",
       " Text(273.92727272727274, 152.208, 'X[1] <= -0.899\\ngini = 0.061\\nsamples = 32\\nvalue = [1, 31, 0]'),\n",
       " Text(243.4909090909091, 108.72, 'gini = 0.0\\nsamples = 1\\nvalue = [1, 0, 0]'),\n",
       " Text(304.3636363636364, 108.72, 'gini = 0.0\\nsamples = 31\\nvalue = [0, 31, 0]')]"
      ]
     },
     "execution_count": 35,
     "metadata": {},
     "output_type": "execute_result"
    },
    {
     "data": {
      "image/png": "[encoded data removed]",
      "text/plain": [
       "<Figure size 432x288 with 1 Axes>"
      ]
     },
     "metadata": {
      "needs_background": "light"
     },
     "output_type": "display_data"
    }
   ],
   "source": [
    "%matplotlib inline\n",
    "\n",
    "tree.plot_tree(clf)"
   ]
  },
  {
   "cell_type": "markdown",
   "metadata": {},
   "source": [
    "### [Классификатор на случайных деревьях](https://scikit-learn.org/stable/modules/generated/sklearn.ensemble.RandomForestClassifier.html#sklearn.ensemble.RandomForestClassifier)\n",
    "\n",
    "Строим большое количество случайных деревьев, а итоговое предсказание - результат \"голосования\" деревьев\n",
    "\n",
    "![random_forest_introduction.jpg](img/random_forest_introduction.jpg)\n"
   ]
  },
  {
   "cell_type": "markdown",
   "metadata": {},
   "source": [
    "Почему это работает?\n",
    "\n",
    "Если у каждого дерева вероятность правильного предсказания выше, чем 0.5 то у чем больше таких деревьев тем выше вероятнсть правильного ответа"
   ]
  },
  {
   "cell_type": "code",
   "execution_count": null,
   "metadata": {},
   "outputs": [],
   "source": []
  },
  {
   "cell_type": "markdown",
   "metadata": {},
   "source": [
    "## Метрики классификации\n",
    "\n",
    "Все метрики классификации основаны на следующей таблице, которая содержит возможные исходы работы классификатора: ошибочные и корректные.\n",
    "\n",
    "![confusion_matrix.png](img/confusion_matrix.png)\n",
    "\n",
    "В таблице 4 исхода применения классификатора:\n",
    "\n",
    "* `true positive`: класс $1$ предсказали правильно\n",
    "* `false positive`: класс $1$ предсказали неправильно\n",
    "* `true negative`: класс $0$ предсказали правильно\n",
    "* `false negative`: класс $0$ предсказали неправильно\n",
    "\n",
    "На числах, которые находятся в ячейках таблицы можно построить огромное количество метрик\n",
    "\n",
    "Для начала посчитаем собственно confusion matrix"
   ]
  },
  {
   "cell_type": "code",
   "execution_count": 36,
   "metadata": {},
   "outputs": [
    {
     "name": "stdout",
     "output_type": "stream",
     "text": [
      "Кoличество объектов в тестовой выборке: 33\n"
     ]
    },
    {
     "data": {
      "image/png": "[encoded data removed]",
      "text/plain": [
       "<Figure size 432x288 with 2 Axes>"
      ]
     },
     "metadata": {
      "needs_background": "light"
     },
     "output_type": "display_data"
    }
   ],
   "source": [
    "from sklearn.metrics import confusion_matrix\n",
    "from sklearn.model_selection import train_test_split\n",
    "import itertools\n",
    "\n",
    "# сводим задачу к бинарной классификации\n",
    "df_source = pd.read_csv(\n",
    "    'data/client_segmentation.csv', \n",
    "    dtype={'call_diff': np.float32, 'call_diff': np.float32, 'traffic_diff': np.float32, 'customes_class': np.uint16}\n",
    ")\n",
    "df_source[(df_source.customes_class==2) & (df_source.call_diff>1.1)] = 0\n",
    "df_source[(df_source.customes_class==2) & (df_source.call_diff<=1.1)] = 1\n",
    "X = df_source[['call_diff','sms_diff','traffic_diff']].values\n",
    "y = df_source.customes_class.values\n",
    "\n",
    "def plot_confusion_matrix(cm, classes,\n",
    "                          title='Confusion matrix',\n",
    "                          cmap=plt.cm.Blues):\n",
    "    \"\"\"\n",
    "    This function prints and plots the confusion matrix.\n",
    "    Normalization can be applied by setting `normalize=True`.\n",
    "    \"\"\"\n",
    "    plt.imshow(cm, interpolation='nearest', cmap=cmap)\n",
    "    plt.title(title)\n",
    "    plt.colorbar()\n",
    "    tick_marks = np.arange(len(classes))\n",
    "    plt.xticks(tick_marks, classes, rotation=45)\n",
    "    plt.yticks(tick_marks, classes)\n",
    "\n",
    "    thresh = cm.max() / 2.\n",
    "    for i, j in itertools.product(range(cm.shape[0]), range(cm.shape[1])):\n",
    "        plt.text(j, i, cm[i, j],\n",
    "                 horizontalalignment=\"center\",\n",
    "                 color=\"white\" if cm[i, j] > thresh else \"black\")\n",
    "\n",
    "X_train, X_test, y_train, y_test = train_test_split(X, y, test_size=0.33, random_state=42)\n",
    "naive_bayes.fit(X_train, y_train)\n",
    "y_pred = naive_bayes.predict(X_test)\n",
    "\n",
    "conf_matrix = confusion_matrix(y_test, y_pred)\n",
    "plot_confusion_matrix(\n",
    "    conf_matrix,\n",
    "    classes=['active', 'churn'],\n",
    "    title='Confusion matrix, without normalization'\n",
    ")\n",
    "print(f'Кoличество объектов в тестовой выборке: {len(y_pred)}')"
   ]
  },
  {
   "cell_type": "markdown",
   "metadata": {},
   "source": [
    "Активно используются следующие метрики\n",
    "\n",
    "**Accuracy**\n",
    "\n",
    "$$\n",
    "\\frac{TP + TN}{TP + TN + FP + FN}\n",
    "$$\n",
    "\n",
    "**Precision**\n",
    "$$\n",
    "\\frac{TP}{TP + FP}\n",
    "$$\n",
    "\n",
    "**Recall**\n",
    "$$\n",
    "\\frac{TP}{TP + FN}\n",
    "$$\n",
    "\n",
    "**F1-score**\n",
    "$$\n",
    "2\\frac{precision\\cdot recall}{precision + recall}\n",
    "$$\n",
    "\n",
    "**Logistic Loss**\n",
    "$$\n",
    "-\\frac{1}{l}\\sum_{i=1}^{l}\\left(y_i \\log\\hat{y}_i + (1-y_i) \\log(1-\\hat{y}_i)\\right)\n",
    "$$\n",
    "\n",
    "\n",
    "Про метрики есть хороший разбор на хабре [в статье про метрики](https://habr.com/ru/company/ods/blog/328372/)"
   ]
  },
  {
   "cell_type": "code",
   "execution_count": 71,
   "metadata": {},
   "outputs": [
    {
     "name": "stdout",
     "output_type": "stream",
     "text": [
      "accuracy_score:\t0.8787878787878788\n",
      "log_loss:\t4.186566811348581\n",
      "f1_score:\t0.9166666666666666\n",
      "precision_score:\t0.9166666666666666\n",
      "recall_score:\t0.9166666666666666\n"
     ]
    }
   ],
   "source": [
    "from sklearn.metrics import accuracy_score, log_loss, f1_score, precision_score, recall_score\n",
    "\n",
    "for f in [accuracy_score, log_loss, f1_score, precision_score, recall_score]:\n",
    "    print(f'{f.__name__}:\\t{f(y_test, y_pred)}')"
   ]
  },
  {
   "cell_type": "markdown",
   "metadata": {},
   "source": [
    "## Домашнее задание\n",
    "\n",
    "Найдите лучший классификатор по метрике `f1_score`"
   ]
  },
  {
   "cell_type": "code",
   "execution_count": null,
   "metadata": {},
   "outputs": [],
   "source": [
    "# --------- ВАШ КОД ТУТ --------\n",
    "\n",
    "\n",
    "\n",
    "\n",
    "\n",
    "# ------------------------------"
   ]
  },
  {
   "cell_type": "markdown",
   "metadata": {},
   "source": [
    "# Регрессия\n",
    "\n",
    "Регрессия - это семейство алгоритмов машинного обучения с учителем, цель которых состоит в востановлении **непрерывной** зависимости целевой переменной от фичей.\n",
    "\n",
    "Допустим, у нас есть нормализованные данные по количеству просмотров контента в онлайн-кинотеатре ivi\n",
    "\n",
    "* в датасете всего одна фича: время, когда было сделано наблюдение\n",
    "* целевая переменная - количество просмотров в этот момент времени\n",
    "\n",
    "Мы хотим научиться предсказывать количество просмотров (напрерывную переменную) по времения суток"
   ]
  },
  {
   "cell_type": "code",
   "execution_count": 37,
   "metadata": {},
   "outputs": [
    {
     "data": {
      "image/png": "[encoded data removed]",
      "text/plain": [
       "<Figure size 432x288 with 1 Axes>"
      ]
     },
     "metadata": {
      "needs_background": "light"
     },
     "output_type": "display_data"
    }
   ],
   "source": [
    "import pandas as pd\n",
    "import matplotlib.pyplot as plt\n",
    "%matplotlib inline\n",
    "\n",
    "df = pd.read_csv('data/content_views_toy_set.csv', encoding='utf8')\n",
    "df.plot.scatter(x='time', y='content_views')\n",
    "plt.show()"
   ]
  },
  {
   "cell_type": "markdown",
   "metadata": {},
   "source": [
    "## Линейная регрессия"
   ]
  },
  {
   "cell_type": "markdown",
   "metadata": {},
   "source": [
    "Впервые термин *регрессия* в статистике был использован английским исследователем Френсисом Гальтоном (1886) в  исследовании вопроса наследования физических характеристик человека (конкретно - роста человека). Было обнаружено, что в целом сыновья высоких отцов, оказались более высокими, чем сыновья отцов с низким ростом. Более интересным было то, что разброс в росте сыновей был меньшим, чем разброс в росте отцов. Так проявлялась тенденция возвращения роста сыновей к среднему (regression to mediocrity), то есть «регресс».\n",
    "\n",
    "Реализация этого алгоритма есть в библиотеке sklearn"
   ]
  },
  {
   "cell_type": "code",
   "execution_count": 39,
   "metadata": {},
   "outputs": [
    {
     "data": {
      "image/png": "[encoded data removed]",
      "text/plain": [
       "<Figure size 432x288 with 1 Axes>"
      ]
     },
     "metadata": {
      "needs_background": "light"
     },
     "output_type": "display_data"
    }
   ],
   "source": [
    "import numpy as np\n",
    "from sklearn.model_selection import train_test_split\n",
    "from sklearn.linear_model import LinearRegression\n",
    "\n",
    "X = df['time'].values\n",
    "y = df['content_views'].values\n",
    "\n",
    "X_train, X_test, y_train, y_test = train_test_split(X, y, test_size=0.33, random_state=42)\n",
    "reg = LinearRegression().fit(X_train.reshape(-1, 1), y_train)\n",
    "\n",
    "# строим график\n",
    "margin = 0.3\n",
    "support = np.arange(X.min(), X.max(), step=0.1)\n",
    "\n",
    "# строим предсказание\n",
    "y_hat = reg.predict(support.reshape(-1, 1))\n",
    "\n",
    "plt.plot(support, y_hat, 'b--', alpha=0.5, label='prediction')\n",
    "plt.scatter(X_train, y_train, 40, 'g', 'o', alpha=0.8, label='data')\n",
    "plt.xlim(X.min() - margin, X.max() + margin)\n",
    "plt.ylim(y.min() - margin, y.max() + margin)\n",
    "plt.legend(loc='upper right', prop={'size': 20})\n",
    "plt.title('Fitted linear regression')\n",
    "plt.xlabel('x')\n",
    "plt.ylabel('y')\n",
    "plt.show()"
   ]
  },
  {
   "cell_type": "markdown",
   "metadata": {},
   "source": [
    "Если вспомнить модель линейной регрессии, то обучение модели сводится к нахождению коэффициентов $w_1,\\ldots,w_n$:\n",
    "$$\n",
    "\\forall x_i: h(x) = w_0 + w_1x_i^1 + \\ldots + w_nx_i^n = \\sum_{j=1}^{n}w_jx_i^j = \\overline{x}_i^T\\overline{w}\n",
    "$$\n",
    "\n",
    "\"Достать\" коэффициенты из модели можно через аттрибут `coef_`:"
   ]
  },
  {
   "cell_type": "code",
   "execution_count": 43,
   "metadata": {},
   "outputs": [
    {
     "name": "stdout",
     "output_type": "stream",
     "text": [
      "коэффициенты линейной регрессии w=[-0.29424462], качество модели 0.5831098740865217\n"
     ]
    }
   ],
   "source": [
    "print(\n",
    "    f'коэффициенты линейной регрессии w={reg.coef_},',\n",
    "    f'качество модели {reg.score(X_test.reshape(-1,1), y_test)}'\n",
    ")"
   ]
  },
  {
   "cell_type": "markdown",
   "metadata": {},
   "source": [
    "Линейная регрессия очень хорошо интерпретируется: чем больше по модулю значение коэффициента $w_i$, тем сильнее фича $x_i$ влияет на предсказания модели.\n",
    "\n",
    "Кажется, что линейная комбинация фичей сильно ограничивает модель и не позволяет улавливать сложные зависимости.\n",
    "\n",
    "Чтобы модель улавливала нелинейные зависимости, мы можем добавить в датасет степени исходной переменной. Допустим, построим предсказания на полиноме пятой степени:"
   ]
  },
  {
   "cell_type": "code",
   "execution_count": 40,
   "metadata": {},
   "outputs": [
    {
     "data": {
      "text/plain": [
       "array([5.6102, 5.9498, 2.2894, 1.4277, 2.6416, 3.5284, 4.541 , 4.1259,\n",
       "       0.1384, 5.4467, 3.7737, 4.3334, 1.1824, 4.107 , 1.5346, 4.6228,\n",
       "       0.1572, 2.9246, 0.1887, 5.4152, 4.5724, 3.3146, 5.1574, 1.4717,\n",
       "       3.2705, 2.7988, 5.9687, 2.912 , 1.2705, 5.3083, 2.0189, 3.9183,\n",
       "       4.9372])"
      ]
     },
     "execution_count": 40,
     "metadata": {},
     "output_type": "execute_result"
    }
   ],
   "source": [
    "X_train"
   ]
  },
  {
   "cell_type": "code",
   "execution_count": 42,
   "metadata": {},
   "outputs": [
    {
     "data": {
      "image/png": "[encoded data removed]",
      "text/plain": [
       "<Figure size 432x288 with 1 Axes>"
      ]
     },
     "metadata": {
      "needs_background": "light"
     },
     "output_type": "display_data"
    }
   ],
   "source": [
    "def generate_degrees(source_data: list, degree: int):\n",
    "    \"\"\"Функция, которая принимает на вход одномерный массив, а возвращает n-мерный\n",
    "    Для каждой степени от 1 до  degree возводим x в эту степень\n",
    "    \"\"\"\n",
    "    return np.array([\n",
    "          source_data**n for n in range(1, degree + 1)  \n",
    "    ]).T\n",
    "\n",
    "X_train_5 = generate_degrees(X_train, 5)\n",
    "X_test_5 = generate_degrees(X_test, 5)\n",
    "reg_5 = LinearRegression().fit(X_train_5, y_train)\n",
    "\n",
    "# строим график\n",
    "margin = 0.3\n",
    "support = np.arange(X.min(), X.max(), step=0.1)\n",
    "\n",
    "X_test_support = generate_degrees(support, 5)\n",
    "y_hat = reg_5.predict(X_test_support)\n",
    "\n",
    "plt.plot(support, y_hat, 'b--', alpha=0.5, label='prediction')\n",
    "plt.scatter(X_train, y_train, 40, 'g', 'o', alpha=0.8, label='data')\n",
    "plt.xlim(X.min() - margin, X.max() + margin)\n",
    "plt.ylim(y.min() - margin, y.max() + margin)\n",
    "plt.legend(loc='upper right', prop={'size': 20})\n",
    "plt.title('Fitted linear regression')\n",
    "plt.xlabel('x')\n",
    "plt.ylabel('y')\n",
    "plt.show()"
   ]
  },
  {
   "cell_type": "markdown",
   "metadata": {},
   "source": [
    "Посмотрим на модель, которая у нас обучилась - вместо одной фичи в матрице **объекты $\\times$ признаки** стало пять фичей"
   ]
  },
  {
   "cell_type": "code",
   "execution_count": 61,
   "metadata": {},
   "outputs": [
    {
     "name": "stdout",
     "output_type": "stream",
     "text": [
      "коэффициенты линейной регрессии w=[ 2.48283062e+00 -1.19385669e+00  8.71731563e-02  2.15650198e-02\n",
      " -2.38912640e-03],\n",
      " качество модели 0.9123\n"
     ]
    }
   ],
   "source": [
    "print(\n",
    "    f'коэффициенты линейной регрессии w={reg_5.coef_},\\n',\n",
    "    f'качество модели {reg_5.score(X_test_5, y_test):.4f}'\n",
    ")"
   ]
  },
  {
   "cell_type": "markdown",
   "metadata": {},
   "source": [
    "### Домашнее задание.\n",
    "\n",
    "Пользуясь методом `.score` подберите наилучшее значение степени полинома"
   ]
  },
  {
   "cell_type": "code",
   "execution_count": null,
   "metadata": {},
   "outputs": [],
   "source": [
    "# --------- ВАШ КОД ТУТ --------\n",
    "\n",
    "\n",
    "\n",
    "\n",
    "\n",
    "# ------------------------------"
   ]
  },
  {
   "cell_type": "markdown",
   "metadata": {},
   "source": [
    "## Случайный лес\n",
    "\n",
    "Алгорим случайного можно применять для регрессии аналогично тому, как он применяется для классификации\n",
    "\n",
    "* рандомизировано построить несколько деревьев\n",
    "* каждое дерево независимо предсказывает значение в точке\n",
    "* итоговое предсказание - усреднённое значение предсказаний деревьев ансамбля"
   ]
  },
  {
   "cell_type": "code",
   "execution_count": 46,
   "metadata": {},
   "outputs": [
    {
     "name": "stdout",
     "output_type": "stream",
     "text": [
      "коэффициенты важности фичей w=[1.], качество модели 0.9610\n"
     ]
    }
   ],
   "source": [
    "from sklearn.ensemble import RandomForestRegressor\n",
    "\n",
    "rf = RandomForestRegressor(n_estimators=10).fit(X_train.reshape(-1, 1), y_train)\n",
    "print(\n",
    "    f'коэффициенты важности фичей w={rf.feature_importances_},',\n",
    "    f'качество модели {rf.score(X_train.reshape(-1, 1), y_train):.4f}'\n",
    ")"
   ]
  },
  {
   "cell_type": "markdown",
   "metadata": {},
   "source": [
    "# Выводы\n",
    "\n",
    "* в задаче обучения с учителем обязательно нужно тратить время на разметку\n",
    "* проблема дисбаланса классов\n",
    "* можно слишком сильно подогнать модель под обучающую выборку - это явление переобучения, о нём поговорим в следующих занятиях"
   ]
  },
  {
   "cell_type": "code",
   "execution_count": null,
   "metadata": {},
   "outputs": [],
   "source": []
  }
 ],
 "metadata": {
  "kernelspec": {
   "display_name": "Python 3",
   "language": "python",
   "name": "python3"
  },
  "language_info": {
   "codemirror_mode": {
    "name": "ipython",
    "version": 3
   },
   "file_extension": ".py",
   "mimetype": "text/x-python",
   "name": "python",
   "nbconvert_exporter": "python",
   "pygments_lexer": "ipython3",
   "version": "3.6.9"
  }
 },
 "nbformat": 4,
 "nbformat_minor": 2
}
