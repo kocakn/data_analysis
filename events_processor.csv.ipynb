{
 "cells": [
  {
   "cell_type": "code",
   "execution_count": 3,
   "metadata": {},
   "outputs": [],
   "source": [
    "import datetime\n",
    "import hashlib\n",
    "import csv\n",
    "import os\n",
    "import codecs\n",
    "\n",
    "def process_row(i, val):\n",
    "    val = val.replace('\\0', '')\n",
    "    transformed_val = val\n",
    "    if i == 1:\n",
    "        transformed_val = hashlib.md5(val.encode('utf-8')).hexdigest()\n",
    "    elif i == 4:\n",
    "        transformed_val = int(datetime.datetime.strptime(val, '%Y-%m-%d %H:%M:%S').timestamp())\n",
    "    if i in (1,5,6,7,8,9,10,15,17, 19):\n",
    "        text_replaced = transformed_val.replace('\"','')\n",
    "        transformed_val = f'\"{text_replaced}\"'\n",
    "    return transformed_val\n",
    "    \n",
    "\n",
    "def csv_reader(file_name, sink_file_name):\n",
    "    \"\"\"\n",
    "    Read a csv file\n",
    "    \"\"\"\n",
    "    with open(file_name, 'r') as file_obj:\n",
    "        reader = csv.reader((line.replace('\\0','') for line in file_obj), delimiter=',')\n",
    "        with open(sink_file_name, 'w', encoding='utf-8') as sink_file_obj:\n",
    "            sink_file_obj.write(\n",
    "                f\"{','.join([i for i in next(reader)])}\\n\"\n",
    "            )\n",
    "            for row in reader:\n",
    "                sink_file_obj.write(\n",
    "                    f\"{','.join(map(str, [process_row(i, j) for i, j in enumerate(row)]))}\\n\"\n",
    "                )\n",
    "\n",
    "home_dir = '/usr/share/data_store/raw_data'\n",
    "# file_name = 'csv_example.csv'\n",
    "file_name = 'win_users_events2.csv'\n",
    "#file_name = 'null.csv'\n",
    "sink_file_name = 'events.csv'\n",
    "\n",
    "csv_reader(os.path.join(home_dir, file_name), os.path.join(home_dir, sink_file_name))"
   ]
  },
  {
   "cell_type": "code",
   "execution_count": 43,
   "metadata": {},
   "outputs": [
    {
     "data": {
      "text/plain": [
       "1561507519"
      ]
     },
     "execution_count": 43,
     "metadata": {},
     "output_type": "execute_result"
    }
   ],
   "source": []
  },
  {
   "cell_type": "code",
   "execution_count": 61,
   "metadata": {},
   "outputs": [
    {
     "name": "stdout",
     "output_type": "stream",
     "text": [
      "5045325204,893bb6f6f4ce24b920cac200ecf1832d,83,426,1561507519,Россия,xboxOne,auto_skip,None,None,None,0,0,0,-1,None,0,collection,0,None,-1,0\r\n",
      "5048542620,41fbd91089153ceb5861448bf6ac9872,13,89,1561507595,Россия,xboxOne,auto_skip,None,None,None,0,0,0,-1,None,0,collection,0,None,-1,0\r\n",
      "5045325204,893bb6f6f4ce24b920cac200ecf1832d,84,433,1561507879,Россия,xboxOne,auto_skip,None,None,None,0,0,0,-1,None,0,collection,0,None,-1,0\r\n",
      "5048498748,9a4a2d321160670e8b92db4c707cf99a,1,18,1561507940,Россия,xboxOne,auto_skip,None,None,None,0,0,0,-1,None,0,collection,0,None,-1,0\r\n",
      "5045325204,893bb6f6f4ce24b920cac200ecf1832d,85,440,1561508306,Россия,xboxOne,auto_skip,None,None,None,0,0,0,-1,None,0,collection,0,None,-1,0\r\n",
      "5045325204,893bb6f6f4ce24b920cac200ecf1832d,86,447,1561508686,Россия,xboxOne,auto_skip,None,None,None,0,0,0,-1,None,0,collection,0,None,-1,0\r\n",
      "5050706976,1725220e0b7aaa45ed771fc0ecaa0796,14,117,1561509021,Россия,xboxOne,auto_skip,None,None,None,0,0,0,-1,None,0,collection,0,None,-1,0\r\n",
      "5045325204,893bb6f6f4ce24b920cac200ecf1832d,87,454,1561509141,Россия,xboxOne,auto_skip,None,None,None,0,0,0,-1,None,0,collection,0,None,-1,0\r\n",
      "5045325204,893bb6f6f4ce24b920cac200ecf1832d,88,461,1561509505,Россия,xboxOne,auto_skip,None,None,None,0,0,0,-1,None,0,collection,0,None,-1,0\r\n"
     ]
    }
   ],
   "source": [
    "!head /usr/share/data_store/raw_data/events.csv"
   ]
  },
  {
   "cell_type": "code",
   "execution_count": null,
   "metadata": {},
   "outputs": [],
   "source": []
  }
 ],
 "metadata": {
  "kernelspec": {
   "display_name": "Python 3",
   "language": "python",
   "name": "python3"
  },
  "language_info": {
   "codemirror_mode": {
    "name": "ipython",
    "version": 3
   },
   "file_extension": ".py",
   "mimetype": "text/x-python",
   "name": "python",
   "nbconvert_exporter": "python",
   "pygments_lexer": "ipython3",
   "version": "3.6.9"
  }
 },
 "nbformat": 4,
 "nbformat_minor": 4
}
