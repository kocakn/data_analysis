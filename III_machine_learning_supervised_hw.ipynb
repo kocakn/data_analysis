{
 "cells": [
  {
   "cell_type": "markdown",
   "metadata": {},
   "source": [
    "## Валидация моделей классификации\n",
    "\n",
    "Данные"
   ]
  },
  {
   "cell_type": "code",
   "execution_count": 1,
   "metadata": {},
   "outputs": [
    {
     "data": {
      "text/html": [
       "<div>\n",
       "<style scoped>\n",
       "    .dataframe tbody tr th:only-of-type {\n",
       "        vertical-align: middle;\n",
       "    }\n",
       "\n",
       "    .dataframe tbody tr th {\n",
       "        vertical-align: top;\n",
       "    }\n",
       "\n",
       "    .dataframe thead th {\n",
       "        text-align: right;\n",
       "    }\n",
       "</style>\n",
       "<table border=\"1\" class=\"dataframe\">\n",
       "  <thead>\n",
       "    <tr style=\"text-align: right;\">\n",
       "      <th></th>\n",
       "      <th>call_diff</th>\n",
       "      <th>sms_diff</th>\n",
       "      <th>traffic_diff</th>\n",
       "      <th>customes_class</th>\n",
       "    </tr>\n",
       "  </thead>\n",
       "  <tbody>\n",
       "    <tr>\n",
       "      <th>0</th>\n",
       "      <td>-0.666421</td>\n",
       "      <td>0.444911</td>\n",
       "      <td>-0.273538</td>\n",
       "      <td>0</td>\n",
       "    </tr>\n",
       "    <tr>\n",
       "      <th>1</th>\n",
       "      <td>1.000000</td>\n",
       "      <td>1.000000</td>\n",
       "      <td>1.000000</td>\n",
       "      <td>1</td>\n",
       "    </tr>\n",
       "    <tr>\n",
       "      <th>2</th>\n",
       "      <td>-0.841503</td>\n",
       "      <td>0.846665</td>\n",
       "      <td>0.727606</td>\n",
       "      <td>0</td>\n",
       "    </tr>\n",
       "    <tr>\n",
       "      <th>3</th>\n",
       "      <td>1.389749</td>\n",
       "      <td>0.390911</td>\n",
       "      <td>1.789246</td>\n",
       "      <td>1</td>\n",
       "    </tr>\n",
       "    <tr>\n",
       "      <th>4</th>\n",
       "      <td>1.000000</td>\n",
       "      <td>1.000000</td>\n",
       "      <td>1.000000</td>\n",
       "      <td>1</td>\n",
       "    </tr>\n",
       "  </tbody>\n",
       "</table>\n",
       "</div>"
      ],
      "text/plain": [
       "   call_diff  sms_diff  traffic_diff  customes_class\n",
       "0  -0.666421  0.444911     -0.273538               0\n",
       "1   1.000000  1.000000      1.000000               1\n",
       "2  -0.841503  0.846665      0.727606               0\n",
       "3   1.389749  0.390911      1.789246               1\n",
       "4   1.000000  1.000000      1.000000               1"
      ]
     },
     "execution_count": 1,
     "metadata": {},
     "output_type": "execute_result"
    }
   ],
   "source": [
    "import pandas as pd\n",
    "import matplotlib.pyplot as plt\n",
    "from mpl_toolkits.mplot3d import Axes3D\n",
    "import numpy as np\n",
    "\n",
    "\n",
    "np.set_printoptions(precision=4)\n",
    "\n",
    "df_source = pd.read_csv(\n",
    "    'data/client_segmentation.csv', \n",
    "    dtype={'call_diff': np.float32, 'call_diff': np.float32, 'traffic_diff': np.float32, 'customes_class': np.uint16}\n",
    ")\n",
    "df_source[(df_source.customes_class==2) & (df_source.call_diff>1.1)] = 0\n",
    "df_source[(df_source.customes_class==2) & (df_source.call_diff<=1.1)] = 1\n",
    "X = df_source[['call_diff','sms_diff','traffic_diff']].values\n",
    "y = df_source.customes_class.values\n",
    "\n",
    "df_source.head(5)"
   ]
  },
  {
   "cell_type": "markdown",
   "metadata": {},
   "source": [
    "Найдем лучший классификатор для одного размера тестовой выборки:"
   ]
  },
  {
   "cell_type": "code",
   "execution_count": 2,
   "metadata": {},
   "outputs": [
    {
     "name": "stdout",
     "output_type": "stream",
     "text": [
      "DecisionTreeClassifier - 0.9583333333333334\n",
      "GaussianNB - 0.9166666666666666\n",
      "KNeighborsClassifier - 0.9583333333333334\n",
      "LogisticRegression - 0.9583333333333334\n",
      "RandomForestClassifier - 0.9583333333333334\n",
      "\n",
      "Лучший классификатор по метрике f1-score: DecisionTreeClassifier - 0.9583333333333334\n"
     ]
    }
   ],
   "source": [
    "from sklearn.tree  import DecisionTreeClassifier\n",
    "from sklearn.naive_bayes import GaussianNB\n",
    "from sklearn.neighbors import KNeighborsClassifier\n",
    "from sklearn.linear_model import LogisticRegression\n",
    "from sklearn.ensemble import RandomForestClassifier\n",
    "\n",
    "from sklearn.model_selection import train_test_split\n",
    "from sklearn.metrics import f1_score\n",
    "\n",
    "\n",
    "X_train, X_test, y_train, y_test = train_test_split(X, y, test_size=0.33, random_state=42)\n",
    "\n",
    "classifiers = [\n",
    "    DecisionTreeClassifier().fit(X_train, y_train),\n",
    "    GaussianNB().fit(X_train, y_train),\n",
    "    KNeighborsClassifier().fit(X_train, y_train),\n",
    "    LogisticRegression().fit(X_train, y_train),\n",
    "    RandomForestClassifier().fit(X_train, y_train)\n",
    "]\n",
    "y_pred = [cl.predict(X_test) for cl in classifiers]\n",
    "\n",
    "f1_results = [f1_score(y_test, y_pred[i]) for i in range(len(y_pred))]\n",
    "\n",
    "\n",
    "for i in range(len(y_pred)):\n",
    "    print(str(classifiers[i])[:-2], '-', f1_results[i])\n",
    "\n",
    "best_score = f1_results.index(max(f1_results))  # индекс массива лучшего классификатора\n",
    "print(f'\\nЛучший классификатор по метрике f1-score: {str(classifiers[best_score])[:-2]} - {max(f1_results)}')"
   ]
  },
  {
   "cell_type": "markdown",
   "metadata": {},
   "source": [
    "Из-за небольшого количества данных классификаторы оказываются практически одинаково эффективны, а сама эффективность гораздо больше зависит от размера тестовой выборки, чем от классификатора.\n",
    "Найдем лучший классификатор по метрике f1-score в диапазоне значений размера тестовой выборки (от 0.2 до 0.5):"
   ]
  },
  {
   "cell_type": "code",
   "execution_count": 3,
   "metadata": {},
   "outputs": [],
   "source": [
    "y_pred_set = []  # запишем значения предсказаний\n",
    "y_test_set = []  # и реальных значений для всех выборок\n",
    "\n",
    "for tsize in range(20, 51):  # запускаем цикл по нужному диапазону размера тестовой выборки\n",
    "    X_train, X_test, y_train, y_test = train_test_split(X, y, test_size=tsize/100, random_state=42)\n",
    "\n",
    "    classifiers = [\n",
    "        DecisionTreeClassifier().fit(X_train, y_train),\n",
    "        GaussianNB().fit(X_train, y_train),\n",
    "        KNeighborsClassifier().fit(X_train, y_train),\n",
    "        LogisticRegression().fit(X_train, y_train),\n",
    "        RandomForestClassifier().fit(X_train, y_train)\n",
    "    ]                                             # массив классификаторов для тестирования\n",
    "    try:\n",
    "        y_pred = [cl.predict(X_test) for cl in classifiers]\n",
    "    except ValueError:\n",
    "        print(f'Ошибка в выборке {tsize}')\n",
    "        \n",
    "    y_pred_set.append(y_pred)  # добавляем значения в массив\n",
    "    y_test_set.append(y_test)"
   ]
  },
  {
   "cell_type": "markdown",
   "metadata": {},
   "source": [
    "Получим средние значения метрики для массива по выборкам у тестируемых классификаторов"
   ]
  },
  {
   "cell_type": "code",
   "execution_count": 4,
   "metadata": {},
   "outputs": [
    {
     "data": {
      "text/plain": [
       "[0.9661074690850271,\n",
       " 0.943366378980873,\n",
       " 0.9679715881108089,\n",
       " 0.9701533833844247,\n",
       " 0.9679715881108089]"
      ]
     },
     "execution_count": 4,
     "metadata": {},
     "output_type": "execute_result"
    }
   ],
   "source": [
    "set_length = len(y_pred_set[0])\n",
    "f1_summary = [0 for _ in range(set_length)]\n",
    "\n",
    "for cnum in range(len(y_pred_set)):\n",
    "    for i in range(set_length):\n",
    "        f1_summary[i] += f1_score(y_test_set[cnum], y_pred_set[cnum][i]) / len(y_pred_set)\n",
    "        \n",
    "f1_summary"
   ]
  },
  {
   "cell_type": "markdown",
   "metadata": {},
   "source": [
    "Получим значение наилучшего классификатора по средним метрикам:"
   ]
  },
  {
   "cell_type": "code",
   "execution_count": 5,
   "metadata": {},
   "outputs": [
    {
     "name": "stdout",
     "output_type": "stream",
     "text": [
      "Лучший классификатор по метрике f1-score: LogisticRegression - 0.9701533833844247\n"
     ]
    }
   ],
   "source": [
    "best_score = f1_summary.index(max(f1_summary))  # индекс массива лучшего классификатора\n",
    "print(f'Лучший классификатор по метрике f1-score: {str(classifiers[best_score])[:-2]} - {max(f1_summary)}')"
   ]
  },
  {
   "cell_type": "markdown",
   "metadata": {},
   "source": [
    "## Валидация моделей линейной регрессии\n",
    "\n",
    "Пользуясь методом .score подберите наилучшее значение степени полинома"
   ]
  },
  {
   "cell_type": "code",
   "execution_count": 6,
   "metadata": {},
   "outputs": [
    {
     "data": {
      "image/png": "[encoded data removed]",
      "text/plain": [
       "<Figure size 432x288 with 1 Axes>"
      ]
     },
     "metadata": {
      "needs_background": "light"
     },
     "output_type": "display_data"
    }
   ],
   "source": [
    "import pandas as pd\n",
    "import numpy as np\n",
    "from sklearn.model_selection import train_test_split\n",
    "from sklearn.linear_model import LinearRegression\n",
    "\n",
    "import matplotlib.pyplot as plt\n",
    "%matplotlib inline\n",
    "\n",
    "df = pd.read_csv('data/content_views_toy_set.csv', encoding='utf8')\n",
    "df.plot.scatter(x='time', y='content_views')\n",
    "plt.show()\n",
    "\n",
    "X = df['time'].values\n",
    "y = df['content_views'].values\n",
    "\n",
    "X_train, X_test, y_train, y_test = train_test_split(X, y, test_size=0.33, random_state=42)\n",
    "reg = LinearRegression().fit(X_train.reshape(-1, 1), y_train)"
   ]
  },
  {
   "cell_type": "code",
   "execution_count": 7,
   "metadata": {},
   "outputs": [],
   "source": [
    "def generate_degrees(source_data: list, degree: int):\n",
    "    \"\"\"Функция, которая принимает на вход одномерный массив, а возвращает n-мерный\n",
    "    Для каждой степени от 1 до degree возводим x в эту степень\n",
    "    \"\"\"\n",
    "    return np.array([\n",
    "          source_data**n for n in range(1, degree + 1)  \n",
    "    ]).T"
   ]
  },
  {
   "cell_type": "markdown",
   "metadata": {},
   "source": [
    "Определим наилучшую степень полинома и визуализируем значение score:"
   ]
  },
  {
   "cell_type": "code",
   "execution_count": 10,
   "metadata": {},
   "outputs": [
    {
     "name": "stdout",
     "output_type": "stream",
     "text": [
      "Наилучшее значение степени полинома: 3\n",
      "score = 0.9313123641187704\n"
     ]
    },
    {
     "data": {
      "image/png": "[encoded data removed]",
      "text/plain": [
       "<Figure size 1152x576 with 1 Axes>"
      ]
     },
     "metadata": {
      "needs_background": "light"
     },
     "output_type": "display_data"
    }
   ],
   "source": [
    "scores = []\n",
    "start = 1  # начальная степень полинома\n",
    "stop = 100  # конечная степень\n",
    "\n",
    "for i in range(start, stop + 1):\n",
    "    X_train_i = generate_degrees(X_train, i)\n",
    "    X_test_i = generate_degrees(X_test, i)\n",
    "    reg_i = LinearRegression().fit(X_train_i, y_train)\n",
    "    \n",
    "    scores.append(reg_i.score(X_test_i, y_test))\n",
    "\n",
    "best_pol = scores.index(max(scores)) + start  # лучшее значение полинома\n",
    "print(f'Наилучшее значение степени полинома: {best_pol}\\nscore = {max(scores)}')\n",
    "\n",
    "indexes = np.arange(len(scores)) + 1\n",
    "plt.figure(figsize=(16, 8))\n",
    "plt.plot(indexes, scores, linewidth=2)\n",
    "plt.xlabel('Степень полинома')\n",
    "plt.ylabel('Значение score')\n",
    "plt.show()"
   ]
  },
  {
   "cell_type": "markdown",
   "metadata": {},
   "source": [
    "Построим график с наилучшей степенью полинома:"
   ]
  },
  {
   "cell_type": "code",
   "execution_count": 11,
   "metadata": {},
   "outputs": [
    {
     "data": {
      "image/png": "[encoded data removed]",
      "text/plain": [
       "<Figure size 432x288 with 1 Axes>"
      ]
     },
     "metadata": {
      "needs_background": "light"
     },
     "output_type": "display_data"
    }
   ],
   "source": [
    "X_train_best = generate_degrees(X_train, best_pol)\n",
    "X_test_best = generate_degrees(X_test, best_pol)\n",
    "reg_best = LinearRegression().fit(X_train_best, y_train)\n",
    "\n",
    "# строим график\n",
    "margin = 0.3\n",
    "support = np.arange(X.min(), X.max(), step=0.1)\n",
    "\n",
    "X_test_support = generate_degrees(support, best_pol)\n",
    "y_hat = reg_best.predict(X_test_support)\n",
    "\n",
    "plt.plot(support, y_hat, 'b--', alpha=0.5, label='prediction')\n",
    "plt.scatter(X_train, y_train, 40, 'g', 'o', alpha=0.8, label='data')\n",
    "plt.xlim(X.min() - margin, X.max() + margin)\n",
    "plt.ylim(y.min() - margin, y.max() + margin)\n",
    "plt.legend(loc='upper right', prop={'size': 13})\n",
    "plt.title('Fitted linear regression')\n",
    "plt.xlabel('x')\n",
    "plt.ylabel('y')\n",
    "plt.show()"
   ]
  }
 ],
 "metadata": {
  "kernelspec": {
   "display_name": "Python 3",
   "language": "python",
   "name": "python3"
  },
  "language_info": {
   "codemirror_mode": {
    "name": "ipython",
    "version": 3
   },
   "file_extension": ".py",
   "mimetype": "text/x-python",
   "name": "python",
   "nbconvert_exporter": "python",
   "pygments_lexer": "ipython3",
   "version": "3.8.5"
  }
 },
 "nbformat": 4,
 "nbformat_minor": 4
}
